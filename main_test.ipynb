{
 "cells": [
  {
   "cell_type": "markdown",
   "id": "220a514b-f6f6-464e-a1a1-2deed37ca3dd",
   "metadata": {},
   "source": [
    "# imports of functions"
   ]
  },
  {
   "cell_type": "code",
   "execution_count": 1,
   "id": "4b1fc516-572f-4a62-a678-e8ee4bf016f7",
   "metadata": {},
   "outputs": [],
   "source": [
    "from utils import download_granule_nsidc, edc, read_atl03"
   ]
  },
  {
   "cell_type": "markdown",
   "id": "3e9553cd-2c69-40f8-811f-2da52f5cc2ef",
   "metadata": {},
   "source": [
    "# arguments for future script"
   ]
  },
  {
   "cell_type": "code",
   "execution_count": 2,
   "id": "32119103-fcf1-48f9-bb42-63cd9fb61e80",
   "metadata": {},
   "outputs": [],
   "source": [
    "granule = 'ATL03_20210715182907_03381203_005_01.h5'\n",
    "shapefile = '/shapefiles/jakobshavn_test.shp'"
   ]
  },
  {
   "cell_type": "markdown",
   "id": "aa23f7d2-54f8-48e1-9577-4d2d3a068333",
   "metadata": {},
   "source": [
    "# download the specified granule via NSIDC\n",
    "...and subset to the provided shapefile / only pull the variables needed"
   ]
  },
  {
   "cell_type": "code",
   "execution_count": 3,
   "id": "a08889d3-fb53-4e97-8899-306ca3187111",
   "metadata": {},
   "outputs": [],
   "source": [
    "datadir = '/IS2data'"
   ]
  },
  {
   "cell_type": "code",
   "execution_count": null,
   "id": "8a75ad7b-1857-4370-b8ae-81f60ddb48d6",
   "metadata": {},
   "outputs": [],
   "source": [
    "%%capture celloutput # just to not show all the outputs\n",
    "c = edc()\n",
    "download_granule_nsidc(granule, shapefile, datadir, c.u, c.p)"
   ]
  },
  {
   "cell_type": "markdown",
   "id": "58859ed9-f9ec-4aa5-9b5e-abd1d5836adf",
   "metadata": {},
   "source": [
    "# read in the .h5 subsetted granule file"
   ]
  },
  {
   "cell_type": "code",
   "execution_count": 4,
   "id": "0e324277-c1da-4634-be54-7b0c2455dfd1",
   "metadata": {},
   "outputs": [
    {
     "name": "stdout",
     "output_type": "stream",
     "text": [
      "\n",
      "Number of processed ATL03 granules to read in: 1\n",
      "  reading in IS2data/processed_ATL03_20210715182907_03381203_005_01.h5\n",
      "  reading in beam: gt1l gt1r gt2l gt2r gt3l gt3r  --> done.\n"
     ]
    }
   ],
   "source": [
    "from os import listdir, makedirs\n",
    "from os.path import isfile, join, exists\n",
    "import os\n",
    "filelist = [datadir[1:]+'/'+f for f in listdir(datadir[1:]) if isfile(join(datadir[1:], f)) & ('.h5' in f)]\n",
    "print('\\nNumber of processed ATL03 granules to read in: ' + str(len(filelist)))\n",
    "    \n",
    "photon_data, bckgrd_data, ancillary = read_atl03(filelist[0], geoid_h=True)"
   ]
  },
  {
   "cell_type": "code",
   "execution_count": 6,
   "id": "c68ba4a7-f2dc-4ec0-9c1a-71abc57d4da5",
   "metadata": {},
   "outputs": [
    {
     "data": {
      "text/plain": [
       "729032263"
      ]
     },
     "execution_count": 6,
     "metadata": {},
     "output_type": "execute_result"
    }
   ],
   "source": []
  },
  {
   "cell_type": "code",
   "execution_count": null,
   "id": "dc99b070-3195-4b84-b6f8-80fc6e2bcc7e",
   "metadata": {},
   "outputs": [],
   "source": []
  },
  {
   "cell_type": "code",
   "execution_count": null,
   "id": "2960f658-2206-44b3-ab33-cc3142c9b008",
   "metadata": {},
   "outputs": [],
   "source": []
  },
  {
   "cell_type": "code",
   "execution_count": null,
   "id": "ba6126b8-19e0-4836-8f67-e4c5ab296034",
   "metadata": {},
   "outputs": [],
   "source": [
    "read_atl03"
   ]
  },
  {
   "cell_type": "code",
   "execution_count": null,
   "id": "e50cc360-cb90-465e-b235-c2002a5f4f89",
   "metadata": {},
   "outputs": [],
   "source": [
    "help(read_atl03)"
   ]
  },
  {
   "cell_type": "code",
   "execution_count": null,
   "id": "4ae0c409-785f-4f5d-84d5-39e94e360809",
   "metadata": {},
   "outputs": [],
   "source": [
    "help(download_granule_nsidc)"
   ]
  },
  {
   "cell_type": "code",
   "execution_count": null,
   "id": "dc9ea6f7-6c56-4740-af63-018689206c06",
   "metadata": {},
   "outputs": [],
   "source": [
    "print(celloutput)"
   ]
  },
  {
   "cell_type": "code",
   "execution_count": null,
   "id": "64e80891-6f36-4c61-bca9-2846a025ae3a",
   "metadata": {},
   "outputs": [],
   "source": []
  },
  {
   "cell_type": "code",
   "execution_count": null,
   "id": "87572563-1f64-4216-816c-85595ee63963",
   "metadata": {},
   "outputs": [],
   "source": []
  }
 ],
 "metadata": {
  "kernelspec": {
   "display_name": "icepyx-env",
   "language": "python",
   "name": "icepyx-env"
  },
  "language_info": {
   "codemirror_mode": {
    "name": "ipython",
    "version": 3
   },
   "file_extension": ".py",
   "mimetype": "text/x-python",
   "name": "python",
   "nbconvert_exporter": "python",
   "pygments_lexer": "ipython3",
   "version": "3.9.4"
  }
 },
 "nbformat": 4,
 "nbformat_minor": 5
}

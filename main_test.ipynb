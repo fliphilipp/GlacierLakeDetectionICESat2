{
 "cells": [
  {
   "cell_type": "markdown",
   "id": "220a514b-f6f6-464e-a1a1-2deed37ca3dd",
   "metadata": {},
   "source": [
    "# imports of functions"
   ]
  },
  {
   "cell_type": "code",
   "execution_count": 1,
   "id": "4b1fc516-572f-4a62-a678-e8ee4bf016f7",
   "metadata": {},
   "outputs": [],
   "source": [
    "from utils import *\n",
    "from os import listdir, makedirs\n",
    "from os.path import isfile, join, exists\n",
    "import os"
   ]
  },
  {
   "cell_type": "markdown",
   "id": "3e9553cd-2c69-40f8-811f-2da52f5cc2ef",
   "metadata": {},
   "source": [
    "# arguments for future script"
   ]
  },
  {
   "cell_type": "code",
   "execution_count": 2,
   "id": "32119103-fcf1-48f9-bb42-63cd9fb61e80",
   "metadata": {},
   "outputs": [],
   "source": [
    "granule = 'ATL03_20210715182907_03381203_005_01.h5'\n",
    "shapefile = '/shapefiles/jakobshavn_small.shp'\n",
    "gtxs = 'gt1l'"
   ]
  },
  {
   "cell_type": "markdown",
   "id": "aa23f7d2-54f8-48e1-9577-4d2d3a068333",
   "metadata": {},
   "source": [
    "# download the specified granule via NSIDC\n",
    "...and subset to the provided shapefile / only pull the variables needed"
   ]
  },
  {
   "cell_type": "code",
   "execution_count": 3,
   "id": "a08889d3-fb53-4e97-8899-306ca3187111",
   "metadata": {},
   "outputs": [],
   "source": [
    "datadir = '/IS2data'"
   ]
  },
  {
   "cell_type": "code",
   "execution_count": 4,
   "id": "8a75ad7b-1857-4370-b8ae-81f60ddb48d6",
   "metadata": {},
   "outputs": [
    {
     "name": "stdout",
     "output_type": "stream",
     "text": [
      "\n",
      "Downloading ICESat-2 data. Found granules:\n",
      "  ATL03_20210715182907_03381203_005_01.h5, 5065.14 MB\n",
      "\n",
      "Input shapefile: /shapefiles/jakobshavn_small.shp\n",
      "Simplified polygon coordinates based on shapefile input: -49.59098555896507,69.10415896488335,-50.33805587146507,68.42374368072217,-50.01945235584007,68.20452489563448,-48.47038009021507,68.14325568125464,-48.16276290271507,68.66085965388693,-48.12980391834007,69.0963205694427,-49.59098555896507,69.10415896488335\n",
      "\n",
      "API request URL:\n",
      "https://n5eil02u.ecs.nsidc.org/egi/request?short_name=ATL03&producer_granule_id=ATL03_20210715182907_03381203_005_01.h5&version=005&polygon=-49.59098555896507,69.10415896488335,-50.33805587146507,68.42374368072217,-50.01945235584007,68.20452489563448,-48.47038009021507,68.14325568125464,-48.16276290271507,68.66085965388693,-48.12980391834007,69.0963205694427,-49.59098555896507,69.10415896488335&Boundingshape={\"type\":\"FeatureCollection\",\"features\":[{\"id\":\"0\",\"type\":\"Feature\",\"properties\":{},\"geometry\":{\"type\":\"Polygon\",\"coordinates\":[[[-49.59098555896507,69.10415896488335],[-50.33805587146507,68.42374368072217],[-50.01945235584007,68.20452489563448],[-48.47038009021507,68.14325568125464],[-48.16276290271507,68.66085965388693],[-48.12980391834007,69.0963205694427],[-49.59098555896507,69.10415896488335]]]},\"bbox\":[-50.33805587146507,68.14325568125464,-48.12980391834007,69.10415896488335]}],\"bbox\":[-50.33805587146507,68.14325568125464,-48.12980391834007,69.10415896488335]}&Coverage=/ancillary_data/atlas_sdp_gps_epoch,/gt1l/bckgrd_atlas/bckgrd_counts,/gt1l/bckgrd_atlas/bckgrd_int_height,/gt1l/bckgrd_atlas/delta_time,/gt1l/bckgrd_atlas/pce_mframe_cnt,/gt1l/geolocation/ph_index_beg,/gt1l/geolocation/segment_dist_x,/gt1l/geolocation/segment_length,/gt1l/geophys_corr/dem_h,/gt1l/geophys_corr/geoid,/gt1l/heights/delta_time,/gt1l/heights/dist_ph_along,/gt1l/heights/h_ph,/gt1l/heights/lat_ph,/gt1l/heights/lon_ph,/gt1l/heights/pce_mframe_cnt,/gt1l/heights/quality_ph,/orbit_info/cycle_number,/orbit_info/rgt,/orbit_info/sc_orient&page_size=100&request_mode=stream&email=yes&page_num=1\n",
      "\n",
      "Order:  1\n",
      "Requesting...\n",
      "HTTP response from order response URL:  200\n",
      "Downloading...\n",
      "Data request 1 is complete.\n",
      "\n",
      "Unzipped files and cleaned up directory.\n",
      "Output data saved in: /IS2data\n"
     ]
    }
   ],
   "source": [
    "# %%capture celloutput \n",
    "c = edc()\n",
    "download_granule_nsidc(granule, gtxs, shapefile, datadir, c.u, c.p)"
   ]
  },
  {
   "cell_type": "markdown",
   "id": "58859ed9-f9ec-4aa5-9b5e-abd1d5836adf",
   "metadata": {},
   "source": [
    "# read in the .h5 subsetted granule file"
   ]
  },
  {
   "cell_type": "code",
   "execution_count": 5,
   "id": "0e324277-c1da-4634-be54-7b0c2455dfd1",
   "metadata": {},
   "outputs": [
    {
     "name": "stdout",
     "output_type": "stream",
     "text": [
      "\n",
      "Number of processed ATL03 granules to read in: 1\n",
      "  reading in IS2data/processed_ATL03_20210715182907_03381203_005_01.h5\n",
      "  reading in beam: gt1l  --> done.\n",
      "\n",
      "*********************************\n",
      "** GRANULE INFO AND STATISTICS **\n",
      "*********************************\n",
      "\n",
      "ATL03_20210715182907_03381203_005_01.h5\n",
      "RGT: 338\n",
      "cycle number: 12\n",
      "spacecraft orientation: forward\n",
      "beam configuation:\n",
      "  gt1l : beam 6 (weak)\n",
      "  gt1r : beam 5 (strong)\n",
      "  gt2l : beam 4 (weak)\n",
      "  gt2r : beam 3 (strong)\n",
      "  gt3l : beam 2 (weak)\n",
      "  gt3r : beam 1 (strong)\n",
      "\n",
      "PHOTON DATA SUMMARY FOR BEAM GT1L\n",
      "          count  nans           min           max\n",
      "lat     2593192     0  6.817861e+01  6.904634e+01\n",
      "lon     2593192     0 -4.965467e+01 -4.936601e+01\n",
      "h       2593192     0 -2.645939e+02  1.594183e+03\n",
      "dt      2593192     0  1.116091e+08  1.116091e+08\n",
      "mframe  2593192     0  3.213661e+09  3.213661e+09\n",
      "qual    2593192     0  0.000000e+00  2.000000e+00\n",
      "xatc    2593192     0  7.603724e+06  7.701219e+06\n",
      "geoid   2593192     0  2.883285e+01  3.212764e+01\n",
      "\n"
     ]
    }
   ],
   "source": [
    "filelist = [datadir[1:]+'/'+f for f in listdir(datadir[1:]) if isfile(join(datadir[1:], f)) & ('.h5' in f)]\n",
    "print('\\nNumber of processed ATL03 granules to read in: ' + str(len(filelist)))\n",
    "    \n",
    "photon_data, bckgrd_data, ancillary = read_atl03(filelist[0], geoid_h=True)\n",
    "print_granule_stats(photon_data, bckgrd_data, ancillary, outfile='stats.txt')"
   ]
  },
  {
   "cell_type": "code",
   "execution_count": null,
   "id": "6c6ca06e-4313-48dc-8811-090055eaf0aa",
   "metadata": {},
   "outputs": [],
   "source": []
  },
  {
   "cell_type": "code",
   "execution_count": null,
   "id": "85e13da2-edd2-41d6-8323-1e6769230eac",
   "metadata": {},
   "outputs": [],
   "source": []
  }
 ],
 "metadata": {
  "kernelspec": {
   "display_name": "icepyx-env",
   "language": "python",
   "name": "icepyx-env"
  },
  "language_info": {
   "codemirror_mode": {
    "name": "ipython",
    "version": 3
   },
   "file_extension": ".py",
   "mimetype": "text/x-python",
   "name": "python",
   "nbconvert_exporter": "python",
   "pygments_lexer": "ipython3",
   "version": "3.9.4"
  }
 },
 "nbformat": 4,
 "nbformat_minor": 5
}

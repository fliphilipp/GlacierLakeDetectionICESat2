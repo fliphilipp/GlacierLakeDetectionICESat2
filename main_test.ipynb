{
 "cells": [
  {
   "cell_type": "markdown",
   "id": "220a514b-f6f6-464e-a1a1-2deed37ca3dd",
   "metadata": {},
   "source": [
    "# imports of functions"
   ]
  },
  {
   "cell_type": "code",
   "execution_count": 1,
   "id": "4b1fc516-572f-4a62-a678-e8ee4bf016f7",
   "metadata": {},
   "outputs": [],
   "source": [
    "from utils import *\n",
    "from os import listdir, makedirs\n",
    "from os.path import isfile, join, exists\n",
    "import os"
   ]
  },
  {
   "cell_type": "markdown",
   "id": "3e9553cd-2c69-40f8-811f-2da52f5cc2ef",
   "metadata": {},
   "source": [
    "# arguments for future script"
   ]
  },
  {
   "cell_type": "code",
   "execution_count": 2,
   "id": "32119103-fcf1-48f9-bb42-63cd9fb61e80",
   "metadata": {},
   "outputs": [],
   "source": [
    "granule = 'ATL03_20210715182907_03381203_005_01.h5'\n",
    "shapefile = '/shapefiles/jakobshavn_small.shp'"
   ]
  },
  {
   "cell_type": "markdown",
   "id": "aa23f7d2-54f8-48e1-9577-4d2d3a068333",
   "metadata": {},
   "source": [
    "# download the specified granule via NSIDC\n",
    "...and subset to the provided shapefile / only pull the variables needed"
   ]
  },
  {
   "cell_type": "code",
   "execution_count": 3,
   "id": "a08889d3-fb53-4e97-8899-306ca3187111",
   "metadata": {},
   "outputs": [],
   "source": [
    "datadir = '/IS2data'"
   ]
  },
  {
   "cell_type": "code",
   "execution_count": 4,
   "id": "8a75ad7b-1857-4370-b8ae-81f60ddb48d6",
   "metadata": {},
   "outputs": [],
   "source": [
    "%%capture celloutput \n",
    "c = edc()\n",
    "download_granule_nsidc(granule, shapefile, datadir, c.u, c.p)"
   ]
  },
  {
   "cell_type": "markdown",
   "id": "58859ed9-f9ec-4aa5-9b5e-abd1d5836adf",
   "metadata": {},
   "source": [
    "# read in the .h5 subsetted granule file"
   ]
  },
  {
   "cell_type": "code",
   "execution_count": 5,
   "id": "0e324277-c1da-4634-be54-7b0c2455dfd1",
   "metadata": {},
   "outputs": [
    {
     "name": "stdout",
     "output_type": "stream",
     "text": [
      "\n",
      "Number of processed ATL03 granules to read in: 1\n",
      "  reading in IS2data/processed_ATL03_20210715182907_03381203_005_01.h5\n",
      "  reading in beam: gt1l gt1r gt2l gt2r gt3l gt3r  --> done.\n",
      "\n",
      "*********************************\n",
      "** GRANULE INFO AND STATISTICS **\n",
      "*********************************\n",
      "\n",
      "ATL03_20210715182907_03381203_005_01.h5\n",
      "RGT: 338\n",
      "cycle number: 12\n",
      "spacecraft orientation: forward\n",
      "beam configuation:\n",
      "  gt1l : beam 6 (weak)\n",
      "  gt1r : beam 5 (strong)\n",
      "  gt2l : beam 4 (weak)\n",
      "  gt2r : beam 3 (strong)\n",
      "  gt3l : beam 2 (weak)\n",
      "  gt3r : beam 1 (strong)\n",
      "\n",
      "PHOTON DATA SUMMARY FOR BEAM GT1L\n",
      "          count  nans           min           max\n",
      "lat     2593192     0  6.817861e+01  6.904634e+01\n",
      "lon     2593192     0 -4.965467e+01 -4.936601e+01\n",
      "h       2593192     0 -2.645939e+02  1.594183e+03\n",
      "dt      2593192     0  1.116091e+08  1.116091e+08\n",
      "mframe  2593192     0  3.213661e+09  3.213661e+09\n",
      "qual    2593192     0  0.000000e+00  2.000000e+00\n",
      "xatc    2593192     0  7.603724e+06  7.701219e+06\n",
      "geoid   2593192     0  2.883285e+01  3.212764e+01\n",
      "\n",
      "PHOTON DATA SUMMARY FOR BEAM GT1R\n",
      "          count  nans           min           max\n",
      "lat     3304806     0  6.817853e+01  6.904786e+01\n",
      "lon     3304806     0 -4.965278e+01 -4.936373e+01\n",
      "h       3304806     0 -2.579465e+02  1.600759e+03\n",
      "dt      3304806     0  1.116091e+08  1.116091e+08\n",
      "mframe  3304806     0  3.213661e+09  3.213661e+09\n",
      "qual    3304806     0  0.000000e+00  2.000000e+00\n",
      "xatc    3304806     0  7.603704e+06  7.701377e+06\n",
      "geoid   3304806     0  2.883207e+01  3.213269e+01\n",
      "\n",
      "PHOTON DATA SUMMARY FOR BEAM GT2L\n",
      "          count  nans           min           max\n",
      "lat     3054318     0  6.817545e+01  6.910214e+01\n",
      "lon     3054318     0 -4.959167e+01 -4.928647e+01\n",
      "h       3054318     0 -2.555678e+02  1.652071e+03\n",
      "dt      3054318     0  1.116091e+08  1.116091e+08\n",
      "mframe  3054318     0  1.573425e+09  1.573426e+09\n",
      "qual    3054318     0  0.000000e+00  2.000000e+00\n",
      "xatc    3054318     0  7.602983e+06  7.707092e+06\n",
      "geoid   3054318     0  2.882667e+01  3.230829e+01\n",
      "\n",
      "PHOTON DATA SUMMARY FOR BEAM GT2R\n",
      "          count  nans           min           max\n",
      "lat     3619118     0  6.817537e+01  6.910410e+01\n",
      "lon     3619118     0 -4.959000e+01 -4.928421e+01\n",
      "h       3619118     0 -2.480983e+02  1.658371e+03\n",
      "dt      3619118     0  1.116091e+08  1.116091e+08\n",
      "mframe  3619118     0  1.573425e+09  1.573426e+09\n",
      "qual    3619118     0  0.000000e+00  2.000000e+00\n",
      "xatc    3619118     0  7.602964e+06  7.707301e+06\n",
      "geoid   3619118     0  2.882730e+01  3.231349e+01\n",
      "\n",
      "PHOTON DATA SUMMARY FOR BEAM GT3L\n",
      "          count  nans           min           max\n",
      "lat     2786674     0  6.817245e+01  6.910377e+01\n",
      "lon     2786674     0 -4.951024e+01 -4.920664e+01\n",
      "h       2786674     0 -8.172669e+01  1.662623e+03\n",
      "dt      2786674     0  1.116091e+08  1.116091e+08\n",
      "mframe  2786674     0  3.213947e+09  3.213947e+09\n",
      "qual    2786674     0  0.000000e+00  2.000000e+00\n",
      "xatc    2786674     0  7.602263e+06  7.706883e+06\n",
      "geoid   2786674     0  2.903711e+01  3.249536e+01\n",
      "\n",
      "PHOTON DATA SUMMARY FOR BEAM GT3R\n",
      "          count  nans           min           max\n",
      "lat     3817898     0  6.817235e+01  6.910366e+01\n",
      "lon     3817898     0 -4.950806e+01 -4.920479e+01\n",
      "h       3817898     0  5.141913e+01  1.667239e+03\n",
      "dt      3817898     0  1.116091e+08  1.116091e+08\n",
      "mframe  3817898     0  3.213947e+09  3.213947e+09\n",
      "qual    3817898     0  0.000000e+00  2.000000e+00\n",
      "xatc    3817898     0  7.602243e+06  7.706861e+06\n",
      "geoid   3817898     0  2.904295e+01  3.249989e+01\n",
      "\n"
     ]
    }
   ],
   "source": [
    "filelist = [datadir[1:]+'/'+f for f in listdir(datadir[1:]) if isfile(join(datadir[1:], f)) & ('.h5' in f)]\n",
    "print('\\nNumber of processed ATL03 granules to read in: ' + str(len(filelist)))\n",
    "    \n",
    "photon_data, bckgrd_data, ancillary = read_atl03(filelist[0], geoid_h=True)\n",
    "print_granule_stats(photon_data, bckgrd_data, ancillary, outfile='stats.txt')"
   ]
  },
  {
   "cell_type": "code",
   "execution_count": 6,
   "id": "5778f9f4-ee9e-4632-a794-a00a7488ca3c",
   "metadata": {},
   "outputs": [],
   "source": [
    "# print_granule_stats(photon_data, bckgrd_data, ancillary, outfile='stats.txt')"
   ]
  },
  {
   "cell_type": "code",
   "execution_count": null,
   "id": "60c9d876-5711-49d7-9081-15791caf69b7",
   "metadata": {},
   "outputs": [],
   "source": []
  }
 ],
 "metadata": {
  "kernelspec": {
   "display_name": "icepyx-env",
   "language": "python",
   "name": "icepyx-env"
  },
  "language_info": {
   "codemirror_mode": {
    "name": "ipython",
    "version": 3
   },
   "file_extension": ".py",
   "mimetype": "text/x-python",
   "name": "python",
   "nbconvert_exporter": "python",
   "pygments_lexer": "ipython3",
   "version": "3.9.4"
  }
 },
 "nbformat": 4,
 "nbformat_minor": 5
}

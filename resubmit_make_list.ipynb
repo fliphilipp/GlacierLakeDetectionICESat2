{
 "cells": [
  {
   "cell_type": "code",
   "execution_count": 3,
   "id": "1ef4073d-579d-4ee6-a824-8c63733c178a",
   "metadata": {},
   "outputs": [],
   "source": [
    "import pandas as pd\n",
    "import numpy as np"
   ]
  },
  {
   "cell_type": "code",
   "execution_count": 4,
   "id": "0a7a1f56-165f-4e72-bfb2-5edcb990bf4d",
   "metadata": {},
   "outputs": [],
   "source": [
    "def write_granule_list(input_list):\n",
    "    df = pd.read_csv(input_list, header=None, names=['fn','hold_reason'])\n",
    "    df['is_memory'] = df.apply(lambda x: 'exceeded request_memory' in x.hold_reason, axis=1)\n",
    "    df['granule'] = df.apply(lambda x: x.fn[x.fn.find('ATL03_'):x.fn.find('.h5')+3], axis=1)\n",
    "    def get_description(x):\n",
    "        substr = x.fn[x.fn.find('job_')+4:x.fn.find('_ATL03_')]\n",
    "        return substr[:substr.rfind('-')]\n",
    "    df['description'] = df.apply(get_description, axis=1)\n",
    "    def get_geojson(x):\n",
    "        parms = x.description.split('_')\n",
    "        parms[0] = 'ANT' if parms[0] == 'AIS' else 'GRE'\n",
    "        del parms[1]\n",
    "        return 'geojsons/simplified_' + '_'.join(parms) + '.geojson'\n",
    "    df['geojson'] = df.apply(get_geojson, axis=1)\n",
    "    df['geojson_full'] = df.apply(lambda x: x.geojson.replace('simplified_', ''), axis=1)\n",
    "    df = df[['granule','geojson','description','geojson_full','fn','hold_reason','is_memory']]\n",
    "    df.to_csv(input_list.replace('.csv', '_processed.csv'))\n",
    "    \n",
    "    df_mem = df[df.is_memory]\n",
    "    df_nomem = df[~df.is_memory]\n",
    "    \n",
    "    df_mem = df_mem.drop(columns=['fn','hold_reason','is_memory'])\n",
    "    df_nomem = df_nomem.drop(columns=['fn','hold_reason','is_memory'])\n",
    "    \n",
    "    fn_mem = input_list.replace('hold_lists/', 'granule_lists/').replace('final_', 'memory_')\n",
    "    fn_nomem = input_list.replace('hold_lists/', 'granule_lists/').replace('final_', 'resubmit_')\n",
    "    \n",
    "    df_mem.to_csv(fn_mem, header=False, index=False)\n",
    "    print('Wrote file %s. (%i jobs)' % (fn_mem, len(df_mem)))\n",
    "    df_nomem.to_csv(fn_nomem, header=False, index=False)\n",
    "    print('Wrote file %s. (%i jobs)' % (fn_nomem, len(df_nomem)))\n",
    "\n",
    "    return fn_mem, fn_nomem\n",
    "\n",
    "def write_submit_file(list_fn, sub_fn=None, mem_gb=16): \n",
    "    if not sub_fn:\n",
    "        sub_fn = list_fn.replace('granule_lists/', 'HTCondor_submit/').replace('.csv', '.submit')\n",
    "    \n",
    "    f = open(sub_fn, \"w\")\n",
    "    print('universe    = vanilla', file=f)\n",
    "    print('+SingularityImage = \"osdf:///ospool/ap21/data/fliphilipp/containers/icelake-container_v1.sif\"', file=f)\n",
    "    print('Requirements = HAS_SINGULARITY == True && OSG_HOST_KERNEL_VERSION >= 31000', file=f)\n",
    "    print('executable  = run_py.sh', file=f)\n",
    "    print('arguments = $(granule) $(polygon)', file=f)\n",
    "    print('max_retries = 30', file=f)\n",
    "    print('success_exit_code = 69', file=f)\n",
    "    print('transfer_input_files = detect_lakes.py, icelakes/__init__.py, icelakes/utilities.py, icelakes/nsidc.py, icelakes/detection.py, misc/test1, misc/test2, $(polygon), $(polygon_full)', file=f)\n",
    "    print('transfer_output_files = detection_out_data, detection_out_plot, detection_out_stat', file=f)\n",
    "    print('should_transfer_files = YES', file=f)\n",
    "    print('when_to_transfer_output = ON_EXIT', file=f)\n",
    "    print('log           = logs/job_$(descriptor)-$(ClusterID)_$(granule)-$(ProcID).log', file=f)\n",
    "    print('error         = errs/job_$(descriptor)-$(ClusterID)_$(granule)-$(ProcID).err', file=f)\n",
    "    print('output        = outs/job_$(descriptor)-$(ClusterID)_$(granule)-$(ProcID).out', file=f)\n",
    "    print('request_cpus    = 1', file=f)\n",
    "    print('request_memory  = %iGB' % mem_gb, file=f)\n",
    "    print('request_disk    = %iGB' % mem_gb, file=f)\n",
    "    print('queue granule,polygon,descriptor,polygon_full from %s' % list_fn, file=f)\n",
    "    f.close()\n",
    "    \n",
    "    print('Wrote file %s.\\n' % sub_fn)"
   ]
  },
  {
   "cell_type": "markdown",
   "id": "1cc1d56b-4b93-435b-a967-d5f6fb5ee1eb",
   "metadata": {},
   "source": [
    "## Inital submit files"
   ]
  },
  {
   "cell_type": "code",
   "execution_count": 3,
   "id": "05722059-13db-4f37-9916-aa1544d00da8",
   "metadata": {},
   "outputs": [
    {
     "name": "stdout",
     "output_type": "stream",
     "text": [
      "Wrote file HTCondor_submit/GRE_2000_May2019_Jun2023.submit.\n",
      "\n",
      "Wrote file HTCondor_submit/ANT_1000_Dec2018_Mar2021.submit.\n",
      "\n",
      "Wrote file HTCondor_submit/ANT_1000_Dec2021_Mar2023.submit.\n",
      "\n"
     ]
    }
   ],
   "source": [
    "write_submit_file('granule_lists/GRE_2000_May2019_Jun2023.csv', mem_gb=16)\n",
    "write_submit_file('granule_lists/ANT_1000_Dec2018_Mar2021.csv', mem_gb=16)\n",
    "write_submit_file('granule_lists/ANT_1000_Dec2021_Mar2023.csv', mem_gb=16)"
   ]
  },
  {
   "cell_type": "code",
   "execution_count": 4,
   "id": "2a7eb967-060d-4c68-8f4c-334d2e10146b",
   "metadata": {},
   "outputs": [
    {
     "name": "stdout",
     "output_type": "stream",
     "text": [
      "Wrote file HTCondor_submit/extra_shoulderseason_GRE_2000_ANT_1000.submit.\n",
      "\n"
     ]
    }
   ],
   "source": [
    "write_submit_file('granule_lists/extra_shoulderseason_GRE_2000_ANT_1000.csv', mem_gb=16)"
   ]
  },
  {
   "cell_type": "markdown",
   "id": "2d185586-2579-40aa-a630-08bc69e495b7",
   "metadata": {},
   "source": [
    "## TODO before next run: \n",
    "- make sure code runs properly locally\n",
    "- then change sleep time to 1000 or something "
   ]
  },
  {
   "cell_type": "code",
   "execution_count": 11,
   "id": "4707474f-29c3-4acc-8c57-70fce50c91e3",
   "metadata": {},
   "outputs": [
    {
     "name": "stdout",
     "output_type": "stream",
     "text": [
      "final_ant-2123-1-138198.csv\n",
      "final_ant-2123-1-138198_processed.csv\n",
      "final_ant1821-1-138197.csv\n",
      "final_ant1821-1-138197_processed.csv\n",
      "final_extra-months-1-169920.csv\n",
      "final_extra-months-1-169920_processed.csv\n",
      "final_gre1823-1-138199.csv\n",
      "final_gre1823-1-138199_processed.csv\n"
     ]
    }
   ],
   "source": [
    "! ls hold_lists"
   ]
  },
  {
   "cell_type": "code",
   "execution_count": 6,
   "id": "051cf394-6008-4d58-915d-836770eba5db",
   "metadata": {},
   "outputs": [
    {
     "name": "stdout",
     "output_type": "stream",
     "text": [
      "Wrote file granule_lists/memory_ant1821-1-138197.csv. (91 jobs)\n",
      "Wrote file granule_lists/resubmit_ant1821-1-138197.csv. (1763 jobs)\n"
     ]
    }
   ],
   "source": [
    "input_list = 'hold_lists/final_ant1821-1-138197.csv'\n",
    "fn_mem, fn_nomem = write_granule_list(input_list)"
   ]
  },
  {
   "cell_type": "code",
   "execution_count": 8,
   "id": "9b721c4b-ad8c-4d0e-b673-fb805336ede0",
   "metadata": {},
   "outputs": [
    {
     "name": "stdout",
     "output_type": "stream",
     "text": [
      "Wrote file granule_lists/memory_ant-2123-1-138198.csv. (53 jobs)\n",
      "Wrote file granule_lists/resubmit_ant-2123-1-138198.csv. (56 jobs)\n"
     ]
    }
   ],
   "source": [
    "input_list = 'hold_lists/final_ant-2123-1-138198.csv'\n",
    "fn_mem, fn_nomem = write_granule_list(input_list)"
   ]
  },
  {
   "cell_type": "code",
   "execution_count": 9,
   "id": "bed8ad40-cf03-4fb8-8fe8-649bf7702848",
   "metadata": {},
   "outputs": [
    {
     "name": "stdout",
     "output_type": "stream",
     "text": [
      "Wrote file granule_lists/memory_gre1823-1-138199.csv. (133 jobs)\n",
      "Wrote file granule_lists/resubmit_gre1823-1-138199.csv. (867 jobs)\n"
     ]
    }
   ],
   "source": [
    "input_list = 'hold_lists/final_gre1823-1-138199.csv'\n",
    "fn_mem, fn_nomem = write_granule_list(input_list)"
   ]
  },
  {
   "cell_type": "code",
   "execution_count": 10,
   "id": "fcac0c38-b178-4965-9442-529f37d6e639",
   "metadata": {},
   "outputs": [
    {
     "name": "stdout",
     "output_type": "stream",
     "text": [
      "Wrote file granule_lists/memory_extra-months-1-169920.csv. (40 jobs)\n",
      "Wrote file granule_lists/resubmit_extra-months-1-169920.csv. (1294 jobs)\n"
     ]
    }
   ],
   "source": [
    "input_list = 'hold_lists/final_extra-months-1-169920.csv'\n",
    "fn_mem, fn_nomem = write_granule_list(input_list)"
   ]
  },
  {
   "cell_type": "code",
   "execution_count": 22,
   "id": "90cf50b8-b137-4b17-9ea0-40a245b51624",
   "metadata": {},
   "outputs": [
    {
     "name": "stdout",
     "output_type": "stream",
     "text": [
      "granule_lists/resubmit_all_2.csv\n",
      "Number of ganules over Greenland: 1980\n",
      "Number of ganules over Antarctica: 2000\n",
      "Total number of granules: 3980\n",
      "Wrote file HTCondor_submit/resubmit_all_2.submit.\n",
      "\n"
     ]
    }
   ],
   "source": [
    "file_list_resub1 = [\n",
    "    'granule_lists/resubmit_ant1821-1-138197.csv',\n",
    "    'granule_lists/resubmit_ant-2123-1-138198.csv',\n",
    "    'granule_lists/resubmit_gre1823-1-138199.csv',\n",
    "    'granule_lists/resubmit_extra-months-1-169920.csv'\n",
    "]\n",
    "out_name = 'granule_lists/resubmit_all_2.csv'\n",
    "dfs = []\n",
    "for fn in file_list_resub1:\n",
    "    dfs.append(pd.read_csv(fn,header=None))\n",
    "dfb = pd.concat(dfs).reset_index(drop=True)\n",
    "dfb.to_csv(out_name, header=False, index=False)\n",
    "\n",
    "print(out_name)\n",
    "print('Number of ganules over Greenland:', np.sum(dfb.apply(lambda x: 'GrIS' in x.loc[2], axis=1)))\n",
    "print('Number of ganules over Antarctica:', np.sum(dfb.apply(lambda x: 'AIS' in x.loc[2], axis=1)))\n",
    "print('Total number of granules:', len(dfb))\n",
    "write_submit_file(out_name, mem_gb=16)"
   ]
  },
  {
   "cell_type": "code",
   "execution_count": 23,
   "id": "584b4041-fc7f-4bc0-8914-0d71b2bedd69",
   "metadata": {},
   "outputs": [
    {
     "name": "stdout",
     "output_type": "stream",
     "text": [
      "granule_lists/memory_resubmit_all_2.csv\n",
      "Number of ganules over Greenland: 135\n",
      "Number of ganules over Antarctica: 182\n",
      "Total number of granules: 317\n",
      "Wrote file HTCondor_submit/memory_resubmit_all_2.submit.\n",
      "\n"
     ]
    }
   ],
   "source": [
    "file_list_resub1 = [\n",
    "    'granule_lists/memory_ant1821-1-138197.csv',\n",
    "    'granule_lists/memory_ant-2123-1-138198.csv',\n",
    "    'granule_lists/memory_gre1823-1-138199.csv',\n",
    "    'granule_lists/memory_extra-months-1-169920.csv'\n",
    "]\n",
    "out_name = 'granule_lists/memory_resubmit_all_2.csv'\n",
    "dfs = []\n",
    "for fn in file_list_resub1:\n",
    "    dfs.append(pd.read_csv(fn,header=None))\n",
    "dfb = pd.concat(dfs).reset_index(drop=True)\n",
    "dfb.to_csv(out_name, header=False, index=False)\n",
    "\n",
    "print(out_name)\n",
    "print('Number of ganules over Greenland:', np.sum(dfb.apply(lambda x: 'GrIS' in x.loc[2], axis=1)))\n",
    "print('Number of ganules over Antarctica:', np.sum(dfb.apply(lambda x: 'AIS' in x.loc[2], axis=1)))\n",
    "print('Total number of granules:', len(dfb))\n",
    "write_submit_file(out_name, mem_gb=32)"
   ]
  },
  {
   "cell_type": "code",
   "execution_count": null,
   "id": "cd5a9e16-808b-4f82-ac19-306eaf9ae0ab",
   "metadata": {},
   "outputs": [],
   "source": []
  },
  {
   "cell_type": "code",
   "execution_count": null,
   "id": "fe387a69-cf72-479e-982c-85f2ffb4e791",
   "metadata": {},
   "outputs": [],
   "source": []
  },
  {
   "cell_type": "code",
   "execution_count": null,
   "id": "7bf92c05-ee60-4d2d-9443-61487729efc5",
   "metadata": {},
   "outputs": [],
   "source": []
  },
  {
   "cell_type": "code",
   "execution_count": null,
   "id": "0ac53093-3ac0-42f1-a4f6-29c3087c585d",
   "metadata": {},
   "outputs": [],
   "source": []
  },
  {
   "cell_type": "code",
   "execution_count": null,
   "id": "295b56ee-4e78-46a4-a4c9-dd2c5f4c4e04",
   "metadata": {},
   "outputs": [],
   "source": []
  },
  {
   "cell_type": "code",
   "execution_count": null,
   "id": "48eb06fc-2cfa-4e84-9038-945f40d1ab26",
   "metadata": {},
   "outputs": [],
   "source": []
  },
  {
   "cell_type": "code",
   "execution_count": null,
   "id": "fef6616c-5523-4d62-872c-39353943228d",
   "metadata": {},
   "outputs": [],
   "source": []
  },
  {
   "cell_type": "code",
   "execution_count": null,
   "id": "5c3aad88-c863-4782-9e69-b018f79127a3",
   "metadata": {},
   "outputs": [],
   "source": []
  },
  {
   "cell_type": "code",
   "execution_count": null,
   "id": "5d338a20-655f-4218-b69d-3269c400cf15",
   "metadata": {},
   "outputs": [],
   "source": []
  },
  {
   "cell_type": "code",
   "execution_count": null,
   "id": "b4e1c090-01c1-4f2d-ab78-ce3710a6feb1",
   "metadata": {},
   "outputs": [],
   "source": []
  },
  {
   "cell_type": "code",
   "execution_count": null,
   "id": "d270c72d-481d-4f32-aa33-45f32cc11baf",
   "metadata": {},
   "outputs": [],
   "source": []
  },
  {
   "cell_type": "code",
   "execution_count": null,
   "id": "ddec7866-269e-46ef-9f1e-68161e27fd7a",
   "metadata": {},
   "outputs": [],
   "source": []
  },
  {
   "cell_type": "code",
   "execution_count": null,
   "id": "b47e6abe-6685-4900-bfa8-b82562771968",
   "metadata": {},
   "outputs": [],
   "source": [
    "input_list = 'hold_lists/final_greenland-1-114211.csv'\n",
    "fn_mem, fn_nomem = write_granule_list(input_list)\n",
    "write_submit_file(fn_nomem)"
   ]
  },
  {
   "cell_type": "code",
   "execution_count": null,
   "id": "86846bf2-9a4b-4cc3-bdfd-bb581c8b8534",
   "metadata": {},
   "outputs": [],
   "source": [
    "input_list = 'hold_lists/final_antarctica-18-21-1-114218.csv'\n",
    "fn_mem, fn_nomem = write_granule_list(input_list)\n",
    "write_submit_file(fn_nomem)"
   ]
  },
  {
   "cell_type": "code",
   "execution_count": null,
   "id": "6ace1c9f-b18c-456b-aa15-121bb7a0f206",
   "metadata": {},
   "outputs": [],
   "source": [
    "input_list = 'hold_lists/final_antarctica-21-23-1-114219.csv'\n",
    "fn_mem, fn_nomem = write_granule_list(input_list)\n",
    "write_submit_file(fn_nomem)"
   ]
  },
  {
   "cell_type": "code",
   "execution_count": null,
   "id": "e5973a71-2644-4e19-b164-c6b54152e1cc",
   "metadata": {},
   "outputs": [],
   "source": [
    "input_list = 'hold_lists/final_greenland-2-117771.csv'\n",
    "fn_mem, fn_nomem = write_granule_list(input_list)"
   ]
  },
  {
   "cell_type": "code",
   "execution_count": null,
   "id": "95e624d4-013c-4783-b39c-d8fd5eadf64d",
   "metadata": {},
   "outputs": [],
   "source": [
    "input_list = 'hold_lists/final_antarctica-18-21-2-123983.csv'\n",
    "fn_mem, fn_nomem = write_granule_list(input_list)"
   ]
  },
  {
   "cell_type": "code",
   "execution_count": null,
   "id": "6b0b4c0e-30cc-4c63-a157-49045f0f31a8",
   "metadata": {},
   "outputs": [],
   "source": [
    "input_list = 'hold_lists/final_antarctica-21-23-2-123993.csv'\n",
    "fn_mem, fn_nomem = write_granule_list(input_list)"
   ]
  },
  {
   "cell_type": "code",
   "execution_count": null,
   "id": "0334de01-6af9-4e82-8dcf-5fd61c96b42b",
   "metadata": {},
   "outputs": [],
   "source": [
    "outname = 'granule_lists/resubmit_all-3.csv'\n",
    "filelist_2nds = [\n",
    "    'granule_lists/resubmit_greenland-2-117771.csv',\n",
    "    'granule_lists/resubmit_antarctica-18-21-2-123983.csv',\n",
    "    'granule_lists/resubmit_antarctica-21-23-2-123993.csv'\n",
    "]\n",
    "dfs = []\n",
    "for fn in filelist_2nds:\n",
    "    df = pd.read_csv(fn, header=None)\n",
    "    print(len(df), 'jobs', fn)\n",
    "    dfs.append(df)\n",
    "df_all = pd.concat(dfs)\n",
    "df_all.to_csv(outname, header=False, index=False)\n",
    "print('Wrote file %s. (%i jobs)' % (outname, len(df_all)))\n",
    "write_submit_file(outname, mem_gb=16)"
   ]
  },
  {
   "cell_type": "code",
   "execution_count": null,
   "id": "8a63bb10-1b6e-47f0-b411-3fad16f59514",
   "metadata": {},
   "outputs": [],
   "source": [
    "input_list = 'hold_lists/final_resubmit_all-4-135549.csv'\n",
    "fn_mem, fn_nomem = write_granule_list(input_list)\n",
    "write_submit_file(fn_nomem)"
   ]
  },
  {
   "cell_type": "code",
   "execution_count": null,
   "id": "08310bcc-99df-4861-8f17-28af71ad1b01",
   "metadata": {},
   "outputs": [],
   "source": [
    "outname = 'granule_lists/memory_resubmit_all-4.csv'\n",
    "filelist_mem = [\n",
    "    'granule_lists/memory_antarctica-18-21-1-114218.csv',\n",
    "    'granule_lists/memory_antarctica-18-21-2-123983.csv',\n",
    "    # 'granule_lists/memory_antarctica-21-23-1-114219.csv', # no jobs\n",
    "    'granule_lists/memory_antarctica-21-23-2-123993.csv',\n",
    "    'granule_lists/memory_greenland-1-114211.csv',\n",
    "    'granule_lists/memory_greenland-2-117771.csv',\n",
    "    'granule_lists/memory_resubmit_all-4-135549.csv'\n",
    "]\n",
    "dfs = []\n",
    "for fn in filelist_mem:\n",
    "    df = pd.read_csv(fn, header=None)\n",
    "    print(len(df), 'jobs', fn)\n",
    "    dfs.append(df)\n",
    "df_all = pd.concat(dfs)\n",
    "df_all.to_csv(outname, header=False, index=False)\n",
    "print('Wrote file %s. (%i jobs)' % (outname, len(df_all)))\n",
    "write_submit_file(outname)"
   ]
  },
  {
   "cell_type": "code",
   "execution_count": null,
   "id": "ac2653cc-8efe-4738-b324-3b7333cf198b",
   "metadata": {},
   "outputs": [],
   "source": []
  },
  {
   "cell_type": "code",
   "execution_count": null,
   "id": "b27be5b5-f310-4f16-aca5-6ec47e7b47e8",
   "metadata": {},
   "outputs": [],
   "source": []
  }
 ],
 "metadata": {
  "kernelspec": {
   "display_name": "icelakes-env",
   "language": "python",
   "name": "icelakes-env"
  },
  "language_info": {
   "codemirror_mode": {
    "name": "ipython",
    "version": 3
   },
   "file_extension": ".py",
   "mimetype": "text/x-python",
   "name": "python",
   "nbconvert_exporter": "python",
   "pygments_lexer": "ipython3",
   "version": "3.10.11"
  }
 },
 "nbformat": 4,
 "nbformat_minor": 5
}

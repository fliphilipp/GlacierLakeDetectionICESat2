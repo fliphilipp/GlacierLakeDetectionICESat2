{
 "cells": [
  {
   "cell_type": "code",
   "execution_count": 26,
   "id": "1ef4073d-579d-4ee6-a824-8c63733c178a",
   "metadata": {},
   "outputs": [],
   "source": [
    "import pandas as pd\n",
    "import numpy as np"
   ]
  },
  {
   "cell_type": "code",
   "execution_count": 29,
   "id": "0a7a1f56-165f-4e72-bfb2-5edcb990bf4d",
   "metadata": {},
   "outputs": [],
   "source": [
    "def write_granule_list(input_list):\n",
    "    df = pd.read_csv(input_list, header=None, names=['fn','hold_reason'])\n",
    "    df['is_memory'] = df.apply(lambda x: 'exceeded request_memory' in x.hold_reason, axis=1)\n",
    "    df['granule'] = df.apply(lambda x: x.fn[x.fn.find('ATL03_'):x.fn.find('.h5')+3], axis=1)\n",
    "    def get_description(x):\n",
    "        substr = x.fn[x.fn.find('job_')+4:x.fn.find('_ATL03_')]\n",
    "        return substr[:substr.rfind('-')]\n",
    "    df['description'] = df.apply(get_description, axis=1)\n",
    "    def get_geojson(x):\n",
    "        parms = x.description.split('_')\n",
    "        parms[0] = 'ANT' if parms[0] == 'AIS' else 'GRE'\n",
    "        del parms[1]\n",
    "        return 'geojsons/simplified_' + '_'.join(parms) + '.geojson'\n",
    "    df['geojson'] = df.apply(get_geojson, axis=1)\n",
    "    df['geojson_full'] = df.apply(lambda x: x.geojson.replace('simplified_', ''), axis=1)\n",
    "    df = df[['granule','geojson','description','geojson_full','fn','hold_reason','is_memory']]\n",
    "    df.to_csv(input_list.replace('.csv', '_processed.csv'))\n",
    "    \n",
    "    df_mem = df[df.is_memory]\n",
    "    df_nomem = df[~df.is_memory]\n",
    "    \n",
    "    df_mem = df_mem.drop(columns=['fn','hold_reason','is_memory'])\n",
    "    df_nomem = df_nomem.drop(columns=['fn','hold_reason','is_memory'])\n",
    "    df_resub = pd.concat((df_mem, df_nomem)).reset_index(drop=True)\n",
    "    \n",
    "    fn_mem = input_list.replace('hold_lists/', 'granule_lists/').replace('final_', 'memory_')\n",
    "    fn_nomem = input_list.replace('hold_lists/', 'granule_lists/').replace('final_', 'others_')\n",
    "    fn_resub = input_list.replace('hold_lists/', 'granule_lists/').replace('final_', 'resubmit_')\n",
    "    \n",
    "    df_mem.to_csv(fn_mem, header=False, index=False)\n",
    "    print('Wrote file %s. (%i jobs)' % (fn_mem, len(df_mem)))\n",
    "    df_nomem.to_csv(fn_nomem, header=False, index=False)\n",
    "    print('Wrote file %s. (%i jobs)' % (fn_nomem, len(df_nomem)))\n",
    "    df_resub.to_csv(fn_resub, header=False, index=False)\n",
    "    print('Wrote file %s. (%i jobs)' % (fn_resub, len(df_resub)))\n",
    "\n",
    "    return fn_mem, fn_nomem, fn_resub\n",
    "\n",
    "def write_submit_file(list_fn, sub_fn=None, mem_gb=16, stream_error=False, stream_output=False): \n",
    "    if not sub_fn:\n",
    "        sub_fn = list_fn.replace('granule_lists/', 'HTCondor_submit/').replace('.csv', '.submit')\n",
    "    \n",
    "    f = open(sub_fn, \"w\")\n",
    "    print('universe    = vanilla', file=f)\n",
    "    print('+SingularityImage = \"osdf:///ospool/ap21/data/fliphilipp/containers/icelake-container_v1.sif\"', file=f)\n",
    "    print('Requirements = HAS_SINGULARITY == True && OSG_HOST_KERNEL_VERSION >= 31000', file=f)\n",
    "    print('executable  = run_py.sh', file=f)\n",
    "    print('arguments = $(granule) $(polygon)', file=f)\n",
    "    print('max_retries = 30', file=f)\n",
    "    print('success_exit_code = 69', file=f)\n",
    "    print('transfer_input_files = detect_lakes.py, icelakes/__init__.py, icelakes/utilities.py, icelakes/nsidc.py, icelakes/detection.py, misc/test1, misc/test2, $(polygon), $(polygon_full)', file=f)\n",
    "    print('transfer_output_files = detection_out_data, detection_out_plot, detection_out_stat', file=f)\n",
    "    print('should_transfer_files = YES', file=f)\n",
    "    print('when_to_transfer_output = ON_EXIT', file=f)\n",
    "    print('periodic_release = (HoldReasonCode == 13)', file=f)\n",
    "    print('log           = logs/job_$(descriptor)-$(ClusterID)_$(granule)-$(ProcID).log', file=f)\n",
    "    print('error         = errs/job_$(descriptor)-$(ClusterID)_$(granule)-$(ProcID).err', file=f)\n",
    "    print('output        = outs/job_$(descriptor)-$(ClusterID)_$(granule)-$(ProcID).out', file=f)\n",
    "    if stream_error:\n",
    "        print('stream_error = True', file=f)\n",
    "    if stream_output:\n",
    "        print('stream_output = True', file=f)\n",
    "    print('request_cpus    = 1', file=f)\n",
    "    print('request_memory  = %iGB' % mem_gb, file=f)\n",
    "    print('request_disk    = %iGB' % mem_gb, file=f)\n",
    "    print('queue granule,polygon,descriptor,polygon_full from %s' % list_fn, file=f)\n",
    "    f.close()\n",
    "    \n",
    "    print('Wrote file %s.\\n' % sub_fn)\n",
    "    return sub_fn"
   ]
  },
  {
   "cell_type": "code",
   "execution_count": 30,
   "id": "8cea57eb-5587-4dbb-bd5e-62160c0e1a5c",
   "metadata": {},
   "outputs": [
    {
     "name": "stdout",
     "output_type": "stream",
     "text": [
      "final_GLD3-test-15197642.csv           final_GLD3-test-15197642_processed.csv\n"
     ]
    }
   ],
   "source": [
    "! ls hold_lists"
   ]
  },
  {
   "cell_type": "code",
   "execution_count": 31,
   "id": "b67c95b1-727f-4964-918f-158356139db6",
   "metadata": {},
   "outputs": [
    {
     "name": "stdout",
     "output_type": "stream",
     "text": [
      "Wrote file granule_lists/memory_GLD3-test-15197642.csv. (15 jobs)\n",
      "Wrote file granule_lists/others_GLD3-test-15197642.csv. (6 jobs)\n",
      "Wrote file granule_lists/resubmit_GLD3-test-15197642.csv. (21 jobs)\n",
      "Wrote file HTCondor_submit/resubmit_GLD3-test-15197642.submit.\n",
      "\n",
      "universe    = vanilla\n",
      "+SingularityImage = \"osdf:///ospool/ap21/data/fliphilipp/containers/icelake-container_v1.sif\"\n",
      "Requirements = HAS_SINGULARITY == True && OSG_HOST_KERNEL_VERSION >= 31000\n",
      "executable  = run_py.sh\n",
      "arguments = $(granule) $(polygon)\n",
      "max_retries = 30\n",
      "success_exit_code = 69\n",
      "transfer_input_files = detect_lakes.py, icelakes/__init__.py, icelakes/utilities.py, icelakes/nsidc.py, icelakes/detection.py, misc/test1, misc/test2, $(polygon), $(polygon_full)\n",
      "transfer_output_files = detection_out_data, detection_out_plot, detection_out_stat\n",
      "should_transfer_files = YES\n",
      "when_to_transfer_output = ON_EXIT\n",
      "periodic_release = (HoldReasonCode == 13)\n",
      "log           = logs/job_$(descriptor)-$(ClusterID)_$(granule)-$(ProcID).log\n",
      "error         = errs/job_$(descriptor)-$(ClusterID)_$(granule)-$(ProcID).err\n",
      "output        = outs/job_$(descriptor)-$(ClusterID)_$(granule)-$(ProcID).out\n",
      "request_cpus    = 1\n",
      "request_memory  = 32GB\n",
      "request_disk    = 32GB\n",
      "queue granule,polygon,descriptor,polygon_full from granule_lists/resubmit_GLD3-test-15197642.csv\n"
     ]
    }
   ],
   "source": [
    "input_list = 'hold_lists/final_GLD3-test-15197642.csv'\n",
    "fn_mem, fn_nomem, fn_resub = write_granule_list(input_list)\n",
    "submit_fn = write_submit_file(fn_resub, mem_gb=32)\n",
    "! cat $submit_fn"
   ]
  },
  {
   "cell_type": "code",
   "execution_count": null,
   "id": "44e9b4b4-ade1-45e2-8a6a-4011c2abcdd4",
   "metadata": {},
   "outputs": [],
   "source": []
  },
  {
   "cell_type": "code",
   "execution_count": null,
   "id": "363e8568-8750-4c22-909c-d09d5d34b9ff",
   "metadata": {},
   "outputs": [],
   "source": []
  },
  {
   "cell_type": "code",
   "execution_count": null,
   "id": "8cdff2a2-f140-433c-bdc5-23685e5c79e4",
   "metadata": {},
   "outputs": [],
   "source": []
  },
  {
   "cell_type": "code",
   "execution_count": null,
   "id": "7c7437de-46e6-4022-9198-44546c67c060",
   "metadata": {},
   "outputs": [],
   "source": []
  },
  {
   "cell_type": "code",
   "execution_count": null,
   "id": "2a90f169-55de-4fb8-817b-7badee117084",
   "metadata": {},
   "outputs": [],
   "source": []
  },
  {
   "cell_type": "code",
   "execution_count": null,
   "id": "1ecfdd85-e9d4-4e22-9d91-53e2d5eb61dd",
   "metadata": {},
   "outputs": [],
   "source": []
  },
  {
   "cell_type": "code",
   "execution_count": null,
   "id": "45816c37-0458-4855-a004-47419012dc43",
   "metadata": {},
   "outputs": [],
   "source": []
  },
  {
   "cell_type": "code",
   "execution_count": null,
   "id": "86b65e6a-fa84-40e1-a1e6-a4ae2c865fc4",
   "metadata": {},
   "outputs": [],
   "source": []
  },
  {
   "cell_type": "code",
   "execution_count": null,
   "id": "85607fb8-1a0a-4d1c-8013-b57e854e618d",
   "metadata": {},
   "outputs": [],
   "source": []
  },
  {
   "cell_type": "markdown",
   "id": "1cc1d56b-4b93-435b-a967-d5f6fb5ee1eb",
   "metadata": {},
   "source": [
    "## Inital submit files"
   ]
  },
  {
   "cell_type": "code",
   "execution_count": 3,
   "id": "05722059-13db-4f37-9916-aa1544d00da8",
   "metadata": {},
   "outputs": [
    {
     "name": "stdout",
     "output_type": "stream",
     "text": [
      "Wrote file HTCondor_submit/GRE_2000_May2019_Jun2023.submit.\n",
      "\n",
      "Wrote file HTCondor_submit/ANT_1000_Dec2018_Mar2021.submit.\n",
      "\n",
      "Wrote file HTCondor_submit/ANT_1000_Dec2021_Mar2023.submit.\n",
      "\n"
     ]
    }
   ],
   "source": [
    "write_submit_file('granule_lists/GRE_2000_May2019_Jun2023.csv', mem_gb=16)\n",
    "write_submit_file('granule_lists/ANT_1000_Dec2018_Mar2021.csv', mem_gb=16)\n",
    "write_submit_file('granule_lists/ANT_1000_Dec2021_Mar2023.csv', mem_gb=16)"
   ]
  },
  {
   "cell_type": "code",
   "execution_count": 4,
   "id": "2a7eb967-060d-4c68-8f4c-334d2e10146b",
   "metadata": {},
   "outputs": [
    {
     "name": "stdout",
     "output_type": "stream",
     "text": [
      "Wrote file HTCondor_submit/extra_shoulderseason_GRE_2000_ANT_1000.submit.\n",
      "\n"
     ]
    }
   ],
   "source": [
    "write_submit_file('granule_lists/extra_shoulderseason_GRE_2000_ANT_1000.csv', mem_gb=16)"
   ]
  },
  {
   "cell_type": "code",
   "execution_count": 19,
   "id": "443a3790-6922-4b7e-ae47-8f771a978ad1",
   "metadata": {},
   "outputs": [
    {
     "name": "stdout",
     "output_type": "stream",
     "text": [
      "Wrote file HTCondor_submit/GRE_2000_May2023_Sep2023_newdata.submit.\n",
      "\n"
     ]
    }
   ],
   "source": [
    "write_submit_file('granule_lists/GRE_2000_May2023_Sep2023_newdata.csv', mem_gb=16)"
   ]
  },
  {
   "cell_type": "code",
   "execution_count": 8,
   "id": "dec693d3-29bd-464d-8a8a-0684dd62f4ff",
   "metadata": {},
   "outputs": [
    {
     "name": "stdout",
     "output_type": "stream",
     "text": [
      "Wrote file HTCondor_submit/newdata_gre-2023_test-2.submit.\n",
      "\n"
     ]
    }
   ],
   "source": [
    "write_submit_file('granule_lists/newdata_gre-2023_test-2.csv', mem_gb=16, stream_error=True, stream_output=True)"
   ]
  },
  {
   "cell_type": "code",
   "execution_count": 6,
   "id": "6356c79b-533a-4ba1-a1c4-306ecd8bda89",
   "metadata": {},
   "outputs": [
    {
     "name": "stdout",
     "output_type": "stream",
     "text": [
      "Wrote file granule_lists/memory_gris-2023-run1-15175718.csv. (0 jobs)\n",
      "Wrote file granule_lists/resubmit_gris-2023-run1-15175718.csv. (36 jobs)\n"
     ]
    }
   ],
   "source": [
    "input_list = 'hold_lists/final_gris-2023-run1-15175718.csv'\n",
    "fn_mem, fn_nomem = write_granule_list(input_list)"
   ]
  },
  {
   "cell_type": "code",
   "execution_count": 16,
   "id": "0b37c4a0-89bb-4844-8598-68526f79e5c5",
   "metadata": {},
   "outputs": [
    {
     "name": "stdout",
     "output_type": "stream",
     "text": [
      "Wrote file HTCondor_submit/resubmit_gris-2023-run1-15175718.submit.\n",
      "\n"
     ]
    }
   ],
   "source": [
    "write_submit_file('granule_lists/resubmit_gris-2023-run1-15175718.csv', mem_gb=32)"
   ]
  },
  {
   "cell_type": "code",
   "execution_count": 17,
   "id": "8a18dec1-390a-4cd2-ad6a-b95bc2d4266c",
   "metadata": {},
   "outputs": [
    {
     "name": "stdout",
     "output_type": "stream",
     "text": [
      "universe    = vanilla\n",
      "+SingularityImage = \"osdf:///ospool/ap21/data/fliphilipp/containers/icelake-container_v1.sif\"\n",
      "Requirements = HAS_SINGULARITY == True && OSG_HOST_KERNEL_VERSION >= 31000\n",
      "executable  = run_py.sh\n",
      "arguments = $(granule) $(polygon)\n",
      "max_retries = 30\n",
      "success_exit_code = 69\n",
      "transfer_input_files = detect_lakes.py, icelakes/__init__.py, icelakes/utilities.py, icelakes/nsidc.py, icelakes/detection.py, misc/test1, misc/test2, $(polygon), $(polygon_full)\n",
      "transfer_output_files = detection_out_data, detection_out_plot, detection_out_stat\n",
      "should_transfer_files = YES\n",
      "when_to_transfer_output = ON_EXIT\n",
      "periodic_release = (HoldReasonCode == 13)\n",
      "log           = logs/job_$(descriptor)-$(ClusterID)_$(granule)-$(ProcID).log\n",
      "error         = errs/job_$(descriptor)-$(ClusterID)_$(granule)-$(ProcID).err\n",
      "output        = outs/job_$(descriptor)-$(ClusterID)_$(granule)-$(ProcID).out\n",
      "request_cpus    = 1\n",
      "request_memory  = 32GB\n",
      "request_disk    = 32GB\n",
      "queue granule,polygon,descriptor,polygon_full from granule_lists/resubmit_gris-2023-run1-15175718.csv\n"
     ]
    }
   ],
   "source": [
    "! cat HTCondor_submit/resubmit_gris-2023-run1-15175718.submit"
   ]
  },
  {
   "cell_type": "code",
   "execution_count": 18,
   "id": "2fb03e68-0af9-4cff-915d-98f65c76e466",
   "metadata": {},
   "outputs": [
    {
     "name": "stdout",
     "output_type": "stream",
     "text": [
      "ANT_1000_Dec2018_Mar2021.submit\n",
      "ANT_1000_Dec2021_Mar2023.submit\n",
      "GRE_2000_May2019_Jun2023.submit\n",
      "GRE_2000_May2023_Sep2023_newdata.submit\n",
      "extra_shoulderseason_GRE_2000_ANT_1000.submit\n",
      "gris-2023-run1.submit\n",
      "memory_resubmit_all_2.submit\n",
      "newdata_gre-2023_test-15.submit\n",
      "newdata_gre-2023_test-2.submit\n",
      "resubmit_all_2.submit\n",
      "resubmit_gris-2023-run1-15175718.submit\n",
      "z_resubmit_remaining91.submit\n",
      "zz_resubmit_remaining45.submit\n"
     ]
    }
   ],
   "source": [
    "! ls  HTCondor_submit"
   ]
  },
  {
   "cell_type": "markdown",
   "id": "2d185586-2579-40aa-a630-08bc69e495b7",
   "metadata": {},
   "source": [
    "## TODO before next run: \n",
    "- make sure code runs properly locally\n",
    "- then change sleep time to 1000 or something "
   ]
  },
  {
   "cell_type": "code",
   "execution_count": 3,
   "id": "4707474f-29c3-4acc-8c57-70fce50c91e3",
   "metadata": {},
   "outputs": [
    {
     "name": "stdout",
     "output_type": "stream",
     "text": [
      "final_ant-2123-1-138198.csv\n",
      "final_ant-2123-1-138198_processed.csv\n",
      "final_ant1821-1-138197.csv\n",
      "final_ant1821-1-138197_processed.csv\n",
      "final_extra-months-1-169920.csv\n",
      "final_extra-months-1-169920_processed.csv\n",
      "final_gre1823-1-138199.csv\n",
      "final_gre1823-1-138199_processed.csv\n",
      "final_gris-2023-run1-15175718.csv\n",
      "final_z_all16gb_rerun-197770.csv\n",
      "final_z_all16gb_rerun-197770_processed.csv\n",
      "final_z_mem32gb_rerun-197768.csv\n",
      "final_z_mem32gb_rerun-197768_processed.csv\n",
      "final_zz_rerun-last45-200378.csv\n",
      "final_zz_rerun-last45-200378_processed.csv\n",
      "final_zzz_last_attempt-2274115.csv\n",
      "final_zzz_last_attempt-2274115_processed.csv\n"
     ]
    }
   ],
   "source": [
    "! ls hold_lists"
   ]
  },
  {
   "cell_type": "code",
   "execution_count": 6,
   "id": "051cf394-6008-4d58-915d-836770eba5db",
   "metadata": {},
   "outputs": [
    {
     "name": "stdout",
     "output_type": "stream",
     "text": [
      "Wrote file granule_lists/memory_ant1821-1-138197.csv. (91 jobs)\n",
      "Wrote file granule_lists/resubmit_ant1821-1-138197.csv. (1763 jobs)\n"
     ]
    }
   ],
   "source": [
    "input_list = 'hold_lists/final_ant1821-1-138197.csv'\n",
    "fn_mem, fn_nomem = write_granule_list(input_list)"
   ]
  },
  {
   "cell_type": "code",
   "execution_count": 8,
   "id": "9b721c4b-ad8c-4d0e-b673-fb805336ede0",
   "metadata": {},
   "outputs": [
    {
     "name": "stdout",
     "output_type": "stream",
     "text": [
      "Wrote file granule_lists/memory_ant-2123-1-138198.csv. (53 jobs)\n",
      "Wrote file granule_lists/resubmit_ant-2123-1-138198.csv. (56 jobs)\n"
     ]
    }
   ],
   "source": [
    "input_list = 'hold_lists/final_ant-2123-1-138198.csv'\n",
    "fn_mem, fn_nomem = write_granule_list(input_list)"
   ]
  },
  {
   "cell_type": "code",
   "execution_count": 9,
   "id": "bed8ad40-cf03-4fb8-8fe8-649bf7702848",
   "metadata": {},
   "outputs": [
    {
     "name": "stdout",
     "output_type": "stream",
     "text": [
      "Wrote file granule_lists/memory_gre1823-1-138199.csv. (133 jobs)\n",
      "Wrote file granule_lists/resubmit_gre1823-1-138199.csv. (867 jobs)\n"
     ]
    }
   ],
   "source": [
    "input_list = 'hold_lists/final_gre1823-1-138199.csv'\n",
    "fn_mem, fn_nomem = write_granule_list(input_list)"
   ]
  },
  {
   "cell_type": "code",
   "execution_count": 10,
   "id": "fcac0c38-b178-4965-9442-529f37d6e639",
   "metadata": {},
   "outputs": [
    {
     "name": "stdout",
     "output_type": "stream",
     "text": [
      "Wrote file granule_lists/memory_extra-months-1-169920.csv. (40 jobs)\n",
      "Wrote file granule_lists/resubmit_extra-months-1-169920.csv. (1294 jobs)\n"
     ]
    }
   ],
   "source": [
    "input_list = 'hold_lists/final_extra-months-1-169920.csv'\n",
    "fn_mem, fn_nomem = write_granule_list(input_list)"
   ]
  },
  {
   "cell_type": "code",
   "execution_count": 22,
   "id": "90cf50b8-b137-4b17-9ea0-40a245b51624",
   "metadata": {},
   "outputs": [
    {
     "name": "stdout",
     "output_type": "stream",
     "text": [
      "granule_lists/resubmit_all_2.csv\n",
      "Number of ganules over Greenland: 1980\n",
      "Number of ganules over Antarctica: 2000\n",
      "Total number of granules: 3980\n",
      "Wrote file HTCondor_submit/resubmit_all_2.submit.\n",
      "\n"
     ]
    }
   ],
   "source": [
    "file_list_resub1 = [\n",
    "    'granule_lists/resubmit_ant1821-1-138197.csv',\n",
    "    'granule_lists/resubmit_ant-2123-1-138198.csv',\n",
    "    'granule_lists/resubmit_gre1823-1-138199.csv',\n",
    "    'granule_lists/resubmit_extra-months-1-169920.csv'\n",
    "]\n",
    "out_name = 'granule_lists/resubmit_all_2.csv'\n",
    "dfs = []\n",
    "for fn in file_list_resub1:\n",
    "    dfs.append(pd.read_csv(fn,header=None))\n",
    "dfb = pd.concat(dfs).reset_index(drop=True)\n",
    "dfb.to_csv(out_name, header=False, index=False)\n",
    "\n",
    "print(out_name)\n",
    "print('Number of ganules over Greenland:', np.sum(dfb.apply(lambda x: 'GrIS' in x.loc[2], axis=1)))\n",
    "print('Number of ganules over Antarctica:', np.sum(dfb.apply(lambda x: 'AIS' in x.loc[2], axis=1)))\n",
    "print('Total number of granules:', len(dfb))\n",
    "write_submit_file(out_name, mem_gb=16)"
   ]
  },
  {
   "cell_type": "code",
   "execution_count": 23,
   "id": "584b4041-fc7f-4bc0-8914-0d71b2bedd69",
   "metadata": {},
   "outputs": [
    {
     "name": "stdout",
     "output_type": "stream",
     "text": [
      "granule_lists/memory_resubmit_all_2.csv\n",
      "Number of ganules over Greenland: 135\n",
      "Number of ganules over Antarctica: 182\n",
      "Total number of granules: 317\n",
      "Wrote file HTCondor_submit/memory_resubmit_all_2.submit.\n",
      "\n"
     ]
    }
   ],
   "source": [
    "file_list_resub1 = [\n",
    "    'granule_lists/memory_ant1821-1-138197.csv',\n",
    "    'granule_lists/memory_ant-2123-1-138198.csv',\n",
    "    'granule_lists/memory_gre1823-1-138199.csv',\n",
    "    'granule_lists/memory_extra-months-1-169920.csv'\n",
    "]\n",
    "out_name = 'granule_lists/memory_resubmit_all_2.csv'\n",
    "dfs = []\n",
    "for fn in file_list_resub1:\n",
    "    dfs.append(pd.read_csv(fn,header=None))\n",
    "dfb = pd.concat(dfs).reset_index(drop=True)\n",
    "dfb.to_csv(out_name, header=False, index=False)\n",
    "\n",
    "print(out_name)\n",
    "print('Number of ganules over Greenland:', np.sum(dfb.apply(lambda x: 'GrIS' in x.loc[2], axis=1)))\n",
    "print('Number of ganules over Antarctica:', np.sum(dfb.apply(lambda x: 'AIS' in x.loc[2], axis=1)))\n",
    "print('Total number of granules:', len(dfb))\n",
    "write_submit_file(out_name, mem_gb=32)"
   ]
  },
  {
   "cell_type": "code",
   "execution_count": 26,
   "id": "cd5a9e16-808b-4f82-ac19-306eaf9ae0ab",
   "metadata": {},
   "outputs": [
    {
     "name": "stdout",
     "output_type": "stream",
     "text": [
      "final_ant-2123-1-138198.csv\n",
      "final_ant-2123-1-138198_processed.csv\n",
      "final_ant1821-1-138197.csv\n",
      "final_ant1821-1-138197_processed.csv\n",
      "final_extra-months-1-169920.csv\n",
      "final_extra-months-1-169920_processed.csv\n",
      "final_gre1823-1-138199.csv\n",
      "final_gre1823-1-138199_processed.csv\n",
      "final_z_all16gb_rerun-197770.csv\n",
      "final_z_mem32gb_rerun-197768.csv\n"
     ]
    }
   ],
   "source": [
    "! ls hold_lists"
   ]
  },
  {
   "cell_type": "code",
   "execution_count": 27,
   "id": "2e509bd5-d72b-4d99-a3eb-a26014f47513",
   "metadata": {},
   "outputs": [
    {
     "name": "stdout",
     "output_type": "stream",
     "text": [
      "Wrote file granule_lists/memory_z_all16gb_rerun-197770.csv. (35 jobs)\n",
      "Wrote file granule_lists/resubmit_z_all16gb_rerun-197770.csv. (50 jobs)\n",
      "Wrote file granule_lists/memory_z_mem32gb_rerun-197768.csv. (4 jobs)\n",
      "Wrote file granule_lists/resubmit_z_mem32gb_rerun-197768.csv. (2 jobs)\n"
     ]
    }
   ],
   "source": [
    "input_list = 'hold_lists/final_z_all16gb_rerun-197770.csv'\n",
    "fn_mem, fn_nomem = write_granule_list(input_list)\n",
    "input_list = 'hold_lists/final_z_mem32gb_rerun-197768.csv'\n",
    "fn_mem, fn_nomem = write_granule_list(input_list)"
   ]
  },
  {
   "cell_type": "code",
   "execution_count": 28,
   "id": "fe387a69-cf72-479e-982c-85f2ffb4e791",
   "metadata": {},
   "outputs": [
    {
     "name": "stdout",
     "output_type": "stream",
     "text": [
      "granule_lists/z_resubmit_remaining91.csv\n",
      "Number of ganules over Greenland: 60\n",
      "Number of ganules over Antarctica: 31\n",
      "Total number of granules: 91\n",
      "Wrote file HTCondor_submit/z_resubmit_remaining91.submit.\n",
      "\n"
     ]
    }
   ],
   "source": [
    "file_list_resub2 = [\n",
    "    'granule_lists/memory_z_all16gb_rerun-197770.csv',\n",
    "    'granule_lists/resubmit_z_all16gb_rerun-197770.csv',\n",
    "    'granule_lists/memory_z_mem32gb_rerun-197768.csv',\n",
    "    'granule_lists/resubmit_z_mem32gb_rerun-197768.csv'\n",
    "]\n",
    "out_name = 'granule_lists/z_resubmit_remaining91.csv'\n",
    "dfs = []\n",
    "for fn in file_list_resub2:\n",
    "    dfs.append(pd.read_csv(fn,header=None))\n",
    "dfb = pd.concat(dfs).reset_index(drop=True)\n",
    "dfb.to_csv(out_name, header=False, index=False)\n",
    "\n",
    "print(out_name)\n",
    "print('Number of ganules over Greenland:', np.sum(dfb.apply(lambda x: 'GrIS' in x.loc[2], axis=1)))\n",
    "print('Number of ganules over Antarctica:', np.sum(dfb.apply(lambda x: 'AIS' in x.loc[2], axis=1)))\n",
    "print('Total number of granules:', len(dfb))\n",
    "write_submit_file(out_name, mem_gb=32)"
   ]
  },
  {
   "cell_type": "code",
   "execution_count": 30,
   "id": "7bf92c05-ee60-4d2d-9443-61487729efc5",
   "metadata": {},
   "outputs": [
    {
     "name": "stdout",
     "output_type": "stream",
     "text": [
      "final_ant-2123-1-138198.csv\n",
      "final_ant-2123-1-138198_processed.csv\n",
      "final_ant1821-1-138197.csv\n",
      "final_ant1821-1-138197_processed.csv\n",
      "final_extra-months-1-169920.csv\n",
      "final_extra-months-1-169920_processed.csv\n",
      "final_gre1823-1-138199.csv\n",
      "final_gre1823-1-138199_processed.csv\n",
      "final_z_all16gb_rerun-197770.csv\n",
      "final_z_all16gb_rerun-197770_processed.csv\n",
      "final_z_mem32gb_rerun-197768.csv\n",
      "final_z_mem32gb_rerun-197768_processed.csv\n",
      "final_zz_rerun-last45-200378.csv\n"
     ]
    }
   ],
   "source": [
    "! ls hold_lists"
   ]
  },
  {
   "cell_type": "code",
   "execution_count": 10,
   "id": "0ac53093-3ac0-42f1-a4f6-29c3087c585d",
   "metadata": {},
   "outputs": [
    {
     "name": "stdout",
     "output_type": "stream",
     "text": [
      "Wrote file granule_lists/memory_zz_rerun-last45-200378.csv. (0 jobs)\n",
      "Wrote file granule_lists/resubmit_zz_rerun-last45-200378.csv. (45 jobs)\n"
     ]
    }
   ],
   "source": [
    "input_list = 'hold_lists/final_zz_rerun-last45-200378.csv'\n",
    "fn_mem, fn_nomem = write_granule_list(input_list)"
   ]
  },
  {
   "cell_type": "code",
   "execution_count": 11,
   "id": "295b56ee-4e78-46a4-a4c9-dd2c5f4c4e04",
   "metadata": {},
   "outputs": [
    {
     "name": "stdout",
     "output_type": "stream",
     "text": [
      "granule_lists/zz_resubmit_remaining45.csv\n",
      "Number of ganules over Greenland: 33\n",
      "Number of ganules over Antarctica: 12\n",
      "Total number of granules: 45\n",
      "Wrote file HTCondor_submit/zz_resubmit_remaining45.submit.\n",
      "\n"
     ]
    }
   ],
   "source": [
    "out_name = 'granule_lists/zz_resubmit_remaining45.csv'\n",
    "dfb = pd.read_csv(fn_nomem,header=None)\n",
    "dfb.to_csv(out_name, header=False, index=False)\n",
    "\n",
    "print(out_name)\n",
    "print('Number of ganules over Greenland:', np.sum(dfb.apply(lambda x: 'GrIS' in x.loc[2], axis=1)))\n",
    "print('Number of ganules over Antarctica:', np.sum(dfb.apply(lambda x: 'AIS' in x.loc[2], axis=1)))\n",
    "print('Total number of granules:', len(dfb))\n",
    "write_submit_file(out_name, mem_gb=64)"
   ]
  },
  {
   "cell_type": "code",
   "execution_count": 12,
   "id": "48eb06fc-2cfa-4e84-9038-945f40d1ab26",
   "metadata": {},
   "outputs": [
    {
     "name": "stdout",
     "output_type": "stream",
     "text": [
      "final_ant-2123-1-138198.csv\n",
      "final_ant-2123-1-138198_processed.csv\n",
      "final_ant1821-1-138197.csv\n",
      "final_ant1821-1-138197_processed.csv\n",
      "final_extra-months-1-169920.csv\n",
      "final_extra-months-1-169920_processed.csv\n",
      "final_gre1823-1-138199.csv\n",
      "final_gre1823-1-138199_processed.csv\n",
      "final_z_all16gb_rerun-197770.csv\n",
      "final_z_all16gb_rerun-197770_processed.csv\n",
      "final_z_mem32gb_rerun-197768.csv\n",
      "final_z_mem32gb_rerun-197768_processed.csv\n",
      "final_zz_rerun-last45-200378.csv\n",
      "final_zz_rerun-last45-200378_processed.csv\n",
      "final_zzz_last_attempt-2274115.csv\n",
      "final_zzz_last_attempt-2274115_processed.csv\n"
     ]
    }
   ],
   "source": [
    "! ls hold_lists"
   ]
  },
  {
   "cell_type": "code",
   "execution_count": 13,
   "id": "fef6616c-5523-4d62-872c-39353943228d",
   "metadata": {},
   "outputs": [
    {
     "name": "stdout",
     "output_type": "stream",
     "text": [
      "Wrote file granule_lists/memory_zzz_last_attempt-2274115.csv. (0 jobs)\n",
      "Wrote file granule_lists/resubmit_zzz_last_attempt-2274115.csv. (44 jobs)\n"
     ]
    }
   ],
   "source": [
    "input_list = 'hold_lists/final_zzz_last_attempt-2274115.csv'\n",
    "fn_mem, fn_nomem = write_granule_list(input_list)"
   ]
  },
  {
   "cell_type": "code",
   "execution_count": 14,
   "id": "5c3aad88-c863-4782-9e69-b018f79127a3",
   "metadata": {},
   "outputs": [
    {
     "name": "stdout",
     "output_type": "stream",
     "text": [
      "granule_lists/zzz_NOresubmit_remaining44.csv\n",
      "Number of ganules over Greenland: 32\n",
      "Number of ganules over Antarctica: 12\n",
      "Total number of granules: 44\n",
      "NO SUBMIT FILE WRITTEN - re-run these locally, or just ignore!\n"
     ]
    }
   ],
   "source": [
    "out_name = 'granule_lists/zzz_NOresubmit_remaining44.csv'\n",
    "dfb = pd.read_csv(fn_nomem,header=None)\n",
    "dfb.to_csv(out_name, header=False, index=False)\n",
    "\n",
    "print(out_name)\n",
    "print('Number of ganules over Greenland:', np.sum(dfb.apply(lambda x: 'GrIS' in x.loc[2], axis=1)))\n",
    "print('Number of ganules over Antarctica:', np.sum(dfb.apply(lambda x: 'AIS' in x.loc[2], axis=1)))\n",
    "print('Total number of granules:', len(dfb))\n",
    "print('NO SUBMIT FILE WRITTEN - re-run these locally, or just ignore!')"
   ]
  },
  {
   "cell_type": "code",
   "execution_count": 15,
   "id": "5d338a20-655f-4218-b69d-3269c400cf15",
   "metadata": {},
   "outputs": [
    {
     "name": "stdout",
     "output_type": "stream",
     "text": [
      "ATL03_20200206111502_06370611_006_01.h5,geojsons/simplified_ANT_1000_West_Ep-F.geojson,AIS_2019-20_1000_West_Ep-F,geojsons/ANT_1000_West_Ep-F.geojson\n",
      "ATL03_20200301041337_09990612_006_01.h5,geojsons/simplified_ANT_1000_West_Ep-F.geojson,AIS_2019-20_1000_West_Ep-F,geojsons/ANT_1000_West_Ep-F.geojson\n",
      "ATL03_20201203221707_10800910_006_01.h5,geojsons/simplified_ANT_1000_West_Ep-F.geojson,AIS_2020-21_1000_West_Ep-F,geojsons/ANT_1000_West_Ep-F.geojson\n",
      "ATL03_20190122150622_03840212_006_02.h5,geojsons/simplified_ANT_1000_Peninsula_Ipp-J.geojson,AIS_2018-19_1000_Peninsula_Ipp-J,geojsons/ANT_1000_Peninsula_Ipp-J.geojson\n",
      "ATL03_20190223103751_08700210_006_02.h5,geojsons/simplified_ANT_1000_East_Dp-E.geojson,AIS_2018-19_1000_East_Dp-E,geojsons/ANT_1000_East_Dp-E.geojson\n",
      "ATL03_20200119062813_03590612_006_01.h5,geojsons/simplified_ANT_1000_East_Dp-E.geojson,AIS_2019-20_1000_East_Dp-E,geojsons/ANT_1000_East_Dp-E.geojson\n",
      "ATL03_20201211155644_11980912_006_01.h5,geojsons/simplified_ANT_1000_East_Dp-E.geojson,AIS_2020-21_1000_East_Dp-E,geojsons/ANT_1000_East_Dp-E.geojson\n",
      "ATL03_20191201021643_09950512_006_01.h5,geojsons/simplified_ANT_1000_West_G-H.geojson,AIS_2019-20_1000_West_G-H,geojsons/ANT_1000_West_G-H.geojson\n",
      "ATL03_20200724120410_04450804_006_01.h5,geojsons/simplified_GRE_2000_NO.geojson,GrIS_2020_2000_NO,geojsons/GRE_2000_NO.geojson\n",
      "ATL03_20220819215356_09011603_006_01.h5,geojsons/simplified_GRE_2000_NO.geojson,GrIS_2022_2000_NO,geojsons/GRE_2000_NO.geojson\n",
      "ATL03_20220822112150_09401605_006_01.h5,geojsons/simplified_GRE_2000_NO.geojson,GrIS_2022_2000_NO,geojsons/GRE_2000_NO.geojson\n",
      "ATL03_20190807163046_06200405_006_02.h5,geojsons/simplified_GRE_2000_SE.geojson,GrIS_2019_2000_SE,geojsons/GRE_2000_SE.geojson\n",
      "ATL03_20190801173024_05290405_006_02.h5,geojsons/simplified_GRE_2000_CW.geojson,GrIS_2019_2000_CW,geojsons/GRE_2000_CW.geojson\n",
      "ATL03_20200730000939_05290805_006_01.h5,geojsons/simplified_GRE_2000_CW.geojson,GrIS_2020_2000_CW,geojsons/GRE_2000_CW.geojson\n",
      "ATL03_20190510071453_06420303_006_02.h5,geojsons/simplified_GRE_2000_NO.geojson,GrIS_2019_2000_NO,geojsons/GRE_2000_NO.geojson\n",
      "ATL03_20190512204245_06810305_006_02.h5,geojsons/simplified_GRE_2000_NO.geojson,GrIS_2019_2000_NO,geojsons/GRE_2000_NO.geojson\n",
      "ATL03_20200507135402_06420703_006_01.h5,geojsons/simplified_GRE_2000_NO.geojson,GrIS_2020_2000_NO,geojsons/GRE_2000_NO.geojson\n",
      "ATL03_20210508100114_06811105_006_01.h5,geojsons/simplified_GRE_2000_NO.geojson,GrIS_2021_2000_NO,geojsons/GRE_2000_NO.geojson\n",
      "ATL03_20220506164046_06811505_006_01.h5,geojsons/simplified_GRE_2000_NO.geojson,GrIS_2022_2000_NO,geojsons/GRE_2000_NO.geojson\n",
      "ATL03_20230502095208_06421903_006_01.h5,geojsons/simplified_GRE_2000_NO.geojson,GrIS_2023_2000_NO,geojsons/GRE_2000_NO.geojson\n",
      "ATL03_20190507083151_05970303_006_02.h5,geojsons/simplified_GRE_2000_SE.geojson,GrIS_2019_2000_SE,geojsons/GRE_2000_SE.geojson\n",
      "ATL03_20190508205105_06200305_006_02.h5,geojsons/simplified_GRE_2000_SE.geojson,GrIS_2019_2000_SE,geojsons/GRE_2000_SE.geojson\n",
      "ATL03_20200504151059_05970703_006_01.h5,geojsons/simplified_GRE_2000_SE.geojson,GrIS_2020_2000_SE,geojsons/GRE_2000_SE.geojson\n",
      "ATL03_20210502215019_05971103_006_01.h5,geojsons/simplified_GRE_2000_SE.geojson,GrIS_2021_2000_SE,geojsons/GRE_2000_SE.geojson\n",
      "ATL03_20210504100933_06201105_006_01.h5,geojsons/simplified_GRE_2000_SE.geojson,GrIS_2021_2000_SE,geojsons/GRE_2000_SE.geojson\n",
      "ATL03_20220511191525_07591505_006_01.h5,geojsons/simplified_GRE_2000_NW.geojson,GrIS_2022_2000_NW,geojsons/GRE_2000_NW.geojson\n",
      "ATL03_20210116130731_03591012_006_01.h5,geojsons/simplified_ANT_1000_East_Dp-E.geojson,AIS_2020-21_1000_East_Dp-E,geojsons/ANT_1000_East_Dp-E.geojson\n",
      "ATL03_20220726132845_05291605_006_02.h5,geojsons/simplified_GRE_2000_CW.geojson,GrIS_2022_2000_CW,geojsons/GRE_2000_CW.geojson\n",
      "ATL03_20190503225412_05450304_006_02.h5,geojsons/simplified_GRE_2000_NO.geojson,GrIS_2019_2000_NO,geojsons/GRE_2000_NO.geojson\n",
      "ATL03_20200510032155_06810705_006_01.h5,geojsons/simplified_GRE_2000_NO.geojson,GrIS_2020_2000_NO,geojsons/GRE_2000_NO.geojson\n",
      "ATL03_20200506033014_06200705_006_01.h5,geojsons/simplified_GRE_2000_SE.geojson,GrIS_2020_2000_SE,geojsons/GRE_2000_SE.geojson\n",
      "ATL03_20220501042951_05971503_006_01.h5,geojsons/simplified_GRE_2000_SE.geojson,GrIS_2022_2000_SE,geojsons/GRE_2000_SE.geojson\n",
      "ATL03_20220502164904_06201505_006_01.h5,geojsons/simplified_GRE_2000_SE.geojson,GrIS_2022_2000_SE,geojsons/GRE_2000_SE.geojson\n",
      "ATL03_20221116173514_08701710_006_01.h5,geojsons/simplified_ANT_1000_East_Dp-E.geojson,AIS_2022_1000_East_Dp-E,geojsons/ANT_1000_East_Dp-E.geojson\n",
      "ATL03_20210227105255_09991012_006_01.h5,geojsons/simplified_ANT_1000_West_Ep-F.geojson,AIS_2020-21_1000_West_Ep-F,geojsons/ANT_1000_West_Ep-F.geojson\n",
      "ATL03_20190506200257_05890304_006_02.h5,geojsons/simplified_GRE_2000_NE.geojson,GrIS_2019_2000_NE,geojsons/GRE_2000_NE.geojson\n",
      "ATL03_20210505203321_06421103_006_01.h5,geojsons/simplified_GRE_2000_NO.geojson,GrIS_2021_2000_NO,geojsons/GRE_2000_NO.geojson\n",
      "ATL03_20220504031254_06421503_006_01.h5,geojsons/simplified_GRE_2000_NO.geojson,GrIS_2022_2000_NO,geojsons/GRE_2000_NO.geojson\n",
      "ATL03_20220511191525_07591505_006_01.h5,geojsons/simplified_GRE_2000_NO.geojson,GrIS_2022_2000_NO,geojsons/GRE_2000_NO.geojson\n",
      "ATL03_20220929201025_01391704_006_01.h5,geojsons/simplified_GRE_2000_NE.geojson,GrIS_2022_2000_NE,geojsons/GRE_2000_NE.geojson\n",
      "ATL03_20200504024205_05890704_006_01.h5,geojsons/simplified_GRE_2000_NE.geojson,GrIS_2020_2000_NE,geojsons/GRE_2000_NE.geojson\n",
      "ATL03_20230504231958_06811905_006_01.h5,geojsons/simplified_GRE_2000_NO.geojson,GrIS_2023_2000_NO,geojsons/GRE_2000_NO.geojson\n",
      "ATL03_20190502215043_05290305_006_02.h5,geojsons/simplified_GRE_2000_CW.geojson,GrIS_2019_2000_CW,geojsons/GRE_2000_CW.geojson\n",
      "ATL03_20211128174703_10271311_006_01.h5,geojsons/simplified_ANT_1000_West_Ep-F.geojson,AIS_2021_1000_West_Ep-F,geojsons/ANT_1000_West_Ep-F.geojson\n"
     ]
    }
   ],
   "source": [
    "! cat granule_lists/zzz_NOresubmit_remaining44.csv"
   ]
  },
  {
   "cell_type": "code",
   "execution_count": null,
   "id": "d270c72d-481d-4f32-aa33-45f32cc11baf",
   "metadata": {},
   "outputs": [],
   "source": []
  },
  {
   "cell_type": "code",
   "execution_count": null,
   "id": "ddec7866-269e-46ef-9f1e-68161e27fd7a",
   "metadata": {},
   "outputs": [],
   "source": []
  },
  {
   "cell_type": "code",
   "execution_count": null,
   "id": "b47e6abe-6685-4900-bfa8-b82562771968",
   "metadata": {},
   "outputs": [],
   "source": [
    "input_list = 'hold_lists/final_greenland-1-114211.csv'\n",
    "fn_mem, fn_nomem = write_granule_list(input_list)\n",
    "write_submit_file(fn_nomem)"
   ]
  },
  {
   "cell_type": "code",
   "execution_count": null,
   "id": "86846bf2-9a4b-4cc3-bdfd-bb581c8b8534",
   "metadata": {},
   "outputs": [],
   "source": [
    "input_list = 'hold_lists/final_antarctica-18-21-1-114218.csv'\n",
    "fn_mem, fn_nomem = write_granule_list(input_list)\n",
    "write_submit_file(fn_nomem)"
   ]
  },
  {
   "cell_type": "code",
   "execution_count": null,
   "id": "6ace1c9f-b18c-456b-aa15-121bb7a0f206",
   "metadata": {},
   "outputs": [],
   "source": [
    "input_list = 'hold_lists/final_antarctica-21-23-1-114219.csv'\n",
    "fn_mem, fn_nomem = write_granule_list(input_list)\n",
    "write_submit_file(fn_nomem)"
   ]
  },
  {
   "cell_type": "code",
   "execution_count": null,
   "id": "e5973a71-2644-4e19-b164-c6b54152e1cc",
   "metadata": {},
   "outputs": [],
   "source": [
    "input_list = 'hold_lists/final_greenland-2-117771.csv'\n",
    "fn_mem, fn_nomem = write_granule_list(input_list)"
   ]
  },
  {
   "cell_type": "code",
   "execution_count": null,
   "id": "95e624d4-013c-4783-b39c-d8fd5eadf64d",
   "metadata": {},
   "outputs": [],
   "source": [
    "input_list = 'hold_lists/final_antarctica-18-21-2-123983.csv'\n",
    "fn_mem, fn_nomem = write_granule_list(input_list)"
   ]
  },
  {
   "cell_type": "code",
   "execution_count": null,
   "id": "6b0b4c0e-30cc-4c63-a157-49045f0f31a8",
   "metadata": {},
   "outputs": [],
   "source": [
    "input_list = 'hold_lists/final_antarctica-21-23-2-123993.csv'\n",
    "fn_mem, fn_nomem = write_granule_list(input_list)"
   ]
  },
  {
   "cell_type": "code",
   "execution_count": null,
   "id": "0334de01-6af9-4e82-8dcf-5fd61c96b42b",
   "metadata": {},
   "outputs": [],
   "source": [
    "outname = 'granule_lists/resubmit_all-3.csv'\n",
    "filelist_2nds = [\n",
    "    'granule_lists/resubmit_greenland-2-117771.csv',\n",
    "    'granule_lists/resubmit_antarctica-18-21-2-123983.csv',\n",
    "    'granule_lists/resubmit_antarctica-21-23-2-123993.csv'\n",
    "]\n",
    "dfs = []\n",
    "for fn in filelist_2nds:\n",
    "    df = pd.read_csv(fn, header=None)\n",
    "    print(len(df), 'jobs', fn)\n",
    "    dfs.append(df)\n",
    "df_all = pd.concat(dfs)\n",
    "df_all.to_csv(outname, header=False, index=False)\n",
    "print('Wrote file %s. (%i jobs)' % (outname, len(df_all)))\n",
    "write_submit_file(outname, mem_gb=16)"
   ]
  },
  {
   "cell_type": "code",
   "execution_count": null,
   "id": "8a63bb10-1b6e-47f0-b411-3fad16f59514",
   "metadata": {},
   "outputs": [],
   "source": [
    "input_list = 'hold_lists/final_resubmit_all-4-135549.csv'\n",
    "fn_mem, fn_nomem = write_granule_list(input_list)\n",
    "write_submit_file(fn_nomem)"
   ]
  },
  {
   "cell_type": "code",
   "execution_count": null,
   "id": "08310bcc-99df-4861-8f17-28af71ad1b01",
   "metadata": {},
   "outputs": [],
   "source": [
    "outname = 'granule_lists/memory_resubmit_all-4.csv'\n",
    "filelist_mem = [\n",
    "    'granule_lists/memory_antarctica-18-21-1-114218.csv',\n",
    "    'granule_lists/memory_antarctica-18-21-2-123983.csv',\n",
    "    # 'granule_lists/memory_antarctica-21-23-1-114219.csv', # no jobs\n",
    "    'granule_lists/memory_antarctica-21-23-2-123993.csv',\n",
    "    'granule_lists/memory_greenland-1-114211.csv',\n",
    "    'granule_lists/memory_greenland-2-117771.csv',\n",
    "    'granule_lists/memory_resubmit_all-4-135549.csv'\n",
    "]\n",
    "dfs = []\n",
    "for fn in filelist_mem:\n",
    "    df = pd.read_csv(fn, header=None)\n",
    "    print(len(df), 'jobs', fn)\n",
    "    dfs.append(df)\n",
    "df_all = pd.concat(dfs)\n",
    "df_all.to_csv(outname, header=False, index=False)\n",
    "print('Wrote file %s. (%i jobs)' % (outname, len(df_all)))\n",
    "write_submit_file(outname)"
   ]
  },
  {
   "cell_type": "code",
   "execution_count": null,
   "id": "ac2653cc-8efe-4738-b324-3b7333cf198b",
   "metadata": {},
   "outputs": [],
   "source": []
  },
  {
   "cell_type": "code",
   "execution_count": null,
   "id": "b27be5b5-f310-4f16-aca5-6ec47e7b47e8",
   "metadata": {},
   "outputs": [],
   "source": []
  }
 ],
 "metadata": {
  "kernelspec": {
   "display_name": "icelakes-env",
   "language": "python",
   "name": "icelakes-env"
  },
  "language_info": {
   "codemirror_mode": {
    "name": "ipython",
    "version": 3
   },
   "file_extension": ".py",
   "mimetype": "text/x-python",
   "name": "python",
   "nbconvert_exporter": "python",
   "pygments_lexer": "ipython3",
   "version": "3.10.11"
  }
 },
 "nbformat": 4,
 "nbformat_minor": 5
}

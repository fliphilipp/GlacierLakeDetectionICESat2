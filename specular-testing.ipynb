{
 "cells": [
  {
   "cell_type": "markdown",
   "id": "e5fb0db1-983f-4d51-9a5b-c98812d6dbce",
   "metadata": {},
   "source": [
    "# Afterpulse Detection (dead-time / internal reflections)\n",
    "To figure out how to detect and remove afterpulses, and plot examples.\n",
    "- use photon rate just around the lake surface elevation (depending on strong/weak beam??)\n",
    "- then use peaks distances that are commonly found"
   ]
  },
  {
   "cell_type": "markdown",
   "id": "c7a7fafd-8cb8-4060-8fd7-473d239398a6",
   "metadata": {},
   "source": [
    "### From the literature\n",
    "afterpulses at: ∼0.45, ∼0.9, ∼2.3, and ∼4.2 m\n",
    "\n",
    "The afterpulses captured from on-orbit measurements are caused by three different reasons: (1) the effects of the dead-time circuit (∼3 ns) due to PMT saturation; (2) the effects of optical reflections within the ATLAS receiver optical components; (3) PMT afterpulses. The echoes separated by ∼0.45 m are attributed to the effect of the dead-time circuit (∼3 ns) due to PMT saturation. The echoes at ∼2.3 and ∼4.2 m below the primary surface returns are caused by the optical reflections within the ATLAS receiver optical components, while the echoes from ∼10 to ∼45 m away from the primary surface signal are due to the PMT afterpulses with a longer time delay.\n",
    "\n",
    "Lu, X., Hu, Y., Yang, Y., Vaughan, M., Palm, S., Trepte, C., ... & Baize, R. (2021). Enabling value added scientific applications of ICESat‐2 data with effective removal of afterpulses. Earth and Space Science, 8(6), e2021EA001729."
   ]
  },
  {
   "cell_type": "code",
   "execution_count": null,
   "id": "b197d712-bc64-4ce0-9e4a-6238f7c627b0",
   "metadata": {},
   "outputs": [],
   "source": [
    "%matplotlib widget\n",
    "import pickle\n",
    "import math\n",
    "import numpy as np\n",
    "import pandas as pd\n",
    "import matplotlib\n",
    "import matplotlib.pyplot as plt\n",
    "from datetime import datetime\n",
    "from IPython.display import Image, display\n",
    "from cmcrameri import cm as cmc\n",
    "from mpl_toolkits.axes_grid1 import make_axes_locatable\n",
    "from scipy.signal import find_peaks\n",
    "plt.rcParams.update({'font.size': 8})"
   ]
  },
  {
   "cell_type": "code",
   "execution_count": null,
   "id": "f33f9442-d993-4332-8e30-29100a9a29f0",
   "metadata": {},
   "outputs": [],
   "source": [
    "thresh_upper = 1.0\n",
    "thresh_lower = -5.0\n",
    "bin_h=0.01\n",
    "smooth_h=0.1\n",
    "extent_buffer = 20.0\n",
    "smooth_pulse = 15 # makes it roughly the footprint size\n",
    "strength = 'all'\n",
    "\n",
    "cols_pk = ['black','#CD104D', '#E14D2A', '#FD841F', '#8FE3CF', '#256D85']\n",
    "lsty_pk = ['-', '-', '--', ':', '-', ':']\n",
    "elev_pk_lake = [0.0, -0.55, -0.845, -1.36, -2.4, -4.2]\n",
    "elev_pk_puls = [0.0, -0.55, -0.91, -1.465, -2.4, -4.2]\n",
    "widths_pk = [0.225, 0.225, 0.225, 0.225, 0.3, 0.3] # 0.225 m on each side makes it 0.45 total, which is the dead-time for ATLAS\n",
    "df_pks_info = pd.DataFrame({'h_lake': elev_pk_lake, 'h_pulse': elev_pk_puls, 'width': widths_pk, 'color': cols_pk, 'ls': lsty_pk})\n",
    "\n",
    "def group_by_pulse(df_in, smoothing, beam_strength):\n",
    "    thegroup = df_in.groupby('pulseid')\n",
    "    df_grouped = thegroup[['xatc', 'h']].mean()\n",
    "    norm_factor = 4 if beam_strength == 'weak' else 16\n",
    "    df_grouped['ph_count'] = thegroup['h'].count() / norm_factor\n",
    "    df_grouped['ph_count_smooth'] = np.array(df_grouped.ph_count.rolling(smoothing,center=True,min_periods=1).mean())\n",
    "    return df_grouped"
   ]
  },
  {
   "cell_type": "markdown",
   "id": "6634f909-8407-471e-a620-6fa3f7c2f1b4",
   "metadata": {},
   "source": [
    "# compare between afterpulses relative to lake surface / per-pulse saturated peak elevation"
   ]
  },
  {
   "cell_type": "code",
   "execution_count": null,
   "id": "0e2a9dfc-c1ac-47d2-952c-bfeb6be23006",
   "metadata": {},
   "outputs": [],
   "source": [
    "plt.close('all')\n",
    "lake_idxs = [3, 13, 23, 24, 28, 31, 35, 36, 37, 39, 43, 44, 45, 46, 48, 50, 51, 53, 54]\n",
    "# lake_idxs = [50]\n",
    "\n",
    "df_list = []\n",
    "for i in range(71):\n",
    "# for i in lake_idxs:\n",
    "    \n",
    "    fn = 'pickles/specular%02i.pkl' % i\n",
    "    with open(fn, 'rb') as f:\n",
    "        lk = pickle.load(f)\n",
    "        \n",
    "    surf_elev = lk['surface_elevation']\n",
    "    df = lk['photon_data']\n",
    "    beam_strength = lk['beam_strength']\n",
    "    dfs = df[(df.h < (thresh_upper+surf_elev)) & (df.h > (thresh_lower+surf_elev))].copy()\n",
    "    dfs['h'] = dfs.h - surf_elev\n",
    "    dfs['pulseid'] = dfs.apply(lambda row: 1000*row.mframe+row.ph_id_pulse, axis=1)\n",
    "    dfs['ph_index'] = dfs.index\n",
    "    dfs = dfs.set_index('pulseid')\n",
    "    pkinfo = df_pks_info.iloc[0]\n",
    "    photon_df = dfs[(dfs.h >= (pkinfo.h_pulse - pkinfo.width)) & (dfs.h < (pkinfo.h_pulse + pkinfo.width))]\n",
    "    df_pulses = group_by_pulse(photon_df,smooth_pulse,beam_strength)\n",
    "    df_join = dfs.join(df_pulses, how='left', rsuffix='_pulse')\n",
    "    df_join['pulseid'] = dfs.index\n",
    "    df_join = df_join.set_index('ph_index')\n",
    "    df_join['h_relative_to_saturated_peak'] = df_join.h - df_join.h_pulse\n",
    "    df_join['is_saturated'] = df_join.ph_count_smooth >= saturation_threshold\n",
    "#     surf_elev = lk['surface_elevation']\n",
    "#     df = lk['photon_data']\n",
    "#     beam_strength = lk['beam_strength']\n",
    "#     dfs = df[(df.h < (thresh_upper+surf_elev)) & (df.h > (thresh_lower+surf_elev))].copy()\n",
    "#     dfs['h'] = dfs.h - surf_elev\n",
    "#     dfs['pulseid'] = dfs.apply(lambda row: 1000*row.mframe+row.ph_id_pulse, axis=1)\n",
    "#     dfs['ph_index'] = dfs.index\n",
    "#     dfs = dfs.set_index('pulseid')\n",
    "#     pkinfo = df_pks_info.iloc[0]\n",
    "#     photon_df = dfs[(dfs.h >= (pkinfo.h_pulse - pkinfo.width)) & (dfs.h < (pkinfo.h_pulse + pkinfo.width))]\n",
    "#     df_pulses = group_by_pulse(photon_df,smooth_pulse,beam_strength)\n",
    "#     df_join = dfs.join(df_pulses, how='left', rsuffix='_pulse')\n",
    "#     df_join['pulseid'] = dfs.index\n",
    "#     df_join = df_join.set_index('ph_index')\n",
    "#     df_join['h_relative_to_saturated_peak'] = df_join.h - df_join.h_pulse\n",
    "#     df_join['is_saturated'] = df_join.ph_count_smooth >= saturation_threshold \n",
    "    \n",
    "    if (strength not in ['weak','strong']) | (strength == beam_strength):\n",
    "        df_list.append(df_join)\n",
    "    \n",
    "dfs = pd.concat(df_list)\n",
    "df_saturated = dfs[dfs.ph_count_smooth > 0.99]\n",
    "# df_saturated = dfs[dfs.ph_count > 0.99]\n",
    "\n",
    "# histogram binning for afterpulse peaks vs. elevation\n",
    "bins = np.arange(start=thresh_lower, stop=thresh_upper, step=bin_h)\n",
    "mids = bins[:-1] + 0.5 * bin_h\n",
    "smooth = int(smooth_h/bin_h)\n",
    "if smooth %2 == 0: smooth += 1\n",
    "def get_histograms(ph_heights):\n",
    "    hist_h = np.histogram(ph_heights, bins=bins)\n",
    "    hist_h_smooth = np.array(pd.Series(hist_h[0]).rolling(smooth,center=True,min_periods=1).mean())\n",
    "    hist_h_plot = np.array(hist_h[0]) / hist_h_smooth.max()\n",
    "    hist_h_smooth /= hist_h_smooth.max()\n",
    "    return hist_h_plot, hist_h_smooth\n",
    "\n",
    "hist_h_all, hist_h_smooth_all = get_histograms(dfs.h)\n",
    "hist_h_sat, hist_h_smooth_sat = get_histograms(df_saturated.h)\n",
    "hist_h_sat_adjusted, hist_h_smooth_sat_adjusted = get_histograms(df_saturated.h_relative_to_saturated_peak)\n",
    "\n",
    "hist_h_issat = np.histogram(dfs.h_relative_to_saturated_peak[dfs.is_saturated], bins=bins)\n",
    "hist_h_nosat = np.histogram(dfs.h[~dfs.is_saturated], bins=bins)\n",
    "hist_h_issat = hist_h_issat[0] / np.sum(dfs.is_saturated)\n",
    "hist_h_nosat = hist_h_nosat[0] / np.sum(~dfs.is_saturated)\n",
    "hist_h_issat_smooth = np.array(pd.Series(hist_h_issat).rolling(smooth,center=True,min_periods=1).mean())\n",
    "hist_h_nosat_smooth = np.array(pd.Series(hist_h_nosat).rolling(smooth,center=True,min_periods=1).mean())\n",
    "normval = hist_h_issat_smooth.max()\n",
    "hist_h_issat /= normval\n",
    "hist_h_nosat /= normval\n",
    "hist_h_issat_smooth /= normval\n",
    "hist_h_nosat_smooth /= normval\n",
    "\n",
    "fig, (ax,ax2) = plt.subplots(ncols=2, figsize=[9, 5], dpi=100)\n",
    "ylms = (thresh_lower, thresh_upper)\n",
    "xlim_ax2 = (1e-5,10)\n",
    "\n",
    "# histogram showing peaks for specular returns\n",
    "ax.scatter(hist_h_all, mids, s=3, color='black', lw=0.5, edgecolors='none', alpha=0.15)\n",
    "ax.plot(hist_h_smooth_all, mids, 'k-', lw=1)\n",
    "ax.set_xlabel('normalized photon counts')\n",
    "ax.set_ylabel('elevation relative to lake surface')\n",
    "ax.set_xlim(xlim_ax2)\n",
    "ax.set_ylim(ylms)\n",
    "ax.set_xscale('log')\n",
    "for i in range(len(df_pks_info)):\n",
    "    thispk = df_pks_info.iloc[i]\n",
    "    thispeak_height = hist_h_smooth_all[np.argmin(np.abs(mids-thispk.h_lake))]\n",
    "    ax.plot([xlim_ax2[0], thispeak_height], [thispk.h_lake]*2, color=thispk.color, ls=thispk.ls, zorder=-1000)\n",
    "    if i == 0:\n",
    "        ax.text(1.1*xlim_ax2[0], thispk.h_lake, 'lake surface', color=thispk.color, ha='left', va='bottom')\n",
    "    else:\n",
    "        ax.text(thispeak_height, thispk.h_lake, '    %.2f m' % thispk.h_lake, color=thispk.color, weight='bold', va='center')\n",
    "\n",
    "\n",
    "ax2.scatter(hist_h_sat_adjusted, mids, s=3, color='black', lw=0.5, edgecolors='none', alpha=0.15)\n",
    "ax2.plot(hist_h_smooth_sat_adjusted, mids, 'k-', lw=1)\n",
    "# ax2.plot(hist_h_issat_smooth, mids, 'r-', lw=2)\n",
    "# ax2.plot(hist_h_nosat_smooth, mids, 'k-', lw=1, zorder=-100)\n",
    "# ax2.scatter(hist_h_issat, mids, s=3, color='red', lw=0.5, edgecolors='none', alpha=0.15, zorder=-200)\n",
    "# ax2.scatter(hist_h_nosat, mids, s=3, color='black', lw=0.5, edgecolors='none', alpha=0.15, zorder=-300)\n",
    "ax2.set_xlabel('normalized photon counts (saturated pulses only)')\n",
    "ax2.set_ylabel('elevation relative to saturated surface return')\n",
    "ax2.set_xlim(xlim_ax2)\n",
    "ax2.set_ylim(ylms)\n",
    "ax2.set_xscale('log')\n",
    "for i in range(len(df_pks_info)):\n",
    "    thispk = df_pks_info.iloc[i]\n",
    "    thispeak_height = hist_h_smooth_sat_adjusted[np.argmin(np.abs(mids-thispk.h_pulse))]\n",
    "    ax2.plot([xlim_ax2[0], thispeak_height], [thispk.h_pulse]*2, color=thispk.color, ls=thispk.ls, zorder=-1000)\n",
    "    if i == 0:\n",
    "        ax2.text(1.1*xlim_ax2[0], thispk.h_pulse, 'saturated surface return', color=thispk.color, ha='left', va='bottom')\n",
    "    else:\n",
    "        ax2.text(thispeak_height, thispk.h_pulse, '    %.2f m' % thispk.h_pulse, color=thispk.color, weight='bold', va='center')\n",
    "        \n",
    "fig.suptitle('ICESat-2 afterpulses over melt lakes (%s beams)' % strength, y=0.98, fontsize=10)\n",
    "fig.tight_layout()\n",
    "\n",
    "figname = 'figs_afterpulses/ICESat-2-afterpulses-melt-lakes-%s-beams.jpg' % strength\n",
    "fig.savefig(figname, dpi=300, bbox_inches='tight', pad_inches=0)"
   ]
  },
  {
   "cell_type": "markdown",
   "id": "33f2d43f-7eb8-43db-933c-2a460a782c48",
   "metadata": {},
   "source": [
    "# Plot comparison between weak and strong beams"
   ]
  },
  {
   "cell_type": "code",
   "execution_count": null,
   "id": "76fad65d-fe91-4112-8a66-ccc99f473e1e",
   "metadata": {},
   "outputs": [],
   "source": [
    "plt.close('all')\n",
    "\n",
    "for strength in ['all', 'weak', 'strong']:\n",
    "    df_list = []\n",
    "    n_lakes = 0\n",
    "    for i in range(71):\n",
    "    # for i in lake_idxs:\n",
    "\n",
    "        fn = 'pickles/specular%02i.pkl' % i\n",
    "        with open(fn, 'rb') as f:\n",
    "            lk = pickle.load(f)\n",
    "\n",
    "        surf_elev = lk['surface_elevation']\n",
    "        df = lk['photon_data']\n",
    "        beam_strength = lk['beam_strength']\n",
    "        dfs = df[(df.h < (thresh_upper+surf_elev)) & (df.h > (thresh_lower+surf_elev))].copy()\n",
    "        dfs['h'] = dfs.h - surf_elev\n",
    "        dfs['pulseid'] = dfs.apply(lambda row: 1000*row.mframe+row.ph_id_pulse, axis=1)\n",
    "        dfs = dfs.set_index('pulseid')\n",
    "        df_surf_photons = dfs[(dfs.h >= -0.25) & (dfs.h < 0.25)].copy()\n",
    "        df_pulses = group_by_pulse(df_surf_photons, smooth_pulse, beam_strength)\n",
    "        df_join = dfs.join(df_pulses, how='left', rsuffix='_pulse')\n",
    "        df_join['h_relative_to_saturated_peak'] = df_join.h - df_join.h_pulse\n",
    "        if (strength not in ['weak','strong']) | (strength == beam_strength):\n",
    "            n_lakes += 1\n",
    "            df_list.append(df_join)\n",
    "\n",
    "    dfs = pd.concat(df_list)\n",
    "    df_saturated = dfs[dfs.ph_count_smooth > 0.93]\n",
    "    # df_saturated = dfs[dfs.ph_count > 0.99]\n",
    "\n",
    "    # histogram binning for afterpulse peaks vs. elevation\n",
    "    bins = np.arange(start=thresh_lower, stop=thresh_upper, step=bin_h)\n",
    "    mids = bins[:-1] + 0.5 * bin_h\n",
    "    smooth = int(smooth_h/bin_h)\n",
    "    if smooth %2 == 0: smooth += 1\n",
    "    def get_histograms(ph_heights):\n",
    "        hist_h = np.histogram(ph_heights, bins=bins)\n",
    "        hist_h_smooth = np.array(pd.Series(hist_h[0]).rolling(smooth,center=True,min_periods=1).mean())\n",
    "        hist_h_plot = np.array(hist_h[0]) / hist_h_smooth.max()\n",
    "        hist_h_smooth /= hist_h_smooth.max()\n",
    "        return hist_h_plot, hist_h_smooth\n",
    "\n",
    "    hist_h_all, hist_h_smooth_all = get_histograms(dfs.h)\n",
    "    hist_h_sat, hist_h_smooth_sat = get_histograms(df_saturated.h)\n",
    "    hist_h_sat_adjusted, hist_h_smooth_sat_adjusted = get_histograms(df_saturated.h_relative_to_saturated_peak)\n",
    "\n",
    "    fig, ax2 = plt.subplots(ncols=1, figsize=[5, 5], dpi=100)\n",
    "    ylms = (thresh_lower, thresh_upper)\n",
    "    xlim_ax2 = (1e-4,10)\n",
    "\n",
    "    # histogram showing peaks for specular returns\n",
    "    ax2.scatter(hist_h_sat_adjusted, mids, s=3, color='black', lw=0.5, edgecolors='none', alpha=0.15)\n",
    "    ax2.plot(hist_h_smooth_sat_adjusted, mids, 'k-', lw=1)\n",
    "    ax2.set_xlabel('normalized photon counts (saturated pulses only)')\n",
    "    ax2.set_ylabel('elevation relative to saturated surface return')\n",
    "    ax2.set_xlim(xlim_ax2)\n",
    "    ax2.set_ylim(ylms)\n",
    "    ax2.set_xscale('log')\n",
    "    for i in range(len(df_pks_info)):\n",
    "        thispk = df_pks_info.iloc[i]\n",
    "        thispeak_height = hist_h_smooth_sat_adjusted[np.argmin(np.abs(mids-thispk.h_pulse))]\n",
    "        ax2.plot([xlim_ax2[0], thispeak_height], [thispk.h_pulse]*2, color=thispk.color, ls=thispk.ls, zorder=-1000)\n",
    "        if i == 0:\n",
    "            ax2.text(1.1*xlim_ax2[0], thispk.h_pulse, 'saturated surface return', color=thispk.color, ha='left', va='bottom')\n",
    "        else:\n",
    "            ax2.text(thispeak_height, thispk.h_pulse, '    %.2f m' % thispk.h_pulse, color=thispk.color, weight='bold', va='center')\n",
    "\n",
    "    ax2.text(0.7, 0.95, '%s beams' % strength, ha='center', va='center', fontsize=10, weight='bold', color='red', transform=ax2.transAxes)\n",
    "    txt = 'ICESat-2 afterpulses over %i Greenland melt lakes\\n' % n_lakes\n",
    "    txt += 'granule: %s' % lk['granule_id']\n",
    "    ax2.set_title(txt, fontsize=10)\n",
    "    fig.tight_layout()\n",
    "\n",
    "    figname = 'figs_afterpulses/ICESat2-meltlake-afterpulses-%s-beams.jpg' % strength\n",
    "    fig.savefig(figname, dpi=300, bbox_inches='tight', pad_inches=0)"
   ]
  },
  {
   "cell_type": "markdown",
   "id": "b752cb32-e952-468f-a694-be5cb6189b3c",
   "metadata": {},
   "source": [
    "# Example of second return removal"
   ]
  },
  {
   "cell_type": "code",
   "execution_count": null,
   "id": "93521946-5615-45f3-9a24-9b7285a5849c",
   "metadata": {},
   "outputs": [],
   "source": [
    "# lake 3 (gt1l, weak)\n",
    "# lake 13* (gt1r, strong)\n",
    "# lake 23 (gt1r, strong)\n",
    "# lake 24 (gt1r, strong)\n",
    "# lake 28 (gt1r, strong)\n",
    "# lake 31** (gt2l, weak)\n",
    "# lake 35** (gt2l, weak)\n",
    "# lake 36** (gt2l, weak)\n",
    "# lake 37** (gt2l, weak)\n",
    "# lake 39*** (gt2l, weak)\n",
    "# lake 43 (gt2r, strong)\n",
    "# lake 44* (gt2r, strong)\n",
    "# lake 45 (gt2r, strong)\n",
    "# lake 46** (gt2r, strong)\n",
    "# lake 48 (gt2r, strong)\n",
    "# lake 50*** (gt2r, strong)\n",
    "# lake 51** (gt2r, strong)\n",
    "# lake 53** (gt2r, strong)\n",
    "# lake 54 (gt2r, strong)"
   ]
  },
  {
   "cell_type": "code",
   "execution_count": 49,
   "id": "7cf7b2ab-e633-4c5c-b6e4-e888c566920a",
   "metadata": {},
   "outputs": [],
   "source": [
    "%matplotlib widget\n",
    "import os\n",
    "import pickle\n",
    "import math\n",
    "import numpy as np\n",
    "import pandas as pd\n",
    "import matplotlib\n",
    "import matplotlib.pyplot as plt\n",
    "from datetime import datetime\n",
    "from IPython.display import Image, display\n",
    "from cmcrameri import cm as cmc\n",
    "from mpl_toolkits.axes_grid1 import make_axes_locatable\n",
    "from scipy.signal import find_peaks\n",
    "from matplotlib.patches import Rectangle\n",
    "import matplotlib.gridspec as gsp\n",
    "plt.rcParams.update({'font.size': 5})\n",
    "\n",
    "def group_by_pulse(df_in, smoothing, beam_strength):\n",
    "    thegroup = df_in.groupby('pulseid')\n",
    "    df_grouped = thegroup[['xatc', 'h']].mean()\n",
    "    norm_factor = 4 if beam_strength == 'weak' else 16\n",
    "    df_grouped['ph_count'] = thegroup['h'].count() / norm_factor\n",
    "    df_grouped['ph_count_smooth'] = np.array(df_grouped.ph_count.rolling(smoothing,center=True,min_periods=1).mean())\n",
    "    return df_grouped\n",
    "\n",
    "def get_histograms(ph_heights, bins, smooth):\n",
    "    hist_h = np.histogram(ph_heights, bins=bins)\n",
    "    hist_h_smooth = np.array(pd.Series(hist_h[0]).rolling(smooth,center=True,min_periods=1).mean())\n",
    "    hist_h_plot = np.array(hist_h[0]) / hist_h_smooth.max()\n",
    "    hist_h_smooth /= hist_h_smooth.max()\n",
    "    return hist_h_plot, hist_h_smooth\n",
    "\n",
    "def plot_counts(df_in, df_pks_info, thisax, alph):\n",
    "    thisax.scatter(df_in.xatc, df_in.ph_count, s=3, color=df_pks_info.iloc[i].color, edgecolors='none', alpha=alph)\n",
    "    thisax.plot(df_in.xatc, df_in.ph_count_smooth, color=df_pks_info.iloc[i].color, ls=df_pks_info.iloc[i].ls, lw=1)\n",
    "    \n",
    "def hex2rgb(hex_str):\n",
    "    return list(np.array([int(hex_str.lstrip('#')[i:i+2], 16) for i in (0, 2, 4)],dtype=float)/255)\n",
    "\n",
    "thresh_upper = 1.0\n",
    "thresh_lower = -5.0\n",
    "bin_h = 0.01\n",
    "smooth_h = 0.1\n",
    "extent_buffer = 20.0\n",
    "smooth_pulse = 1 # makes it roughly the footprint size\n",
    "smooth_pulse_plot = 20 # to get an idea from the plot\n",
    "saturation_threshold = 0.97\n",
    "removal_width_adjust = 0.5\n",
    "surf_saturation_detection_limits = [-0.3,0.5]\n",
    "surf_saturation_detection_step = 0.025\n",
    "\n",
    "\n",
    "cols_pk = ['#000000','#CD104D', '#E14D2A', '#FD841F', '#8FE3CF', '#256D85']\n",
    "desc_pk = ['lake surface', 'dead time (1st)', 'dead time (2nd)', 'dead time (3rd)',\n",
    "           'internal reflection (1st)', 'internal reflection (2nd)']\n",
    "lsty_pk = ['-', '-', '--', ':', '-', ':']\n",
    "elev_pk_lake = [0.0, -0.55, -0.845, -1.36, -2.4, -4.2]\n",
    "elev_pk_puls = [0.0, -0.55, -0.91, -1.465, -2.4, -4.2]\n",
    "widths_pk = [0.225, 0.225, 0.225, 0.225, 0.3, 0.3] # 0.225 m on each side makes it 0.45 total, which is the dead-time for ATLAS\n",
    "df_pks_info = pd.DataFrame({'h_lake': elev_pk_lake, 'h_pulse': elev_pk_puls, 'width': widths_pk, \n",
    "                            'description': desc_pk, 'color': cols_pk, 'ls': lsty_pk})"
   ]
  },
  {
   "cell_type": "code",
   "execution_count": 51,
   "id": "2e8e51b2-2f9b-4922-974b-d499f8076320",
   "metadata": {},
   "outputs": [
    {
     "data": {
      "application/vnd.jupyter.widget-view+json": {
       "model_id": "cadd15152a9542abba6545d253a34111",
       "version_major": 2,
       "version_minor": 0
      },
      "text/plain": [
       "Canvas(toolbar=Toolbar(toolitems=[('Home', 'Reset original view', 'home', 'home'), ('Back', 'Back to previous …"
      ]
     },
     "metadata": {},
     "output_type": "display_data"
    },
    {
     "data": {
      "application/vnd.jupyter.widget-view+json": {
       "model_id": "61251568ca8c48d1ae41360147e174db",
       "version_major": 2,
       "version_minor": 0
      },
      "text/plain": [
       "Canvas(toolbar=Toolbar(toolitems=[('Home', 'Reset original view', 'home', 'home'), ('Back', 'Back to previous …"
      ]
     },
     "metadata": {},
     "output_type": "display_data"
    },
    {
     "data": {
      "application/vnd.jupyter.widget-view+json": {
       "model_id": "c933f254ee854aa38ff7c38184e32605",
       "version_major": 2,
       "version_minor": 0
      },
      "text/plain": [
       "Canvas(toolbar=Toolbar(toolitems=[('Home', 'Reset original view', 'home', 'home'), ('Back', 'Back to previous …"
      ]
     },
     "metadata": {},
     "output_type": "display_data"
    },
    {
     "data": {
      "application/vnd.jupyter.widget-view+json": {
       "model_id": "985fae663ea848baaa9547e7d462257d",
       "version_major": 2,
       "version_minor": 0
      },
      "text/plain": [
       "Canvas(toolbar=Toolbar(toolitems=[('Home', 'Reset original view', 'home', 'home'), ('Back', 'Back to previous …"
      ]
     },
     "metadata": {},
     "output_type": "display_data"
    },
    {
     "data": {
      "application/vnd.jupyter.widget-view+json": {
       "model_id": "3dff44c9f81f46ff99ce7c9becff77a2",
       "version_major": 2,
       "version_minor": 0
      },
      "text/plain": [
       "Canvas(toolbar=Toolbar(toolitems=[('Home', 'Reset original view', 'home', 'home'), ('Back', 'Back to previous …"
      ]
     },
     "metadata": {},
     "output_type": "display_data"
    },
    {
     "data": {
      "application/vnd.jupyter.widget-view+json": {
       "model_id": "de2c62f5c85942d9b5714b221c768d76",
       "version_major": 2,
       "version_minor": 0
      },
      "text/plain": [
       "Canvas(toolbar=Toolbar(toolitems=[('Home', 'Reset original view', 'home', 'home'), ('Back', 'Back to previous …"
      ]
     },
     "metadata": {},
     "output_type": "display_data"
    },
    {
     "data": {
      "application/vnd.jupyter.widget-view+json": {
       "model_id": "780d7d90f9af45d5b1415cd23a4de817",
       "version_major": 2,
       "version_minor": 0
      },
      "text/plain": [
       "Canvas(toolbar=Toolbar(toolitems=[('Home', 'Reset original view', 'home', 'home'), ('Back', 'Back to previous …"
      ]
     },
     "metadata": {},
     "output_type": "display_data"
    },
    {
     "data": {
      "application/vnd.jupyter.widget-view+json": {
       "model_id": "52be9e2324bb4338ab513750e30cb8e8",
       "version_major": 2,
       "version_minor": 0
      },
      "text/plain": [
       "Canvas(toolbar=Toolbar(toolitems=[('Home', 'Reset original view', 'home', 'home'), ('Back', 'Back to previous …"
      ]
     },
     "metadata": {},
     "output_type": "display_data"
    },
    {
     "data": {
      "application/vnd.jupyter.widget-view+json": {
       "model_id": "96080143f0624066962d86d07673ab7f",
       "version_major": 2,
       "version_minor": 0
      },
      "text/plain": [
       "Canvas(toolbar=Toolbar(toolitems=[('Home', 'Reset original view', 'home', 'home'), ('Back', 'Back to previous …"
      ]
     },
     "metadata": {},
     "output_type": "display_data"
    },
    {
     "data": {
      "application/vnd.jupyter.widget-view+json": {
       "model_id": "95c37ce522f741499e6fca5d10e47da6",
       "version_major": 2,
       "version_minor": 0
      },
      "text/plain": [
       "Canvas(toolbar=Toolbar(toolitems=[('Home', 'Reset original view', 'home', 'home'), ('Back', 'Back to previous …"
      ]
     },
     "metadata": {},
     "output_type": "display_data"
    },
    {
     "data": {
      "application/vnd.jupyter.widget-view+json": {
       "model_id": "7b383d4940894d07a2da965003be6bc5",
       "version_major": 2,
       "version_minor": 0
      },
      "text/plain": [
       "Canvas(toolbar=Toolbar(toolitems=[('Home', 'Reset original view', 'home', 'home'), ('Back', 'Back to previous …"
      ]
     },
     "metadata": {},
     "output_type": "display_data"
    },
    {
     "data": {
      "application/vnd.jupyter.widget-view+json": {
       "model_id": "31a7aaf5e9a44a5aa8e5425f415621f5",
       "version_major": 2,
       "version_minor": 0
      },
      "text/plain": [
       "Canvas(toolbar=Toolbar(toolitems=[('Home', 'Reset original view', 'home', 'home'), ('Back', 'Back to previous …"
      ]
     },
     "metadata": {},
     "output_type": "display_data"
    },
    {
     "data": {
      "application/vnd.jupyter.widget-view+json": {
       "model_id": "aa30fc816b76410a9e72b624fd4ac4ef",
       "version_major": 2,
       "version_minor": 0
      },
      "text/plain": [
       "Canvas(toolbar=Toolbar(toolitems=[('Home', 'Reset original view', 'home', 'home'), ('Back', 'Back to previous …"
      ]
     },
     "metadata": {},
     "output_type": "display_data"
    },
    {
     "data": {
      "application/vnd.jupyter.widget-view+json": {
       "model_id": "b9f46a1b2a474e1a8409a8f6a04a8a37",
       "version_major": 2,
       "version_minor": 0
      },
      "text/plain": [
       "Canvas(toolbar=Toolbar(toolitems=[('Home', 'Reset original view', 'home', 'home'), ('Back', 'Back to previous …"
      ]
     },
     "metadata": {},
     "output_type": "display_data"
    },
    {
     "data": {
      "application/vnd.jupyter.widget-view+json": {
       "model_id": "77f02d61fdb04f9c9b41bc951b7cef38",
       "version_major": 2,
       "version_minor": 0
      },
      "text/plain": [
       "Canvas(toolbar=Toolbar(toolitems=[('Home', 'Reset original view', 'home', 'home'), ('Back', 'Back to previous …"
      ]
     },
     "metadata": {},
     "output_type": "display_data"
    },
    {
     "data": {
      "application/vnd.jupyter.widget-view+json": {
       "model_id": "60408ad6f6fe4c05b039ed553c62b49a",
       "version_major": 2,
       "version_minor": 0
      },
      "text/plain": [
       "Canvas(toolbar=Toolbar(toolitems=[('Home', 'Reset original view', 'home', 'home'), ('Back', 'Back to previous …"
      ]
     },
     "metadata": {},
     "output_type": "display_data"
    },
    {
     "data": {
      "application/vnd.jupyter.widget-view+json": {
       "model_id": "e7a9d480f54a40fc9af59ccd9b6ec1b2",
       "version_major": 2,
       "version_minor": 0
      },
      "text/plain": [
       "Canvas(toolbar=Toolbar(toolitems=[('Home', 'Reset original view', 'home', 'home'), ('Back', 'Back to previous …"
      ]
     },
     "metadata": {},
     "output_type": "display_data"
    },
    {
     "data": {
      "application/vnd.jupyter.widget-view+json": {
       "model_id": "6703ea3357134dca8f1bf4f479747539",
       "version_major": 2,
       "version_minor": 0
      },
      "text/plain": [
       "Canvas(toolbar=Toolbar(toolitems=[('Home', 'Reset original view', 'home', 'home'), ('Back', 'Back to previous …"
      ]
     },
     "metadata": {},
     "output_type": "display_data"
    },
    {
     "data": {
      "application/vnd.jupyter.widget-view+json": {
       "model_id": "35548252c82d47cb894fbacc870a86c4",
       "version_major": 2,
       "version_minor": 0
      },
      "text/plain": [
       "Canvas(toolbar=Toolbar(toolitems=[('Home', 'Reset original view', 'home', 'home'), ('Back', 'Back to previous …"
      ]
     },
     "metadata": {},
     "output_type": "display_data"
    },
    {
     "data": {
      "application/vnd.jupyter.widget-view+json": {
       "model_id": "b3a15eb2e9a44bf0b80e317bc21c89f0",
       "version_major": 2,
       "version_minor": 0
      },
      "text/plain": [
       "Canvas(toolbar=Toolbar(toolitems=[('Home', 'Reset original view', 'home', 'home'), ('Back', 'Back to previous …"
      ]
     },
     "metadata": {},
     "output_type": "display_data"
    },
    {
     "name": "stderr",
     "output_type": "stream",
     "text": [
      "<ipython-input-51-c8d5120c6325>:224: UserWarning: Tight layout not applied. tight_layout cannot make axes width small enough to accommodate all axes decorations\n",
      "  fig.tight_layout()\n"
     ]
    },
    {
     "ename": "ValueError",
     "evalue": "Image size of 217692x1382 pixels is too large. It must be less than 2^16 in each direction.",
     "output_type": "error",
     "traceback": [
      "\u001b[0;31m---------------------------------------------------------------------------\u001b[0m",
      "\u001b[0;31mValueError\u001b[0m                                Traceback (most recent call last)",
      "\u001b[0;32m<ipython-input-51-c8d5120c6325>\u001b[0m in \u001b[0;36m<module>\u001b[0;34m\u001b[0m\n\u001b[1;32m    225\u001b[0m \u001b[0;34m\u001b[0m\u001b[0m\n\u001b[1;32m    226\u001b[0m     \u001b[0mfigname\u001b[0m \u001b[0;34m=\u001b[0m \u001b[0;34m'figs_afterpulses/afterpulse_removal_%s.jpg'\u001b[0m \u001b[0;34m%\u001b[0m \u001b[0mfilename\u001b[0m\u001b[0;34m[\u001b[0m\u001b[0mfilename\u001b[0m\u001b[0;34m.\u001b[0m\u001b[0mrfind\u001b[0m\u001b[0;34m(\u001b[0m\u001b[0;34m'/'\u001b[0m\u001b[0;34m)\u001b[0m\u001b[0;34m+\u001b[0m\u001b[0;36m1\u001b[0m\u001b[0;34m:\u001b[0m\u001b[0;34m]\u001b[0m\u001b[0;34m.\u001b[0m\u001b[0mreplace\u001b[0m\u001b[0;34m(\u001b[0m\u001b[0;34m'.pkl'\u001b[0m\u001b[0;34m,\u001b[0m \u001b[0;34m''\u001b[0m\u001b[0;34m)\u001b[0m\u001b[0;34m\u001b[0m\u001b[0;34m\u001b[0m\u001b[0m\n\u001b[0;32m--> 227\u001b[0;31m     \u001b[0mfig\u001b[0m\u001b[0;34m.\u001b[0m\u001b[0msavefig\u001b[0m\u001b[0;34m(\u001b[0m\u001b[0mfigname\u001b[0m\u001b[0;34m,\u001b[0m \u001b[0mdpi\u001b[0m\u001b[0;34m=\u001b[0m\u001b[0;36m300\u001b[0m\u001b[0;34m,\u001b[0m \u001b[0mbbox_inches\u001b[0m\u001b[0;34m=\u001b[0m\u001b[0;34m'tight'\u001b[0m\u001b[0;34m,\u001b[0m \u001b[0mpad_inches\u001b[0m\u001b[0;34m=\u001b[0m\u001b[0;36m0\u001b[0m\u001b[0;34m)\u001b[0m\u001b[0;34m\u001b[0m\u001b[0;34m\u001b[0m\u001b[0m\n\u001b[0m",
      "\u001b[0;32m~/anaconda3/envs/icepyx-env/lib/python3.9/site-packages/matplotlib/figure.py\u001b[0m in \u001b[0;36msavefig\u001b[0;34m(self, fname, transparent, **kwargs)\u001b[0m\n\u001b[1;32m   3003\u001b[0m                 \u001b[0mpatch\u001b[0m\u001b[0;34m.\u001b[0m\u001b[0mset_edgecolor\u001b[0m\u001b[0;34m(\u001b[0m\u001b[0;34m'none'\u001b[0m\u001b[0;34m)\u001b[0m\u001b[0;34m\u001b[0m\u001b[0;34m\u001b[0m\u001b[0m\n\u001b[1;32m   3004\u001b[0m \u001b[0;34m\u001b[0m\u001b[0m\n\u001b[0;32m-> 3005\u001b[0;31m         \u001b[0mself\u001b[0m\u001b[0;34m.\u001b[0m\u001b[0mcanvas\u001b[0m\u001b[0;34m.\u001b[0m\u001b[0mprint_figure\u001b[0m\u001b[0;34m(\u001b[0m\u001b[0mfname\u001b[0m\u001b[0;34m,\u001b[0m \u001b[0;34m**\u001b[0m\u001b[0mkwargs\u001b[0m\u001b[0;34m)\u001b[0m\u001b[0;34m\u001b[0m\u001b[0;34m\u001b[0m\u001b[0m\n\u001b[0m\u001b[1;32m   3006\u001b[0m \u001b[0;34m\u001b[0m\u001b[0m\n\u001b[1;32m   3007\u001b[0m         \u001b[0;32mif\u001b[0m \u001b[0mtransparent\u001b[0m\u001b[0;34m:\u001b[0m\u001b[0;34m\u001b[0m\u001b[0;34m\u001b[0m\u001b[0m\n",
      "\u001b[0;32m~/anaconda3/envs/icepyx-env/lib/python3.9/site-packages/matplotlib/backend_bases.py\u001b[0m in \u001b[0;36mprint_figure\u001b[0;34m(self, filename, dpi, facecolor, edgecolor, orientation, format, bbox_inches, pad_inches, bbox_extra_artists, backend, **kwargs)\u001b[0m\n\u001b[1;32m   2253\u001b[0m                 \u001b[0;31m# force the figure dpi to 72), so we need to set it again here.\u001b[0m\u001b[0;34m\u001b[0m\u001b[0;34m\u001b[0m\u001b[0;34m\u001b[0m\u001b[0m\n\u001b[1;32m   2254\u001b[0m                 \u001b[0;32mwith\u001b[0m \u001b[0mcbook\u001b[0m\u001b[0;34m.\u001b[0m\u001b[0m_setattr_cm\u001b[0m\u001b[0;34m(\u001b[0m\u001b[0mself\u001b[0m\u001b[0;34m.\u001b[0m\u001b[0mfigure\u001b[0m\u001b[0;34m,\u001b[0m \u001b[0mdpi\u001b[0m\u001b[0;34m=\u001b[0m\u001b[0mdpi\u001b[0m\u001b[0;34m)\u001b[0m\u001b[0;34m:\u001b[0m\u001b[0;34m\u001b[0m\u001b[0;34m\u001b[0m\u001b[0m\n\u001b[0;32m-> 2255\u001b[0;31m                     result = print_method(\n\u001b[0m\u001b[1;32m   2256\u001b[0m                         \u001b[0mfilename\u001b[0m\u001b[0;34m,\u001b[0m\u001b[0;34m\u001b[0m\u001b[0;34m\u001b[0m\u001b[0m\n\u001b[1;32m   2257\u001b[0m                         \u001b[0mfacecolor\u001b[0m\u001b[0;34m=\u001b[0m\u001b[0mfacecolor\u001b[0m\u001b[0;34m,\u001b[0m\u001b[0;34m\u001b[0m\u001b[0;34m\u001b[0m\u001b[0m\n",
      "\u001b[0;32m~/anaconda3/envs/icepyx-env/lib/python3.9/site-packages/matplotlib/backend_bases.py\u001b[0m in \u001b[0;36mwrapper\u001b[0;34m(*args, **kwargs)\u001b[0m\n\u001b[1;32m   1667\u001b[0m             \u001b[0mkwargs\u001b[0m\u001b[0;34m.\u001b[0m\u001b[0mpop\u001b[0m\u001b[0;34m(\u001b[0m\u001b[0marg\u001b[0m\u001b[0;34m)\u001b[0m\u001b[0;34m\u001b[0m\u001b[0;34m\u001b[0m\u001b[0m\n\u001b[1;32m   1668\u001b[0m \u001b[0;34m\u001b[0m\u001b[0m\n\u001b[0;32m-> 1669\u001b[0;31m         \u001b[0;32mreturn\u001b[0m \u001b[0mfunc\u001b[0m\u001b[0;34m(\u001b[0m\u001b[0;34m*\u001b[0m\u001b[0margs\u001b[0m\u001b[0;34m,\u001b[0m \u001b[0;34m**\u001b[0m\u001b[0mkwargs\u001b[0m\u001b[0;34m)\u001b[0m\u001b[0;34m\u001b[0m\u001b[0;34m\u001b[0m\u001b[0m\n\u001b[0m\u001b[1;32m   1670\u001b[0m \u001b[0;34m\u001b[0m\u001b[0m\n\u001b[1;32m   1671\u001b[0m     \u001b[0;32mreturn\u001b[0m \u001b[0mwrapper\u001b[0m\u001b[0;34m\u001b[0m\u001b[0;34m\u001b[0m\u001b[0m\n",
      "\u001b[0;32m~/anaconda3/envs/icepyx-env/lib/python3.9/site-packages/matplotlib/_api/deprecation.py\u001b[0m in \u001b[0;36mwrapper\u001b[0;34m(*inner_args, **inner_kwargs)\u001b[0m\n\u001b[1;32m    429\u001b[0m                          \u001b[0;32melse\u001b[0m \u001b[0mdeprecation_addendum\u001b[0m\u001b[0;34m,\u001b[0m\u001b[0;34m\u001b[0m\u001b[0;34m\u001b[0m\u001b[0m\n\u001b[1;32m    430\u001b[0m                 **kwargs)\n\u001b[0;32m--> 431\u001b[0;31m         \u001b[0;32mreturn\u001b[0m \u001b[0mfunc\u001b[0m\u001b[0;34m(\u001b[0m\u001b[0;34m*\u001b[0m\u001b[0minner_args\u001b[0m\u001b[0;34m,\u001b[0m \u001b[0;34m**\u001b[0m\u001b[0minner_kwargs\u001b[0m\u001b[0;34m)\u001b[0m\u001b[0;34m\u001b[0m\u001b[0;34m\u001b[0m\u001b[0m\n\u001b[0m\u001b[1;32m    432\u001b[0m \u001b[0;34m\u001b[0m\u001b[0m\n\u001b[1;32m    433\u001b[0m     \u001b[0;32mreturn\u001b[0m \u001b[0mwrapper\u001b[0m\u001b[0;34m\u001b[0m\u001b[0;34m\u001b[0m\u001b[0m\n",
      "\u001b[0;32m~/anaconda3/envs/icepyx-env/lib/python3.9/site-packages/matplotlib/_api/deprecation.py\u001b[0m in \u001b[0;36mwrapper\u001b[0;34m(*inner_args, **inner_kwargs)\u001b[0m\n\u001b[1;32m    429\u001b[0m                          \u001b[0;32melse\u001b[0m \u001b[0mdeprecation_addendum\u001b[0m\u001b[0;34m,\u001b[0m\u001b[0;34m\u001b[0m\u001b[0;34m\u001b[0m\u001b[0m\n\u001b[1;32m    430\u001b[0m                 **kwargs)\n\u001b[0;32m--> 431\u001b[0;31m         \u001b[0;32mreturn\u001b[0m \u001b[0mfunc\u001b[0m\u001b[0;34m(\u001b[0m\u001b[0;34m*\u001b[0m\u001b[0minner_args\u001b[0m\u001b[0;34m,\u001b[0m \u001b[0;34m**\u001b[0m\u001b[0minner_kwargs\u001b[0m\u001b[0;34m)\u001b[0m\u001b[0;34m\u001b[0m\u001b[0;34m\u001b[0m\u001b[0m\n\u001b[0m\u001b[1;32m    432\u001b[0m \u001b[0;34m\u001b[0m\u001b[0m\n\u001b[1;32m    433\u001b[0m     \u001b[0;32mreturn\u001b[0m \u001b[0mwrapper\u001b[0m\u001b[0;34m\u001b[0m\u001b[0;34m\u001b[0m\u001b[0m\n",
      "\u001b[0;32m~/anaconda3/envs/icepyx-env/lib/python3.9/site-packages/matplotlib/_api/deprecation.py\u001b[0m in \u001b[0;36mwrapper\u001b[0;34m(*inner_args, **inner_kwargs)\u001b[0m\n\u001b[1;32m    429\u001b[0m                          \u001b[0;32melse\u001b[0m \u001b[0mdeprecation_addendum\u001b[0m\u001b[0;34m,\u001b[0m\u001b[0;34m\u001b[0m\u001b[0;34m\u001b[0m\u001b[0m\n\u001b[1;32m    430\u001b[0m                 **kwargs)\n\u001b[0;32m--> 431\u001b[0;31m         \u001b[0;32mreturn\u001b[0m \u001b[0mfunc\u001b[0m\u001b[0;34m(\u001b[0m\u001b[0;34m*\u001b[0m\u001b[0minner_args\u001b[0m\u001b[0;34m,\u001b[0m \u001b[0;34m**\u001b[0m\u001b[0minner_kwargs\u001b[0m\u001b[0;34m)\u001b[0m\u001b[0;34m\u001b[0m\u001b[0;34m\u001b[0m\u001b[0m\n\u001b[0m\u001b[1;32m    432\u001b[0m \u001b[0;34m\u001b[0m\u001b[0m\n\u001b[1;32m    433\u001b[0m     \u001b[0;32mreturn\u001b[0m \u001b[0mwrapper\u001b[0m\u001b[0;34m\u001b[0m\u001b[0;34m\u001b[0m\u001b[0m\n",
      "\u001b[0;32m~/anaconda3/envs/icepyx-env/lib/python3.9/site-packages/matplotlib/backends/backend_agg.py\u001b[0m in \u001b[0;36mprint_jpg\u001b[0;34m(self, filename_or_obj, pil_kwargs, *args, **kwargs)\u001b[0m\n\u001b[1;32m    562\u001b[0m         \u001b[0;32mtry\u001b[0m\u001b[0;34m:\u001b[0m\u001b[0;34m\u001b[0m\u001b[0;34m\u001b[0m\u001b[0m\n\u001b[1;32m    563\u001b[0m             \u001b[0mself\u001b[0m\u001b[0;34m.\u001b[0m\u001b[0mfigure\u001b[0m\u001b[0;34m.\u001b[0m\u001b[0mset_facecolor\u001b[0m\u001b[0;34m(\u001b[0m\u001b[0ma\u001b[0m \u001b[0;34m*\u001b[0m \u001b[0mnp\u001b[0m\u001b[0;34m.\u001b[0m\u001b[0marray\u001b[0m\u001b[0;34m(\u001b[0m\u001b[0;34m[\u001b[0m\u001b[0mr\u001b[0m\u001b[0;34m,\u001b[0m \u001b[0mg\u001b[0m\u001b[0;34m,\u001b[0m \u001b[0mb\u001b[0m\u001b[0;34m]\u001b[0m\u001b[0;34m)\u001b[0m \u001b[0;34m+\u001b[0m \u001b[0;36m1\u001b[0m \u001b[0;34m-\u001b[0m \u001b[0ma\u001b[0m\u001b[0;34m)\u001b[0m\u001b[0;34m\u001b[0m\u001b[0;34m\u001b[0m\u001b[0m\n\u001b[0;32m--> 564\u001b[0;31m             \u001b[0mFigureCanvasAgg\u001b[0m\u001b[0;34m.\u001b[0m\u001b[0mdraw\u001b[0m\u001b[0;34m(\u001b[0m\u001b[0mself\u001b[0m\u001b[0;34m)\u001b[0m\u001b[0;34m\u001b[0m\u001b[0;34m\u001b[0m\u001b[0m\n\u001b[0m\u001b[1;32m    565\u001b[0m         \u001b[0;32mfinally\u001b[0m\u001b[0;34m:\u001b[0m\u001b[0;34m\u001b[0m\u001b[0;34m\u001b[0m\u001b[0m\n\u001b[1;32m    566\u001b[0m             \u001b[0mself\u001b[0m\u001b[0;34m.\u001b[0m\u001b[0mfigure\u001b[0m\u001b[0;34m.\u001b[0m\u001b[0mset_facecolor\u001b[0m\u001b[0;34m(\u001b[0m\u001b[0;34m(\u001b[0m\u001b[0mr\u001b[0m\u001b[0;34m,\u001b[0m \u001b[0mg\u001b[0m\u001b[0;34m,\u001b[0m \u001b[0mb\u001b[0m\u001b[0;34m,\u001b[0m \u001b[0ma\u001b[0m\u001b[0;34m)\u001b[0m\u001b[0;34m)\u001b[0m\u001b[0;34m\u001b[0m\u001b[0;34m\u001b[0m\u001b[0m\n",
      "\u001b[0;32m~/anaconda3/envs/icepyx-env/lib/python3.9/site-packages/matplotlib/backends/backend_agg.py\u001b[0m in \u001b[0;36mdraw\u001b[0;34m(self)\u001b[0m\n\u001b[1;32m    399\u001b[0m     \u001b[0;32mdef\u001b[0m \u001b[0mdraw\u001b[0m\u001b[0;34m(\u001b[0m\u001b[0mself\u001b[0m\u001b[0;34m)\u001b[0m\u001b[0;34m:\u001b[0m\u001b[0;34m\u001b[0m\u001b[0;34m\u001b[0m\u001b[0m\n\u001b[1;32m    400\u001b[0m         \u001b[0;31m# docstring inherited\u001b[0m\u001b[0;34m\u001b[0m\u001b[0;34m\u001b[0m\u001b[0;34m\u001b[0m\u001b[0m\n\u001b[0;32m--> 401\u001b[0;31m         \u001b[0mself\u001b[0m\u001b[0;34m.\u001b[0m\u001b[0mrenderer\u001b[0m \u001b[0;34m=\u001b[0m \u001b[0mself\u001b[0m\u001b[0;34m.\u001b[0m\u001b[0mget_renderer\u001b[0m\u001b[0;34m(\u001b[0m\u001b[0mcleared\u001b[0m\u001b[0;34m=\u001b[0m\u001b[0;32mTrue\u001b[0m\u001b[0;34m)\u001b[0m\u001b[0;34m\u001b[0m\u001b[0;34m\u001b[0m\u001b[0m\n\u001b[0m\u001b[1;32m    402\u001b[0m         \u001b[0;31m# Acquire a lock on the shared font cache.\u001b[0m\u001b[0;34m\u001b[0m\u001b[0;34m\u001b[0m\u001b[0;34m\u001b[0m\u001b[0m\n\u001b[1;32m    403\u001b[0m         \u001b[0;32mwith\u001b[0m \u001b[0mRendererAgg\u001b[0m\u001b[0;34m.\u001b[0m\u001b[0mlock\u001b[0m\u001b[0;34m,\u001b[0m\u001b[0;31m \u001b[0m\u001b[0;31m\\\u001b[0m\u001b[0;34m\u001b[0m\u001b[0;34m\u001b[0m\u001b[0m\n",
      "\u001b[0;32m~/anaconda3/envs/icepyx-env/lib/python3.9/site-packages/matplotlib/backends/backend_webagg_core.py\u001b[0m in \u001b[0;36mget_renderer\u001b[0;34m(self, cleared)\u001b[0m\n\u001b[1;32m    221\u001b[0m \u001b[0;34m\u001b[0m\u001b[0m\n\u001b[1;32m    222\u001b[0m         \u001b[0;32mif\u001b[0m \u001b[0mneed_new_renderer\u001b[0m\u001b[0;34m:\u001b[0m\u001b[0;34m\u001b[0m\u001b[0;34m\u001b[0m\u001b[0m\n\u001b[0;32m--> 223\u001b[0;31m             self._renderer = backend_agg.RendererAgg(\n\u001b[0m\u001b[1;32m    224\u001b[0m                 w, h, self.figure.dpi)\n\u001b[1;32m    225\u001b[0m             \u001b[0mself\u001b[0m\u001b[0;34m.\u001b[0m\u001b[0m_lastKey\u001b[0m \u001b[0;34m=\u001b[0m \u001b[0mkey\u001b[0m\u001b[0;34m\u001b[0m\u001b[0;34m\u001b[0m\u001b[0m\n",
      "\u001b[0;32m~/anaconda3/envs/icepyx-env/lib/python3.9/site-packages/matplotlib/backends/backend_agg.py\u001b[0m in \u001b[0;36m__init__\u001b[0;34m(self, width, height, dpi)\u001b[0m\n\u001b[1;32m     89\u001b[0m         \u001b[0mself\u001b[0m\u001b[0;34m.\u001b[0m\u001b[0mwidth\u001b[0m \u001b[0;34m=\u001b[0m \u001b[0mwidth\u001b[0m\u001b[0;34m\u001b[0m\u001b[0;34m\u001b[0m\u001b[0m\n\u001b[1;32m     90\u001b[0m         \u001b[0mself\u001b[0m\u001b[0;34m.\u001b[0m\u001b[0mheight\u001b[0m \u001b[0;34m=\u001b[0m \u001b[0mheight\u001b[0m\u001b[0;34m\u001b[0m\u001b[0;34m\u001b[0m\u001b[0m\n\u001b[0;32m---> 91\u001b[0;31m         \u001b[0mself\u001b[0m\u001b[0;34m.\u001b[0m\u001b[0m_renderer\u001b[0m \u001b[0;34m=\u001b[0m \u001b[0m_RendererAgg\u001b[0m\u001b[0;34m(\u001b[0m\u001b[0mint\u001b[0m\u001b[0;34m(\u001b[0m\u001b[0mwidth\u001b[0m\u001b[0;34m)\u001b[0m\u001b[0;34m,\u001b[0m \u001b[0mint\u001b[0m\u001b[0;34m(\u001b[0m\u001b[0mheight\u001b[0m\u001b[0;34m)\u001b[0m\u001b[0;34m,\u001b[0m \u001b[0mdpi\u001b[0m\u001b[0;34m)\u001b[0m\u001b[0;34m\u001b[0m\u001b[0;34m\u001b[0m\u001b[0m\n\u001b[0m\u001b[1;32m     92\u001b[0m         \u001b[0mself\u001b[0m\u001b[0;34m.\u001b[0m\u001b[0m_filter_renderers\u001b[0m \u001b[0;34m=\u001b[0m \u001b[0;34m[\u001b[0m\u001b[0;34m]\u001b[0m\u001b[0;34m\u001b[0m\u001b[0;34m\u001b[0m\u001b[0m\n\u001b[1;32m     93\u001b[0m \u001b[0;34m\u001b[0m\u001b[0m\n",
      "\u001b[0;31mValueError\u001b[0m: Image size of 217692x1382 pixels is too large. It must be less than 2^16 in each direction."
     ]
    }
   ],
   "source": [
    "plt.close('all')\n",
    "\n",
    "searchfor = 'specular_test0001_'\n",
    "\n",
    "filelist = ['pickles/'+f for f in os.listdir('pickles') \\\n",
    "            if os.path.isfile(os.path.join('pickles', f)) & (searchfor in f)]\n",
    "\n",
    "for filename in filelist:\n",
    "\n",
    "    with open(filename, 'rb') as f:\n",
    "        lk = pickle.load(f)\n",
    "\n",
    "    surf_elev = lk['surface_elevation']\n",
    "    df = lk['photon_data']\n",
    "    beam_strength = lk['beam_strength']\n",
    "\n",
    "    df['is_afterpulse'] = False\n",
    "    selector_afterpulse_search = (df.h < (thresh_upper+surf_elev)) & (df.h > (thresh_lower+surf_elev))\n",
    "    dfs = df[selector_afterpulse_search].copy()\n",
    "    dfs['h'] = dfs.h - surf_elev\n",
    "    dfs['pulseid'] = dfs.apply(lambda row: 1000*row.mframe+row.ph_id_pulse, axis=1)\n",
    "    dfs['ph_index'] = dfs.index\n",
    "    dfs = dfs.set_index('pulseid')\n",
    "    pkinfo = df_pks_info.iloc[0]\n",
    "    photon_df = dfs[(dfs.h >= (pkinfo.h_pulse - 0.2)) & (dfs.h < (pkinfo.h_pulse + pkinfo.width))]\n",
    "    df_pulses = group_by_pulse(photon_df,smooth_pulse,beam_strength)\n",
    "    df_join = dfs.join(df_pulses, how='left', rsuffix='_pulse')\n",
    "    df_join['pulseid'] = dfs.index\n",
    "    df_join = df_join.set_index('ph_index')\n",
    "    df_join['h_relative_to_saturated_peak'] = df_join.h - df_join.h_pulse\n",
    "    df_join['is_saturated'] = df_join.ph_count_smooth >= saturation_threshold \n",
    "\n",
    "    # histogram binning for plotting afterpulse peaks vs. elevation\n",
    "    bins = np.arange(start=thresh_lower, stop=thresh_upper, step=bin_h)\n",
    "    mids = bins[:-1] + 0.5 * bin_h\n",
    "    smooth = int(smooth_h/bin_h)\n",
    "    if smooth %2 == 0: smooth += 1\n",
    "    hist_h, hist_h_smooth = get_histograms(df_join.h_relative_to_saturated_peak, bins, smooth)\n",
    "\n",
    "    # get saturation ratio for each possible afterpulse\n",
    "    pulse_dfs = []\n",
    "    for i in range(len(df_pks_info)):\n",
    "        pkinfo = df_pks_info.iloc[i]\n",
    "        photon_df = df_join[(df_join.h >= (pkinfo.h_pulse - pkinfo.width)) & (df_join.h < (pkinfo.h_pulse + pkinfo.width))]\n",
    "        pulse_dfs.append(group_by_pulse(photon_df, smooth_pulse_plot, beam_strength))\n",
    "\n",
    "    # indicate possible afterpulses\n",
    "    for i in range(1, len(df_pks_info)):\n",
    "        pkinfo = df_pks_info.iloc[i]\n",
    "        is_in_afterpulse_range = (df_join.h >= (pkinfo.h_lake - pkinfo.width)) & (df_join.h < (pkinfo.h_lake + pkinfo.width))\n",
    "        is_afterpulse = is_in_afterpulse_range & df_join.is_saturated\n",
    "        df_join.loc[is_afterpulse, 'is_afterpulse'] = True\n",
    "\n",
    "    df.loc[selector_afterpulse_search, 'is_afterpulse'] = df_join.is_afterpulse\n",
    "\n",
    "    # get saturated segments that are continuous for longer than x meters, for plotting\n",
    "    current_list, saturat_segs, i = [], [], 0\n",
    "    min_length_saturated_plot = 15.0 # roughly the footprint size\n",
    "    while i < len(df_join):\n",
    "        if df_join.is_saturated.iloc[i]:\n",
    "            current_list.append(i)\n",
    "        elif len(current_list) > 1:\n",
    "            saturat_segs.append([df_join.xatc.iloc[current_list[0]], df_join.xatc.iloc[current_list[-1]]])\n",
    "            current_list = []\n",
    "        i += 1 \n",
    "    saturat_segs_xatc = [item for item in saturat_segs if np.abs(item[-1] - item[0]) > min_length_saturated_plot]\n",
    "\n",
    "    df_plot_afterpulses = df[df.is_afterpulse]\n",
    "    df_plot_no_afterpulses = df[~df.is_afterpulse]\n",
    "\n",
    "    #__________________________________________________________________\n",
    "    # make the figure\n",
    "    #fig, ((ax1,ax2),(ax3,ax4)) = plt.subplots(nrows=2, ncols=2, figsize=[9, 5], dpi=100)\n",
    "    fig = plt.figure(figsize=[9, 5], dpi=100)\n",
    "    gs = fig.add_gridspec(4, 4)\n",
    "    ax1 = fig.add_subplot(gs[ :2,  :2])\n",
    "    ax2 = fig.add_subplot(gs[ :2, 2:4])\n",
    "    ax3 = fig.add_subplot(gs[2:4,  :2])\n",
    "    ax4 = fig.add_subplot(gs[2:4, 2:3])\n",
    "    ax5 = fig.add_subplot(gs[2:4, 3:4])\n",
    "\n",
    "    if len(lk['surface_extent_detection'])>0:\n",
    "        xlms = (lk['surface_extent_detection'][0][0]-extent_buffer, lk['surface_extent_detection'][-1][-1]+extent_buffer)\n",
    "    else:\n",
    "        xlms = (df_join.xatc.min(), df_join.xatc.max())\n",
    "    xlim_ax2 = (5e-5,2)\n",
    "    ylms = (thresh_lower, thresh_upper)\n",
    "    lbpd = 0 # axis label padding\n",
    "    lbsz = 7 # axis label font size\n",
    "\n",
    "    #------------------------------------------------------------------\n",
    "    # ax1: selected photons\n",
    "    ax = ax1\n",
    "    pscatt = ax.scatter(dfs.xatc, dfs.h, s=1, c='k', alpha=1, edgecolors='none',label='ATL03 data')\n",
    "    ax.scatter(df_plot_afterpulses.xatc, df_plot_afterpulses.h-surf_elev, s=1.5, c='k', edgecolors='none')\n",
    "    ax.scatter(df_plot_afterpulses.xatc, df_plot_afterpulses.h-surf_elev, s=1, c='r', edgecolors='none')\n",
    "\n",
    "    # title and labels\n",
    "    ax.set_axisbelow(True)\n",
    "    ax.grid(which='major', axis='both', color='gray', lw=0.5, alpha=0.3)\n",
    "    ax.set_xlim(xlms)\n",
    "    ax.set_ylim(ylms)\n",
    "    bbox = {'fc':(1,1,1,0.75), 'ec':(1,1,1,0), 'pad':1}\n",
    "    ax.text(0.5, 0.95, 'ATL03 photon data', va='center', ha='center', fontsize=8, weight='bold', bbox=bbox, transform=ax.transAxes)\n",
    "    ax.set_xlabel('along-track distance [m]', fontsize=lbsz, labelpad=lbpd)\n",
    "    ax.set_ylabel('elevation realtive to lake surface [m]', fontsize=lbsz, labelpad=lbpd)\n",
    "\n",
    "    #------------------------------------------------------------------\n",
    "    # ax2: histogram showing peaks for specular returns\n",
    "    ax = ax2\n",
    "    ax.scatter(hist_h, mids, s=3, color='black', lw=0.5, edgecolors='none', alpha=0.15)\n",
    "    ax.plot(hist_h_smooth, mids, 'k-', lw=1)\n",
    "    ax.set_xlim(xlim_ax2)\n",
    "    ax.set_ylim(ylms)\n",
    "    ax.set_xscale('log')\n",
    "    ax.grid(which='major', axis='y', color='gray', lw=0.5, alpha=0.3)\n",
    "    for i in range(len(df_pks_info)):\n",
    "        thispk = df_pks_info.iloc[i]\n",
    "        thispeak_height = hist_h_smooth[np.argmin(np.abs(mids-thispk.h_pulse))]\n",
    "        ax.plot([xlim_ax2[0], thispeak_height], [thispk.h_pulse]*2, color=thispk.color, ls=thispk.ls, zorder=-1000, lw=0.5)\n",
    "        if i == 0:\n",
    "            ax.text(1.1*xlim_ax2[0], thispk.h_pulse, 'saturated surface return', color=thispk.color, \n",
    "                    ha='left', va='bottom', fontsize=7)\n",
    "        else:\n",
    "            ax.text(thispeak_height, thispk.h_pulse, '    %.2f m' % thispk.h_pulse, color=thispk.color, \n",
    "                    weight='bold', va='center', fontsize=7)\n",
    "    ax.set_xlabel('normalized photon counts (saturated pulses only)', fontsize=lbsz, labelpad=lbpd)\n",
    "    ax.set_ylabel('elevation relative to saturated\\npulse surface peak [m]', fontsize=lbsz, labelpad=lbpd)\n",
    "\n",
    "    #-------------------------------------------------\n",
    "    # plot photon counts per shot\n",
    "    alph = 0.1\n",
    "    ax = ax3\n",
    "\n",
    "    for i,this_peak_pulse_df in enumerate(pulse_dfs):\n",
    "        plot_counts(this_peak_pulse_df, df_pks_info, ax, alph)\n",
    "\n",
    "    ax.set_xlim(xlms)\n",
    "    ax.set_yscale('log')\n",
    "    ax.grid(which='major', axis='x', color='gray', lw=0.5, alpha=0.3)\n",
    "    ax.set_yticks([])\n",
    "    if beam_strength == 'strong':\n",
    "        yts = [0.1, 0.2, 0.3, 0.4, 0.5, 0.6, 0.7, 0.8, 0.9, 1.0]\n",
    "        ax.set_ylim((1/16,1.05))\n",
    "    if beam_strength == 'weak':\n",
    "        ax.set_ylim((1/4,1.05))\n",
    "        yts = [0.3, 0.4, 0.5, 0.6, 0.7, 0.8, 0.9, 1.0]\n",
    "    ytl = ['%.1f'%yt for yt in yts]\n",
    "    ax.set_yticks(yts)\n",
    "    ax.set_yticklabels(ytl)\n",
    "    ax.set_xlabel('along-track distance [m]', fontsize=lbsz, labelpad=lbpd)\n",
    "    ax.set_ylabel('% saturated per pulse', fontsize=lbsz, labelpad=lbpd)\n",
    "\n",
    "    #-------------------------------------------------\n",
    "    # the full lake, for reference\n",
    "    rng = np.abs(surf_elev-np.min(lk['detection_2nd_returns']['h']))\n",
    "    yls = (surf_elev-1.1*rng, surf_elev+0.3*rng)\n",
    "\n",
    "    # all the data \n",
    "    ax = ax4\n",
    "    ax.scatter(df.xatc, df.h, c='k', s=1, alpha=1, edgecolors='none')\n",
    "    ax.set_xlim((df.xatc.min(),df.xatc.max()))\n",
    "    ax.set_ylim(yls)\n",
    "    bbox = {'fc':(1,1,1,0.75), 'ec':(1,1,1,0), 'pad':1}\n",
    "    ax.text(0.5, 0.95, 'all photons', va='center', ha='center', fontsize=8, weight='bold', bbox=bbox, transform=ax.transAxes)\n",
    "    ax.set_xlabel('along-track distance [m]', fontsize=lbsz-1, labelpad=lbpd)\n",
    "    ax.set_ylabel('elevation above geoid [m]', fontsize=lbsz, labelpad=lbpd)\n",
    "\n",
    "    # now with afterpulses removed\n",
    "    ax = ax5\n",
    "    ax.scatter(df_plot_no_afterpulses.xatc, df_plot_no_afterpulses.h, c='k', s=1, alpha=1, edgecolors='none')\n",
    "    ax.set_xlim((df.xatc.min(),df.xatc.max()))\n",
    "    ax.set_ylim(yls)\n",
    "    ax.set_yticks([])\n",
    "    bbox = {'fc':(1,1,1,0.75), 'ec':(1,1,1,0), 'pad':1}\n",
    "    ax.text(0.5, 0.95, 'afterpulses removed', va='center', ha='center', fontsize=8, weight='bold', bbox=bbox, transform=ax.transAxes)\n",
    "    ax.set_xlabel('along-track distance [m]', fontsize=lbsz-1, labelpad=lbpd)\n",
    "\n",
    "    #_________________________________________________\n",
    "    # highlight saturated areas\n",
    "    alph = 0.3\n",
    "    sat_color = [1, 1, 0]\n",
    "    for seg_xatc in saturat_segs_xatc:\n",
    "        # highlight saturation on ax3\n",
    "        yls = ax3.get_ylim()\n",
    "        xy, width, height = (seg_xatc[0], yls[0]), np.abs(seg_xatc[-1]-seg_xatc[0]), yls[-1]-yls[0]\n",
    "        rct = Rectangle(xy, width, height, ec=(1,1,1,0), fc=sat_color+[alph], zorder=-1000)\n",
    "        ax3.add_patch(rct)\n",
    "        # highlight saturation on ax1, where they overlap\n",
    "        yls = ax1.get_ylim()\n",
    "        xy, width, height = (seg_xatc[0], yls[0]), np.abs(seg_xatc[-1]-seg_xatc[0]), yls[-1]-yls[0]\n",
    "        rct = Rectangle(xy, width, height, ec=(1,1,1,0), fc=sat_color+[alph], zorder=-1000)\n",
    "        ax1.add_patch(rct)\n",
    "\n",
    "    # highlight peak ranges \n",
    "    afterpulse_hdls = []\n",
    "    for i in range(1,len(df_pks_info)):\n",
    "        info = df_pks_info.iloc[i]\n",
    "        # highlight ranges on ax2\n",
    "        lower, upper = info.h_pulse-info.width*removal_width_adjust, info.h_pulse+info.width*removal_width_adjust\n",
    "        selector = (mids > lower) & (mids < upper)\n",
    "        ys_fill, x1_fill = mids[selector], hist_h_smooth[selector]\n",
    "        x2_fill = [xlim_ax2[0]]*len(ys_fill)\n",
    "        thiscolor = hex2rgb(info.color) + [alph]\n",
    "        hdl = ax2.fill_betweenx(ys_fill, x1_fill, x2_fill, ec=(1,1,1,0), fc=thiscolor, zorder=-10000, label=info.description)\n",
    "        afterpulse_hdls.append(hdl)\n",
    "        # highlight ranges on ax1, where they overlap\n",
    "        xy, width, height = (xlms[0],info.h_lake-info.width*removal_width_adjust), xlms[1]-xlms[0], info.width*removal_width_adjust*2\n",
    "        thiscolor = hex2rgb(info.color) + [alph]\n",
    "        rct = Rectangle(xy, width, height, ec=(1,1,1,0), fc=thiscolor, zorder=-1000)\n",
    "        ax1.add_patch(rct)\n",
    "\n",
    "    ax2.legend(handles=afterpulse_hdls, loc='lower right')\n",
    "\n",
    "    #_________________________________________________\n",
    "    # final figure stuff\n",
    "    txt  = 'REMOVAL OF ICESat-2 SPECULAR RETURN AFTERPULSES OVER A MELT LAKE\\n'\n",
    "    txt += 'location: %s, %s (area: %s) | ' % (lk['lat_str'], lk['lon_str'], lk['polygon_name'])\n",
    "    txt += 'time: %s UTC | surface elevation: %.2f m\\n' % (lk['date_time'], lk['surface_elevation'])\n",
    "    txt += 'RGT %s %s cycle %i | ' % (lk['rgt'], lk['gtx'].upper(), lk['cycle_number'])\n",
    "    txt += 'beam %i (%s, %s spacecraft orientation) | ' % (lk['beam_number'], lk['beam_strength'], lk['sc_orient'])\n",
    "    txt += 'granule ID: %s' % lk['granule_id']\n",
    "    fig.suptitle(txt, y=0.98, fontsize=9)\n",
    "    fig.tight_layout()\n",
    "\n",
    "    figname = 'figs_afterpulses/afterpulse_removal_%s.jpg' % filename[filename.rfind('/')+1:].replace('.pkl', '')\n",
    "    fig.savefig(figname, dpi=300, bbox_inches='tight', pad_inches=0)"
   ]
  },
  {
   "cell_type": "markdown",
   "id": "151c2651-3750-4d08-8444-f2cc5b3c55c7",
   "metadata": {},
   "source": [
    "# testing"
   ]
  },
  {
   "cell_type": "code",
   "execution_count": null,
   "id": "ba5e8ddd-75b1-46c2-b2cc-f83d8cc13d8d",
   "metadata": {},
   "outputs": [],
   "source": [
    "%matplotlib widget\n",
    "import pickle\n",
    "import math\n",
    "import numpy as np\n",
    "import pandas as pd\n",
    "import matplotlib\n",
    "import matplotlib.pyplot as plt\n",
    "from datetime import datetime\n",
    "from IPython.display import Image, display\n",
    "from cmcrameri import cm as cmc\n",
    "from mpl_toolkits.axes_grid1 import make_axes_locatable\n",
    "from scipy.signal import find_peaks\n",
    "plt.rcParams.update({'font.size': 8})\n",
    "\n",
    "def group_by_pulse(df_in, smoothing, beam_strength):\n",
    "    thegroup = df_in.groupby('pulseid')\n",
    "    df_grouped = thegroup[['xatc', 'h']].mean()\n",
    "    norm_factor = 4 if beam_strength == 'weak' else 16\n",
    "    df_grouped['ph_count'] = thegroup['h'].count() / norm_factor\n",
    "    df_grouped['ph_count_smooth'] = np.array(df_grouped.ph_count.rolling(smoothing,center=True,min_periods=1).mean())\n",
    "    return df_grouped\n",
    "\n",
    "def get_histograms(ph_heights, bins, smooth):\n",
    "    hist_h = np.histogram(ph_heights, bins=bins)\n",
    "    hist_h_smooth = np.array(pd.Series(hist_h[0]).rolling(smooth,center=True,min_periods=1).mean())\n",
    "    hist_h_plot = np.array(hist_h[0]) / hist_h_smooth.max()\n",
    "    hist_h_smooth /= hist_h_smooth.max()\n",
    "    return hist_h_plot, hist_h_smooth\n",
    "\n",
    "def plot_counts(df_in, df_pks_info, thisax, alph):\n",
    "    thisax.scatter(df_in.xatc, df_in.ph_count, s=3, color=df_pks_info.iloc[i].color, edgecolors='none', alpha=alph)\n",
    "    thisax.plot(df_in.xatc, df_in.ph_count_smooth, color=df_pks_info.iloc[i].color, ls=df_pks_info.iloc[i].ls)\n",
    "    \n",
    "thresh_upper = 1.0\n",
    "thresh_lower = -5.0\n",
    "bin_h = 0.01\n",
    "smooth_h = 0.1\n",
    "extent_buffer = 20.0\n",
    "smooth_pulse = 15 # makes it roughly the footprint size\n",
    "saturation_threshold = 0.95\n",
    "\n",
    "cols_pk = ['black','#CD104D', '#E14D2A', '#FD841F', '#8FE3CF', '#256D85']\n",
    "lsty_pk = ['-', '-', '--', ':', '-', ':']\n",
    "elev_pk_lake = [0.0, -0.55, -0.845, -1.36, -2.4, -4.2]\n",
    "elev_pk_puls = [0.0, -0.55, -0.91, -1.465, -2.4, -4.2]\n",
    "widths_pk = [0.225, 0.225, 0.225, 0.225, 0.3, 0.3] # 0.225 m on each side makes it 0.45 total, which is the dead-time for ATLAS\n",
    "df_pks_info = pd.DataFrame({'h_lake': elev_pk_lake, 'h_pulse': elev_pk_puls, 'width': widths_pk, 'color': cols_pk, 'ls': lsty_pk})\n",
    "\n",
    "plt.close('all')\n",
    "i = 50\n",
    "\n",
    "fn = 'pickles/specular%02i.pkl' % i\n",
    "with open(fn, 'rb') as f:\n",
    "    lk = pickle.load(f)\n",
    "\n",
    "surf_elev = lk['surface_elevation']\n",
    "df = lk['photon_data']\n",
    "beam_strength = lk['beam_strength']\n",
    "dfs = df[(df.h < (thresh_upper+surf_elev)) & (df.h > (thresh_lower+surf_elev))].copy()\n",
    "dfs['h'] = dfs.h - surf_elev\n",
    "dfs['pulseid'] = dfs.apply(lambda row: 1000*row.mframe+row.ph_id_pulse, axis=1)\n",
    "dfs['ph_index'] = dfs.index\n",
    "dfs = dfs.set_index('pulseid')\n",
    "pkinfo = df_pks_info.iloc[0]\n",
    "photon_df = dfs[(dfs.h >= (pkinfo.h_pulse - pkinfo.width)) & (dfs.h < (pkinfo.h_pulse + pkinfo.width))]\n",
    "df_pulses = group_by_pulse(photon_df,smooth_pulse,beam_strength)\n",
    "df_join = dfs.join(df_pulses, how='left', rsuffix='_pulse')\n",
    "df_join['pulseid'] = dfs.index\n",
    "df_join = df_join.set_index('ph_index')\n",
    "df_join['h_relative_to_saturated_peak'] = df_join.h - df_join.h_pulse\n",
    "df_join['is_saturated'] = df_join.ph_count_smooth >= saturation_threshold \n",
    "\n",
    "# histogram binning for plotting afterpulse peaks vs. elevation\n",
    "bins = np.arange(start=thresh_lower, stop=thresh_upper, step=bin_h)\n",
    "mids = bins[:-1] + 0.5 * bin_h\n",
    "smooth = int(smooth_h/bin_h)\n",
    "if smooth %2 == 0: smooth += 1\n",
    "# hist_h, hist_h_smooth = get_histograms(df_join.h_relative_to_saturated_peak[df_join.is_saturated], bins, smooth)\n",
    "\n",
    "hist_h_issat = np.histogram(df_join.h_relative_to_saturated_peak[df_join.is_saturated], bins=bins)\n",
    "hist_h_nosat = np.histogram(df_join.h[~df_join.is_saturated], bins=bins)\n",
    "hist_h_issat = hist_h_issat[0] / np.sum(df_join.is_saturated)\n",
    "hist_h_nosat = hist_h_nosat[0] / np.sum(~df_join.is_saturated)\n",
    "hist_h_issat_smooth = np.array(pd.Series(hist_h_issat).rolling(smooth,center=True,min_periods=1).mean())\n",
    "hist_h_nosat_smooth = np.array(pd.Series(hist_h_nosat).rolling(smooth,center=True,min_periods=1).mean())\n",
    "normval = hist_h_issat_smooth.max()\n",
    "hist_h_issat /= normval\n",
    "hist_h_nosat /= normval\n",
    "hist_h_issat_smooth /= normval\n",
    "hist_h_nosat_smooth /= normval\n",
    "\n",
    "# get saturation ratio for each possible afterpulse\n",
    "pulse_dfs = []\n",
    "for i in range(len(df_pks_info)):\n",
    "    pkinfo = df_pks_info.iloc[i]\n",
    "    photon_df = df_join[(df_join.h >= (pkinfo.h_pulse - pkinfo.width)) & (df_join.h < (pkinfo.h_pulse + pkinfo.width))]\n",
    "    pulse_dfs.append(group_by_pulse(photon_df,smooth_pulse,beam_strength))\n",
    "\n",
    "#__________________________________________________________________\n",
    "# make the figure\n",
    "fig, ax = plt.subplots(nrows=1, ncols=1, figsize=[5, 5], dpi=100)\n",
    "xlms = (df_join.xatc.min(), df_join.xatc.max())\n",
    "xlim_ax2 = (5e-5,2)\n",
    "ylms = (thresh_lower, thresh_upper)\n",
    "\n",
    "#------------------------------------------------------------------\n",
    "# ax: histogram showing peaks for specular returns\n",
    "ax.plot(hist_h_issat_smooth, mids, 'r-', lw=2)\n",
    "ax.plot(hist_h_nosat_smooth, mids, 'k-', lw=1, zorder=-100)\n",
    "ax.scatter(hist_h_issat, mids, s=3, color='red', lw=0.5, edgecolors='none', alpha=0.15, zorder=-200)\n",
    "ax.scatter(hist_h_nosat, mids, s=3, color='black', lw=0.5, edgecolors='none', alpha=0.15, zorder=-300)\n",
    "ax.set_xlabel('normalized photon counts (saturated pulses only)')\n",
    "ax.set_ylabel('elevation relative to saturated\\npulse surface peak [m]')\n",
    "ax.set_xlim(xlim_ax2)\n",
    "ax.set_ylim(ylms)\n",
    "ax.set_xscale('log')\n",
    "for i in range(len(df_pks_info)):\n",
    "    thispk = df_pks_info.iloc[i]\n",
    "    thispeak_height = hist_h_smooth[np.argmin(np.abs(mids-thispk.h_pulse))]\n",
    "    ax.plot([xlim_ax2[0], thispeak_height], [thispk.h_pulse]*2, color=thispk.color, ls=thispk.ls, zorder=-1000)\n",
    "    if i == 0:\n",
    "        ax.text(1.1*xlim_ax2[0], thispk.h_pulse, 'saturated surface return', color=thispk.color, ha='left', va='bottom')\n",
    "    else:\n",
    "        ax.text(thispeak_height, thispk.h_pulse, '    %.2f m' % thispk.h_pulse, color=thispk.color, weight='bold', va='center')\n",
    "\n",
    "fig.suptitle('example of specular return afterpulses over a melt lake in ICESat-2 data', y=0.98, fontsize=10)\n",
    "fig.tight_layout()\n",
    "\n",
    "# figname = 'figs_afterpulses/afterpulse_my-example_lake.jpg'"
   ]
  },
  {
   "cell_type": "code",
   "execution_count": null,
   "id": "c4111824-0b05-40e7-b807-d7c0fddeb4a8",
   "metadata": {},
   "outputs": [],
   "source": [
    "df_join.h[df_join.is_saturated]"
   ]
  },
  {
   "cell_type": "code",
   "execution_count": null,
   "id": "d6c6916b-965c-4875-ba96-badd166cefcc",
   "metadata": {},
   "outputs": [],
   "source": []
  },
  {
   "cell_type": "code",
   "execution_count": null,
   "id": "fb2a619d-31be-47d9-b58f-3623825b08a2",
   "metadata": {},
   "outputs": [],
   "source": []
  },
  {
   "cell_type": "code",
   "execution_count": null,
   "id": "7c36d4e5-6589-46ee-b8ca-8804e4175c2e",
   "metadata": {},
   "outputs": [],
   "source": []
  },
  {
   "cell_type": "code",
   "execution_count": null,
   "id": "8e816708-826f-42fc-b040-30a85c40b1a3",
   "metadata": {},
   "outputs": [],
   "source": []
  },
  {
   "cell_type": "code",
   "execution_count": null,
   "id": "a2790bc5-2790-49b2-bcf7-aeb6723e5f78",
   "metadata": {},
   "outputs": [],
   "source": [
    "pulse_group = dfs.groupby('pulseid')\n",
    "df_pulse = pulse_group[['xatc', 'lat', 'lon']].mean()\n",
    "df_pulse['ph_count'] = pulse_group['h'].count()\n",
    "df_pulse['ph_count_smooth'] = np.array(df_pulse.ph_count.rolling(smooth_pulse,center=True,min_periods=1).mean())\n",
    "\n",
    "pulse_group_top = df_top.groupby('pulseid')\n",
    "df_pulse_top = pulse_group_top[['xatc', 'lat', 'lon']].mean()\n",
    "df_pulse_top['ph_count'] = pulse_group_top['h'].count()\n",
    "df_pulse_top['ph_count_smooth'] = np.array(df_pulse_top.ph_count.rolling(smooth_pulse,center=True,min_periods=1).mean())\n"
   ]
  },
  {
   "cell_type": "code",
   "execution_count": null,
   "id": "1b451eba-2260-43a9-b558-adf19c982aee",
   "metadata": {},
   "outputs": [],
   "source": [
    "pulse_dfs[0]"
   ]
  },
  {
   "cell_type": "code",
   "execution_count": null,
   "id": "9578a6ec-b931-4981-8916-cec6a9720d54",
   "metadata": {},
   "outputs": [],
   "source": [
    "df_pulse"
   ]
  },
  {
   "cell_type": "code",
   "execution_count": null,
   "id": "ae3ff335-ed53-48f6-890e-3da683573ad1",
   "metadata": {},
   "outputs": [],
   "source": [
    "mframe_group = df.groupby('mframe')\n",
    "    df_mframe = mframe_group[['lat','lon', 'xatc', 'dt']].mean()\n",
    "    df_mframe.drop(df_mframe.head(1).index,inplace=True)\n",
    "    df_mframe.drop(df_mframe.tail(1).index,inplace=True)\n",
    "    df_mframe['time'] = df_mframe['dt'].map(convert_time_to_string)\n",
    "    df_mframe['xatc_min'] = mframe_group['xatc'].min()\n",
    "    df_mframe['xatc_max'] = mframe_group['xatc'].max()\n",
    "    df_mframe['n_phot'] = mframe_group['h'].count()"
   ]
  },
  {
   "cell_type": "code",
   "execution_count": null,
   "id": "0bf261a8-f5f9-473a-8457-4557fd5b7fe7",
   "metadata": {},
   "outputs": [],
   "source": [
    "# pulse_dfs[0].loc[pulse_dfs[0].iloc[:5].index]\n",
    "df_pulses = pulse_dfs[0]\n",
    "idx1 = df_pulses[df_pulses.ph_count > 0.99].index\n",
    "idx2 = df_pulses[df_pulses.ph_count > 0.99].index\n",
    "idx1.append(idx2)"
   ]
  },
  {
   "cell_type": "code",
   "execution_count": null,
   "id": "cd28d14d-6478-4e44-96d1-081eb5f74baf",
   "metadata": {},
   "outputs": [],
   "source": []
  },
  {
   "cell_type": "code",
   "execution_count": null,
   "id": "8663c10a-9a7b-445c-ab40-5f7a5c7f3695",
   "metadata": {},
   "outputs": [],
   "source": []
  },
  {
   "cell_type": "code",
   "execution_count": null,
   "id": "070abf89-6b10-48c1-938e-e1076d28382e",
   "metadata": {},
   "outputs": [],
   "source": []
  },
  {
   "cell_type": "code",
   "execution_count": null,
   "id": "cdfa7c1c-75c2-486b-986e-ebbd1f361f12",
   "metadata": {},
   "outputs": [],
   "source": [
    "lk['photon_data']"
   ]
  },
  {
   "cell_type": "code",
   "execution_count": null,
   "id": "22d60701-4ea9-4356-abd1-0e190ec4e350",
   "metadata": {},
   "outputs": [],
   "source": [
    "ax.get_xlim()"
   ]
  },
  {
   "cell_type": "code",
   "execution_count": null,
   "id": "9fce005d-ca3b-48d4-bf97-ac7b6ec4068f",
   "metadata": {},
   "outputs": [],
   "source": []
  },
  {
   "cell_type": "code",
   "execution_count": null,
   "id": "b8dc42a2-ed04-4769-b154-1c9a156619cf",
   "metadata": {},
   "outputs": [],
   "source": []
  },
  {
   "cell_type": "code",
   "execution_count": null,
   "id": "f5d5aecf-4953-4a47-ac5c-553dae4a0dbc",
   "metadata": {},
   "outputs": [],
   "source": []
  },
  {
   "cell_type": "code",
   "execution_count": null,
   "id": "9417f79b-a646-4834-ad40-2d3941478071",
   "metadata": {},
   "outputs": [],
   "source": []
  }
 ],
 "metadata": {
  "kernelspec": {
   "display_name": "icepyx-env",
   "language": "python",
   "name": "icepyx-env"
  },
  "language_info": {
   "codemirror_mode": {
    "name": "ipython",
    "version": 3
   },
   "file_extension": ".py",
   "mimetype": "text/x-python",
   "name": "python",
   "nbconvert_exporter": "python",
   "pygments_lexer": "ipython3",
   "version": "3.9.4"
  }
 },
 "nbformat": 4,
 "nbformat_minor": 5
}

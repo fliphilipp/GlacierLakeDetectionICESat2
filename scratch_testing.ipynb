{
 "cells": [
  {
   "cell_type": "code",
   "execution_count": 13,
   "id": "7eec7c5c-1d59-40da-bd7d-a28d798bb880",
   "metadata": {},
   "outputs": [],
   "source": [
    "import os\n",
    "import gc\n",
    "import re\n",
    "import json\n",
    "import shutil\n",
    "import zipfile\n",
    "import requests\n",
    "import numpy as np\n",
    "import pandas as pd\n",
    "import geopandas as gpd\n",
    "from shapely.geometry.polygon import orient\n",
    "from shapely.geometry import Polygon, mapping\n",
    "from xml.etree import ElementTree as ET\n",
    "from icelakes.utilities import get_size\n",
    "\n",
    "from icelakes.utilities import encedc, decedc\n",
    "from icelakes.nsidc import edc"
   ]
  },
  {
   "cell_type": "code",
   "execution_count": 14,
   "id": "16e25785-7ba3-48ec-a37f-aab6b2a9098b",
   "metadata": {},
   "outputs": [],
   "source": [
    "# def download_granule(granule_id, gtxs, geojson, granule_output_path, uid, pwd, vars_sub='default', spatial_sub=False): "
   ]
  },
  {
   "cell_type": "code",
   "execution_count": 50,
   "id": "b5f5509d-c4f1-4c48-bf7d-2846271e2e09",
   "metadata": {},
   "outputs": [
    {
     "name": "stdout",
     "output_type": "stream",
     "text": [
      "--> parameters: granule_id = ATL03_20220714010847_03381603_006_02.h5\n",
      "                gtxs = all\n",
      "                geojson = geojsons/simplified_GRE_2000_CW.geojson\n",
      "                granule_output_path = IS2data\n",
      "                vars_sub = default\n",
      "                spatial_sub = True\n",
      "\n",
      "\n",
      "Downloading ICESat-2 data. Found granules:\n",
      "  ATL03_20220714010847_03381603_006_02.h5, 1424.04 MB\n",
      "\n",
      "Input geojson: geojsons/simplified_GRE_2000_CW.geojson\n",
      "Simplified polygon coordinates based on geojson input: -51.44333278940379,68.31809363093925,-50.486283375267334,68.11987917978698,-47.888360504831006,68.15015250103632,-45.8852447938031,68.20688811986273,-45.58581097310032,68.40707395862792,-45.608317627349,69.12362160986147,-48.61534211860709,71.45252643441924,-48.89314373451282,71.96096228898168,-50.74725418384058,72.21898074863127,-51.61509318403716,72.03789873962877,-52.001165820260915,71.7349281448636,-51.562856327973385,71.62820997865076,-51.78569434632586,71.22300173656397,-51.207644017164796,71.0394493315711,-50.66499233756263,70.282215143238,-50.37802982760418,69.54975620525224,-50.63129967311812,69.3282934738084,-49.963300108437686,69.14985091041659,-51.44333278940379,68.31809363093925\n",
      "\n",
      "API request URL:\n",
      "https://n5eil02u.ecs.nsidc.org/egi/request?short_name=ATL03&producer_granule_id=ATL03_20220714010847_03381603_006_02.h5&version=006&polygon=-51.44333278940379,68.31809363093925,-50.486283375267334,68.11987917978698,-47.888360504831006,68.15015250103632,-45.8852447938031,68.20688811986273,-45.58581097310032,68.40707395862792,-45.608317627349,69.12362160986147,-48.61534211860709,71.45252643441924,-48.89314373451282,71.96096228898168,-50.74725418384058,72.21898074863127,-51.61509318403716,72.03789873962877,-52.001165820260915,71.7349281448636,-51.562856327973385,71.62820997865076,-51.78569434632586,71.22300173656397,-51.207644017164796,71.0394493315711,-50.66499233756263,70.282215143238,-50.37802982760418,69.54975620525224,-50.63129967311812,69.3282934738084,-49.963300108437686,69.14985091041659,-51.44333278940379,68.31809363093925&Boundingshape=-51.44333278940379,68.31809363093925,-50.486283375267334,68.11987917978698,-47.888360504831006,68.15015250103632,-45.8852447938031,68.20688811986273,-45.58581097310032,68.40707395862792,-45.608317627349,69.12362160986147,-48.61534211860709,71.45252643441924,-48.89314373451282,71.96096228898168,-50.74725418384058,72.21898074863127,-51.61509318403716,72.03789873962877,-52.001165820260915,71.7349281448636,-51.562856327973385,71.62820997865076,-51.78569434632586,71.22300173656397,-51.207644017164796,71.0394493315711,-50.66499233756263,70.282215143238,-50.37802982760418,69.54975620525224,-50.63129967311812,69.3282934738084,-49.963300108437686,69.14985091041659,-51.44333278940379,68.31809363093925&Coverage=/ancillary_data/atlas_sdp_gps_epoch,/ancillary_data/calibrations/dead_time/gt1l,/ancillary_data/calibrations/dead_time/gt1l,/ancillary_data/calibrations/dead_time/gt1r,/ancillary_data/calibrations/dead_time/gt1r,/ancillary_data/calibrations/dead_time/gt2l,/ancillary_data/calibrations/dead_time/gt2l,/ancillary_data/calibrations/dead_time/gt2r,/ancillary_data/calibrations/dead_time/gt2r,/ancillary_data/calibrations/dead_time/gt3l,/ancillary_data/calibrations/dead_time/gt3l,/ancillary_data/calibrations/dead_time/gt3r,/ancillary_data/calibrations/dead_time/gt3r,/gt1l/geolocation/ph_index_beg,/gt1l/geolocation/segment_dist_x,/gt1l/geolocation/segment_id,/gt1l/geolocation/segment_length,/gt1l/geolocation/segment_ph_cnt,/gt1l/geophys_corr/geoid,/gt1l/heights/delta_time,/gt1l/heights/dist_ph_along,/gt1l/heights/h_ph,/gt1l/heights/lat_ph,/gt1l/heights/lon_ph,/gt1l/heights/pce_mframe_cnt,/gt1l/heights/ph_id_pulse,/gt1l/heights/quality_ph,/gt1l/heights/weight_ph,/gt1r/geolocation/ph_index_beg,/gt1r/geolocation/segment_dist_x,/gt1r/geolocation/segment_id,/gt1r/geolocation/segment_length,/gt1r/geolocation/segment_ph_cnt,/gt1r/geophys_corr/geoid,/gt1r/heights/delta_time,/gt1r/heights/dist_ph_along,/gt1r/heights/h_ph,/gt1r/heights/lat_ph,/gt1r/heights/lon_ph,/gt1r/heights/pce_mframe_cnt,/gt1r/heights/ph_id_pulse,/gt1r/heights/quality_ph,/gt1r/heights/weight_ph,/gt2l/geolocation/ph_index_beg,/gt2l/geolocation/segment_dist_x,/gt2l/geolocation/segment_id,/gt2l/geolocation/segment_length,/gt2l/geolocation/segment_ph_cnt,/gt2l/geophys_corr/geoid,/gt2l/heights/delta_time,/gt2l/heights/dist_ph_along,/gt2l/heights/h_ph,/gt2l/heights/lat_ph,/gt2l/heights/lon_ph,/gt2l/heights/pce_mframe_cnt,/gt2l/heights/ph_id_pulse,/gt2l/heights/quality_ph,/gt2l/heights/weight_ph,/gt2r/geolocation/ph_index_beg,/gt2r/geolocation/segment_dist_x,/gt2r/geolocation/segment_id,/gt2r/geolocation/segment_length,/gt2r/geolocation/segment_ph_cnt,/gt2r/geophys_corr/geoid,/gt2r/heights/delta_time,/gt2r/heights/dist_ph_along,/gt2r/heights/h_ph,/gt2r/heights/lat_ph,/gt2r/heights/lon_ph,/gt2r/heights/pce_mframe_cnt,/gt2r/heights/ph_id_pulse,/gt2r/heights/quality_ph,/gt2r/heights/weight_ph,/gt3l/geolocation/ph_index_beg,/gt3l/geolocation/segment_dist_x,/gt3l/geolocation/segment_id,/gt3l/geolocation/segment_length,/gt3l/geolocation/segment_ph_cnt,/gt3l/geophys_corr/geoid,/gt3l/heights/delta_time,/gt3l/heights/dist_ph_along,/gt3l/heights/h_ph,/gt3l/heights/lat_ph,/gt3l/heights/lon_ph,/gt3l/heights/pce_mframe_cnt,/gt3l/heights/ph_id_pulse,/gt3l/heights/quality_ph,/gt3l/heights/weight_ph,/gt3r/geolocation/ph_index_beg,/gt3r/geolocation/segment_dist_x,/gt3r/geolocation/segment_id,/gt3r/geolocation/segment_length,/gt3r/geolocation/segment_ph_cnt,/gt3r/geophys_corr/geoid,/gt3r/heights/delta_time,/gt3r/heights/dist_ph_along,/gt3r/heights/h_ph,/gt3r/heights/lat_ph,/gt3r/heights/lon_ph,/gt3r/heights/pce_mframe_cnt,/gt3r/heights/ph_id_pulse,/gt3r/heights/quality_ph,/gt3r/heights/weight_ph,/orbit_info/cycle_number,/orbit_info/rgt,/orbit_info/sc_orient&page_size=100&request_mode=async&email=yes&page_num=1\n",
      "\n",
      "Order:  1\n",
      "Requesting...\n",
      "HTTP response from order response URL: \n",
      "201 : ml version=\"1.0\" encoding=\"UTF-8\" standalone=\"yes\"?>\\n<eesi:agentResponse xmlns=\"\" xmlns:iesi=\"http://eosdis.nasa.gov/esi/rsp/i\" xmlns:ssw=\"http://newsroom.gsfc.nasa.gov/esi/rsp/ssw\" xmlns:eesi=\"http://eosdis.nasa.gov/esi/rsp/e\" xmlns:esi=\"http://eosdis.nasa.gov/esi/rsp\" xmlns:xsi=\"http://www.w3.org/2001/XMLSchema-instance\">\\n    <order>\\n        <orderId>5000004475598</orderId>\\n        <Instructions>You may receive an email about your order if you specified an EMAIL address. &lt;br/&gt;&lt;br/&gt;The instructions used to process this order are:  Bounding Shape=-51.44333278940379,68.31809363093925,-50.486283375267334,68.11987917978698,-47.888360504831006,68.15015250103632,-45.8852447938031,68.20688811986273,-45.58581097310032,68.40707395862792,-45.608317627349,69.12362160986147,-48.61534211860709,71.45252643441924,-48.89314373451282,71.96096228898168,-50.74725418384058,72.21898074863127,-51.61509318403716,72.03789873962877,-52.001165820260915,71.7349281448636,-51.562856327973385,71.62820997865076,-51.78569434632586,71.22300173656397,-51.207644017164796,71.0394493315711,-50.66499233756263,70.282215143238,-50.37802982760418,69.54975620525224,-50.63129967311812,69.3282934738084,-49.963300108437686,69.14985091041659,-51.44333278940379,68.31809363093925. Band(s)=/ancillary_data/atlas_sdp_gps_epoch,/ancillary_data/calibrations/dead_time/gt1l,/ancillary_data/calibrations/dead_time/gt1l,/ancillary_data/calibrations/dead_time/gt1r,/ancillary_data/calibrations/dead_time/gt1r,/ancillary_data/calibrations/dead_time/gt2l,/ancillary_data/calibrations/dead_time/gt2l,/ancillary_data/calibrations/dead_time/gt2r,/ancillary_data/calibrations/dead_time/gt2r,/ancillary_data/calibrations/dead_time/gt3l,/ancillary_data/calibrations/dead_time/gt3l,/ancillary_data/calibrations/dead_time/gt3r,/ancillary_data/calibrations/dead_time/gt3r,/gt1l/geolocation/ph_index_beg,/gt1l/geolocation/segment_dist_x,/gt1l/geolocation/segment_id,/gt1l/geolocation/segment_length,/gt1l/geolocation/segment_ph_cnt,/gt1l/geophys_corr/geoid,/gt1l/heights/delta_time,/gt1l/heights/dist_ph_along,/gt1l/heights/h_ph,/gt1l/heights/lat_ph,/gt1l/heights/lon_ph,/gt1l/heights/pce_mframe_cnt,/gt1l/heights/ph_id_pulse,/gt1l/heights/quality_ph,/gt1l/heights/weight_ph,/gt1r/geolocation/ph_index_beg,/gt1r/geolocation/segment_dist_x,/gt1r/geolocation/segment_id,/gt1r/geolocation/segment_length,/gt1r/geolocation/segment_ph_cnt,/gt1r/geophys_corr/geoid,/gt1r/heights/delta_time,/gt1r/heights/dist_ph_along,/gt1r/heights/h_ph,/gt1r/heights/lat_ph,/gt1r/heights/lon_ph,/gt1r/heights/pce_mframe_cnt,/gt1r/heights/ph_id_pulse,/gt1r/heights/quality_ph,/gt1r/heights/weight_ph,/gt2l/geolocation/ph_index_beg,/gt2l/geolocation/segment_dist_x,/gt2l/geolocation/segment_id,/gt2l/geolocation/segment_length,/gt2l/geolocation/segment_ph_cnt,/gt2l/geophys_corr/geoid,/gt2l/heights/delta_time,/gt2l/heights/dist_ph_along,/gt2l/heights/h_ph,/gt2l/heights/lat_ph,/gt2l/heights/lon_ph,/gt2l/heights/pce_mframe_cnt,/gt2l/heights/ph_id_pulse,/gt2l/heights/quality_ph,/gt2l/heights/weight_ph,/gt2r/geolocation/ph_index_beg,/gt2r/geolocation/segment_dist_x,/gt2r/geolocation/segment_id,/gt2r/geolocation/segment_length,/gt2r/geolocation/segment_ph_cnt,/gt2r/geophys_corr/geoid,/gt2r/heights/delta_time,/gt2r/heights/dist_ph_along,/gt2r/heights/h_ph,/gt2r/heights/lat_ph,/gt2r/heights/lon_ph,/gt2r/heights/pce_mframe_cnt,/gt2r/heights/ph_id_pulse,/gt2r/heights/quality_ph,/gt2r/heights/weight_ph,/gt3l/geolocation/ph_index_beg,/gt3l/geolocation/segment_dist_x,/gt3l/geolocation/segment_id,/gt3l/geolocation/segment_length,/gt3l/geolocation/segment_ph_cnt,/gt3l/geophys_corr/geoid,/gt3l/heights/delta_time,/gt3l/heights/dist_ph_along,/gt3l/heights/h_ph,/gt3l/heights/lat_ph,/gt3l/heights/lon_ph,/gt3l/heights/pce_mframe_cnt,/gt3l/heights/ph_id_pulse,/gt3l/heights/quality_ph,/gt3l/heights/weight_ph,/gt3r/geolocation/ph_index_beg,/gt3r/geolocation/segment_dist_x,/gt3r/geolocation/segment_id,/gt3r/geolocation/segment_length,/gt3r/geolocation/segment_ph_cnt,/gt3r/geophys_corr/geoid,/gt3r/heights/delta_time,/gt3r/heights/dist_ph_along,/gt3r/heights/h_ph,/gt3r/heights/lat_ph,/gt3r/heights/lon_ph,/gt3r/heights/pce_mframe_cnt,/gt3r/heights/ph_id_pulse,/gt3r/heights/quality_ph,/gt3r/heights/weight_ph,/orbit_info/cycle_number,/orbit_info/rgt,/orbit_info/sc_orient. Granule id(s)=SC:ATL03.006:264467978. Email address=philipp.arndt@aya.yale.edu. Processing tool=ICESAT2.</Instructions>\\n    </order>\\n    <contactInformation>\\n        <contactName>NSIDC User Services</contactName>\\n        <contactEmail>nsidc@nsidc.org</contactEmail>\\n    </contactInformation>\\n    <processInfo>\\n        <processDuration>P0Y0M0DT0H0M2.445S</processDuration>\\n        <subagentId>ICESAT2</subagentId>\\n    </processInfo>\\n    <requestStatus>\\n        <status>pending</status>\\n        <numberProcessed>0</numberProcessed>\\n        <totalNumber>1</totalNumber>\\n    </requestStatus>\\n</eesi:agentResponse>\\n ( version=\"1.0\" encoding=\"UTF-8\" standalone=\"yes\"?>\\n<eesi:agentResponse xmlns=\"\" xmlns:iesi=\"http://eosdis.nasa.gov/esi/rsp/i\" xmlns:ssw=\"http://newsroom.gsfc.nasa.gov/esi/rsp/ssw\" xmlns:eesi=\"http://eosdis.nasa.gov/esi/rsp/e\" xmlns:esi=\"http://eosdis.nasa.gov/esi/rsp\" xmlns:xsi=\"http://www.w3.org/2001/XMLSchema-instance\">\\n    <order>\\n        <orderId>5000004475598</orderId>\\n        <Instructions>You may receive an email about your order if you specified an EMAIL address. &lt;br/&gt;&lt;br/&gt;The instructions used to process this order are:  Bounding Shape=-51.44333278940379,68.31809363093925,-50.486283375267334,68.11987917978698,-47.888360504831006,68.15015250103632,-45.8852447938031,68.20688811986273,-45.58581097310032,68.40707395862792,-45.608317627349,69.12362160986147,-48.61534211860709,71.45252643441924,-48.89314373451282,71.96096228898168,-50.74725418384058,72.21898074863127,-51.61509318403716,72.03789873962877,-52.001165820260915,71.7349281448636,-51.562856327973385,71.62820997865076,-51.78569434632586,71.22300173656397,-51.207644017164796,71.0394493315711,-50.66499233756263,70.282215143238,-50.37802982760418,69.54975620525224,-50.63129967311812,69.3282934738084,-49.963300108437686,69.14985091041659,-51.44333278940379,68.31809363093925. Band(s)=/ancillary_data/atlas_sdp_gps_epoch,/ancillary_data/calibrations/dead_time/gt1l,/ancillary_data/calibrations/dead_time/gt1l,/ancillary_data/calibrations/dead_time/gt1r,/ancillary_data/calibrations/dead_time/gt1r,/ancillary_data/calibrations/dead_time/gt2l,/ancillary_data/calibrations/dead_time/gt2l,/ancillary_data/calibrations/dead_time/gt2r,/ancillary_data/calibrations/dead_time/gt2r,/ancillary_data/calibrations/dead_time/gt3l,/ancillary_data/calibrations/dead_time/gt3l,/ancillary_data/calibrations/dead_time/gt3r,/ancillary_data/calibrations/dead_time/gt3r,/gt1l/geolocation/ph_index_beg,/gt1l/geolocation/segment_dist_x,/gt1l/geolocation/segment_id,/gt1l/geolocation/segment_length,/gt1l/geolocation/segment_ph_cnt,/gt1l/geophys_corr/geoid,/gt1l/heights/delta_time,/gt1l/heights/dist_ph_along,/gt1l/heights/h_ph,/gt1l/heights/lat_ph,/gt1l/heights/lon_ph,/gt1l/heights/pce_mframe_cnt,/gt1l/heights/ph_id_pulse,/gt1l/heights/quality_ph,/gt1l/heights/weight_ph,/gt1r/geolocation/ph_index_beg,/gt1r/geolocation/segment_dist_x,/gt1r/geolocation/segment_id,/gt1r/geolocation/segment_length,/gt1r/geolocation/segment_ph_cnt,/gt1r/geophys_corr/geoid,/gt1r/heights/delta_time,/gt1r/heights/dist_ph_along,/gt1r/heights/h_ph,/gt1r/heights/lat_ph,/gt1r/heights/lon_ph,/gt1r/heights/pce_mframe_cnt,/gt1r/heights/ph_id_pulse,/gt1r/heights/quality_ph,/gt1r/heights/weight_ph,/gt2l/geolocation/ph_index_beg,/gt2l/geolocation/segment_dist_x,/gt2l/geolocation/segment_id,/gt2l/geolocation/segment_length,/gt2l/geolocation/segment_ph_cnt,/gt2l/geophys_corr/geoid,/gt2l/heights/delta_time,/gt2l/heights/dist_ph_along,/gt2l/heights/h_ph,/gt2l/heights/lat_ph,/gt2l/heights/lon_ph,/gt2l/heights/pce_mframe_cnt,/gt2l/heights/ph_id_pulse,/gt2l/heights/quality_ph,/gt2l/heights/weight_ph,/gt2r/geolocation/ph_index_beg,/gt2r/geolocation/segment_dist_x,/gt2r/geolocation/segment_id,/gt2r/geolocation/segment_length,/gt2r/geolocation/segment_ph_cnt,/gt2r/geophys_corr/geoid,/gt2r/heights/delta_time,/gt2r/heights/dist_ph_along,/gt2r/heights/h_ph,/gt2r/heights/lat_ph,/gt2r/heights/lon_ph,/gt2r/heights/pce_mframe_cnt,/gt2r/heights/ph_id_pulse,/gt2r/heights/quality_ph,/gt2r/heights/weight_ph,/gt3l/geolocation/ph_index_beg,/gt3l/geolocation/segment_dist_x,/gt3l/geolocation/segment_id,/gt3l/geolocation/segment_length,/gt3l/geolocation/segment_ph_cnt,/gt3l/geophys_corr/geoid,/gt3l/heights/delta_time,/gt3l/heights/dist_ph_along,/gt3l/heights/h_ph,/gt3l/heights/lat_ph,/gt3l/heights/lon_ph,/gt3l/heights/pce_mframe_cnt,/gt3l/heights/ph_id_pulse,/gt3l/heights/quality_ph,/gt3l/heights/weight_ph,/gt3r/geolocation/ph_index_beg,/gt3r/geolocation/segment_dist_x,/gt3r/geolocation/segment_id,/gt3r/geolocation/segment_length,/gt3r/geolocation/segment_ph_cnt,/gt3r/geophys_corr/geoid,/gt3r/heights/delta_time,/gt3r/heights/dist_ph_along,/gt3r/heights/h_ph,/gt3r/heights/lat_ph,/gt3r/heights/lon_ph,/gt3r/heights/pce_mframe_cnt,/gt3r/heights/ph_id_pulse,/gt3r/heights/quality_ph,/gt3r/heights/weight_ph,/orbit_info/cycle_number,/orbit_info/rgt,/orbit_info/sc_orient. Granule id(s)=SC:ATL03.006:264467978. Email address=philipp.arndt@aya.yale.edu. Processing tool=ICESAT2.</Instructions>\\n    </order>\\n    <contactInformation>\\n        <contactName>NSIDC User Services</contactName>\\n        <contactEmail>nsidc@nsidc.org</contactEmail>\\n    </contactInformation>\\n    <processInfo>\\n        <processDuration>P0Y0M0DT0H0M2.445S</processDuration>\\n        <subagentId>ICESAT2</subagentId>\\n    </processInfo>\\n    <requestStatus>\\n        <status>pending</status>\\n        <numberProcessed>0</numberProcessed>\\n        <totalNumber>1</totalNumber>\\n    </requestStatus>\\n</eesi:agentResponse>\\n )\n",
      "\n"
     ]
    },
    {
     "ename": "KeyError",
     "evalue": "'content-disposition'",
     "output_type": "error",
     "traceback": [
      "\u001b[0;31m---------------------------------------------------------------------------\u001b[0m",
      "\u001b[0;31mKeyError\u001b[0m                                  Traceback (most recent call last)",
      "Cell \u001b[0;32mIn[50], line 213\u001b[0m\n\u001b[1;32m    210\u001b[0m \u001b[38;5;28mprint\u001b[39m(request\u001b[38;5;241m.\u001b[39mstatus_code, \u001b[38;5;124m'\u001b[39m\u001b[38;5;124m:\u001b[39m\u001b[38;5;124m'\u001b[39m, cont[cont\u001b[38;5;241m.\u001b[39mfind(\u001b[38;5;124m'\u001b[39m\u001b[38;5;124m<Code>\u001b[39m\u001b[38;5;124m'\u001b[39m)\u001b[38;5;241m+\u001b[39m\u001b[38;5;241m6\u001b[39m:cont\u001b[38;5;241m.\u001b[39mfind(\u001b[38;5;124m'\u001b[39m\u001b[38;5;124m</Code>\u001b[39m\u001b[38;5;124m'\u001b[39m)],\n\u001b[1;32m    211\u001b[0m       \u001b[38;5;124m'\u001b[39m\u001b[38;5;124m(\u001b[39m\u001b[38;5;124m'\u001b[39m, cont[cont\u001b[38;5;241m.\u001b[39mfind(\u001b[38;5;124m'\u001b[39m\u001b[38;5;124m<Message>\u001b[39m\u001b[38;5;124m'\u001b[39m)\u001b[38;5;241m+\u001b[39m\u001b[38;5;241m9\u001b[39m:cont\u001b[38;5;241m.\u001b[39mfind(\u001b[38;5;124m'\u001b[39m\u001b[38;5;124m</Message>\u001b[39m\u001b[38;5;124m'\u001b[39m)], \u001b[38;5;124m'\u001b[39m\u001b[38;5;124m)\u001b[39m\u001b[38;5;130;01m\\n\u001b[39;00m\u001b[38;5;124m'\u001b[39m)\n\u001b[1;32m    212\u001b[0m request\u001b[38;5;241m.\u001b[39mraise_for_status()\n\u001b[0;32m--> 213\u001b[0m d \u001b[38;5;241m=\u001b[39m \u001b[43mrequest\u001b[49m\u001b[38;5;241;43m.\u001b[39;49m\u001b[43mheaders\u001b[49m\u001b[43m[\u001b[49m\u001b[38;5;124;43m'\u001b[39;49m\u001b[38;5;124;43mcontent-disposition\u001b[39;49m\u001b[38;5;124;43m'\u001b[39;49m\u001b[43m]\u001b[49m\n\u001b[1;32m    214\u001b[0m fname \u001b[38;5;241m=\u001b[39m re\u001b[38;5;241m.\u001b[39mfindall(\u001b[38;5;124m'\u001b[39m\u001b[38;5;124mfilename=(.+)\u001b[39m\u001b[38;5;124m'\u001b[39m, d)\n\u001b[1;32m    215\u001b[0m dirname \u001b[38;5;241m=\u001b[39m os\u001b[38;5;241m.\u001b[39mpath\u001b[38;5;241m.\u001b[39mjoin(path,fname[\u001b[38;5;241m0\u001b[39m]\u001b[38;5;241m.\u001b[39mstrip(\u001b[38;5;124m'\u001b[39m\u001b[38;5;130;01m\\\"\u001b[39;00m\u001b[38;5;124m'\u001b[39m))\n",
      "File \u001b[0;32m~/anaconda3/envs/icelakes-env/lib/python3.10/site-packages/requests/structures.py:52\u001b[0m, in \u001b[0;36mCaseInsensitiveDict.__getitem__\u001b[0;34m(self, key)\u001b[0m\n\u001b[1;32m     51\u001b[0m \u001b[38;5;28;01mdef\u001b[39;00m \u001b[38;5;21m__getitem__\u001b[39m(\u001b[38;5;28mself\u001b[39m, key):\n\u001b[0;32m---> 52\u001b[0m     \u001b[38;5;28;01mreturn\u001b[39;00m \u001b[38;5;28;43mself\u001b[39;49m\u001b[38;5;241;43m.\u001b[39;49m\u001b[43m_store\u001b[49m\u001b[43m[\u001b[49m\u001b[43mkey\u001b[49m\u001b[38;5;241;43m.\u001b[39;49m\u001b[43mlower\u001b[49m\u001b[43m(\u001b[49m\u001b[43m)\u001b[49m\u001b[43m]\u001b[49m[\u001b[38;5;241m1\u001b[39m]\n",
      "\u001b[0;31mKeyError\u001b[0m: 'content-disposition'"
     ]
    }
   ],
   "source": [
    "granule_id = 'ATL03_20220714010847_03381603_006_02.h5'\n",
    "gtxs = 'all'\n",
    "geojson = 'geojsons/simplified_GRE_2000_CW.geojson'\n",
    "granule_output_path = 'IS2data'\n",
    "vars_sub = 'default'\n",
    "spatial_sub = True\n",
    "uid = decedc(edc().u)\n",
    "pwd = decedc(edc().p)\n",
    "\n",
    "print('--> parameters: granule_id = %s' % granule_id)\n",
    "print('                gtxs = %s' % gtxs)\n",
    "print('                geojson = %s' % geojson)\n",
    "print('                granule_output_path = %s' % granule_output_path)\n",
    "print('                vars_sub = %s' % vars_sub)\n",
    "print('                spatial_sub = %s\\n' % spatial_sub)\n",
    "\n",
    "short_name = 'ATL03'\n",
    "version = granule_id[30:33]\n",
    "granule_search_url = 'https://cmr.earthdata.nasa.gov/search/granules'\n",
    "capability_url = f'https://n5eil02u.ecs.nsidc.org/egi/capabilities/{short_name}.{version}.xml'\n",
    "base_url = 'https://n5eil02u.ecs.nsidc.org/egi/request'\n",
    "\n",
    "geojson_filepath = str(os.getcwd() + '/' + geojson)\n",
    "\n",
    "# set the variables for subsetting\n",
    "if vars_sub == 'default':\n",
    "    vars_sub = ['/ancillary_data/atlas_sdp_gps_epoch',\n",
    "                '/ancillary_data/calibrations/dead_time/gtx',\n",
    "                '/orbit_info/rgt',\n",
    "                '/orbit_info/cycle_number',\n",
    "                '/orbit_info/sc_orient',\n",
    "                '/gtx/geolocation/segment_id',\n",
    "                '/gtx/geolocation/ph_index_beg',\n",
    "                '/gtx/geolocation/segment_dist_x',\n",
    "                '/gtx/geolocation/segment_length',\n",
    "                '/gtx/geolocation/segment_ph_cnt',\n",
    "                # '/gtx/geophys_corr/dem_h',\n",
    "                '/gtx/geophys_corr/geoid',\n",
    "                # '/gtx/bckgrd_atlas/pce_mframe_cnt',\n",
    "                # '/gtx/bckgrd_atlas/bckgrd_counts',\n",
    "                # '/gtx/bckgrd_atlas/bckgrd_int_height',\n",
    "                # '/gtx/bckgrd_atlas/delta_time',\n",
    "                '/gtx/heights/lat_ph',\n",
    "                '/gtx/heights/lon_ph',\n",
    "                '/gtx/heights/h_ph',\n",
    "                '/gtx/heights/delta_time',\n",
    "                '/gtx/heights/dist_ph_along',\n",
    "                '/gtx/heights/quality_ph',\n",
    "                # '/gtx/heights/signal_conf_ph',\n",
    "                '/gtx/heights/pce_mframe_cnt',\n",
    "                '/gtx/heights/ph_id_pulse'\n",
    "                ]\n",
    "    if int(version) > 5:\n",
    "        vars_sub.append('/gtx/heights/weight_ph')\n",
    "beam_list = ['gt1l', 'gt1r', 'gt2l', 'gt2r', 'gt3l', 'gt3r']\n",
    "\n",
    "if gtxs == 'all':\n",
    "    var_list = sum([[v.replace('/gtx','/'+bm) for bm in beam_list] if '/gtx' in v else [v] for v in vars_sub],[])\n",
    "elif type(gtxs) == str:\n",
    "    var_list = [v.replace('/gtx','/'+gtxs.lower()) if '/gtx' in v else v for v in vars_sub]\n",
    "elif type(gtxs) == list:\n",
    "    var_list = sum([[v.replace('/gtx','/'+bm.lower()) for bm in gtxs] if '/gtx' in v else [v] for v in vars_sub],[])\n",
    "else: # default to requesting all beams\n",
    "    var_list = sum([[v.replace('/gtx','/'+bm) for bm in beam_list] if '/gtx' in v else [v] for v in vars_sub],[])\n",
    "\n",
    "# search for the given granule\n",
    "search_params = {\n",
    "    'short_name': short_name,\n",
    "    'page_size': 100,\n",
    "    'page_num': 1,\n",
    "    'producer_granule_id': granule_id}\n",
    "\n",
    "granules = []\n",
    "headers={'Accept': 'application/json'}\n",
    "while True:\n",
    "    response = requests.get(granule_search_url, params=search_params, headers=headers)\n",
    "    results = json.loads(response.content)\n",
    "\n",
    "    if len(results['feed']['entry']) == 0:\n",
    "        # Out of results, so break out of loop\n",
    "        break\n",
    "\n",
    "    # Collect results and increment page_num\n",
    "    granules.extend(results['feed']['entry'])\n",
    "    search_params['page_num'] += 1\n",
    "    \n",
    "granule_list, idx_unique = np.unique(np.array([g['producer_granule_id'] for g in granules]), return_index=True)\n",
    "granules = [g for i,g in enumerate(granules) if i in idx_unique] # keeps double counting, not sure why\n",
    "print('\\nDownloading ICESat-2 data. Found granules:')\n",
    "if len(granules) == 0:\n",
    "    print('None')\n",
    "    print(\"return 'none', 404\")\n",
    "for result in granules:\n",
    "    print('  '+result['producer_granule_id'], f', {float(result[\"granule_size\"]):.2f} MB',sep='')\n",
    "    \n",
    "# Use geopandas to read in polygon file as GeoDataFrame object \n",
    "# Note: a shapefile, KML, or almost any other vector-based spatial data format could be substituted here.\n",
    "gdf = gpd.read_file(geojson_filepath)\n",
    "\n",
    "# make sure the two regions that go over the date line are adjusted \n",
    "# if ('West_Ep-F.geojson' in geojson_filepath) or ('East_E-Ep.geojson' in geojson_filepath): \n",
    "#     lon180 = np.array(gdf.geometry.iloc[0].exterior.coords.xy[0])\n",
    "#     lon180[lon180 < 0] = lon180[lon180 < 0]  + 360\n",
    "#     gdf['geometry'] = Polygon(list(zip(lon180, gdf.geometry.iloc[0].exterior.coords.xy[1])))\n",
    "#     poly = orient(gdf.loc[0].geometry,sign=1.0)\n",
    "#     lon180 = np.array(poly.exterior.coords.xy[0])\n",
    "#     # lon180[lon180 >= 180] = lon180[lon180 >= 180] - 360\n",
    "#     gdf['geometry'] = Polygon(list(zip(lon180, gdf.geometry.iloc[0].exterior.coords.xy[1])))\n",
    "#     poly = gdf.loc[0].geometry\n",
    "\n",
    "# Simplify polygon for complex shapes in order to pass a reasonable request length to CMR. \n",
    "# The larger the tolerance value, the more simplified the polygon.\n",
    "# Orient counter-clockwise: CMR polygon points need to be provided in counter-clockwise order. \n",
    "# The last point should match the first point to close the polygon.\n",
    "# poly = orient(gdf.simplify(0.05, preserve_topology=False).loc[0],sign=1.0)\n",
    "# else:\n",
    "poly = orient(gdf.loc[0].geometry,sign=1.0)\n",
    "\n",
    "geojson_data = gpd.GeoSeries(poly).to_json() # Convert to geojson\n",
    "geojson_data = geojson_data.replace(' ', '') #remove spaces for API call\n",
    "\n",
    "#Format dictionary to polygon coordinate pairs for CMR polygon filtering\n",
    "polygon = ','.join([str(c) for xy in zip(*poly.exterior.coords.xy) for c in xy])\n",
    "\n",
    "print('\\nInput geojson:', geojson)\n",
    "print('Simplified polygon coordinates based on geojson input:', polygon)\n",
    "\n",
    "# Create session to store cookie and pass credentials to capabilities url\n",
    "session = requests.session()\n",
    "s = session.get(capability_url)\n",
    "response = session.get(s.url,auth=(uid,pwd))\n",
    "try:\n",
    "    root = ET.fromstring(response.content)\n",
    "except:\n",
    "    print('\\nError: status code %s (%s)\\n' % (response.status_code, response.reason))\n",
    "\n",
    "#collect lists with each service option\n",
    "subagent = [subset_agent.attrib for subset_agent in root.iter('SubsetAgent')]\n",
    "\n",
    "# this is for getting possible variable values from the granule search\n",
    "if len(subagent) > 0 :\n",
    "    # variable subsetting\n",
    "    variables = [SubsetVariable.attrib for SubsetVariable in root.iter('SubsetVariable')]  \n",
    "    variables_raw = [variables[i]['value'] for i in range(len(variables))]\n",
    "    variables_join = [''.join(('/',v)) if v.startswith('/') == False else v for v in variables_raw] \n",
    "    variable_vals = [v.replace(':', '/') for v in variables_join]\n",
    "\n",
    "# make sure to only request the variables that are available\n",
    "def intersection(lst1, lst2):\n",
    "    lst3 = [value for value in lst1 if value in lst2]\n",
    "    return lst3\n",
    "if vars_sub == 'all':\n",
    "    var_list_subsetting = ''\n",
    "else:\n",
    "    var_list_subsetting = intersection(variable_vals,var_list)\n",
    "\n",
    "if len(subagent) < 1 :\n",
    "    print('No services exist for', short_name, 'version', latest_version)\n",
    "    agent = 'NO'\n",
    "    coverage,Boundingshape,polygon = '','',''\n",
    "else:\n",
    "    agent = ''\n",
    "    subdict = subagent[0]\n",
    "    if (subdict['spatialSubsettingShapefile'] == 'true') and spatial_sub:\n",
    "        ######################################## Boundingshape = geojson_data\n",
    "        Boundingshape = polygon\n",
    "    else:\n",
    "        Boundingshape, polygon = '',''\n",
    "    coverage = ','.join(var_list_subsetting)\n",
    "if (vars_sub=='all') & (not spatial_sub):\n",
    "    agent = 'NO'\n",
    "    \n",
    "page_size = 100\n",
    "request_mode = 'stream'\n",
    "request_mode = 'async'\n",
    "page_num = int(np.ceil(len(granules)/page_size))\n",
    "\n",
    "param_dict = {'short_name': short_name, \n",
    "              'producer_granule_id': granule_id,\n",
    "              'version': version,  \n",
    "              'polygon': polygon,\n",
    "              'Boundingshape': Boundingshape,  \n",
    "              'Coverage': coverage, \n",
    "              'page_size': page_size, \n",
    "              'request_mode': request_mode, \n",
    "              'agent': agent, \n",
    "              'email': 'yes'}\n",
    "\n",
    "#Remove blank key-value-pairs\n",
    "param_dict = {k: v for k, v in param_dict.items() if v != ''}\n",
    "\n",
    "#Convert to string\n",
    "param_string = '&'.join(\"{!s}={!r}\".format(k,v) for (k,v) in param_dict.items())\n",
    "param_string = param_string.replace(\"'\",\"\")\n",
    "\n",
    "#Print API base URL + request parameters\n",
    "endpoint_list = [] \n",
    "for i in range(page_num):\n",
    "    page_val = i + 1\n",
    "    API_request = api_request = f'{base_url}?{param_string}&page_num={page_val}'\n",
    "    endpoint_list.append(API_request)\n",
    "\n",
    "print('\\nAPI request URL:')\n",
    "print(*endpoint_list, sep = \"\\n\") \n",
    "\n",
    "# Create an output folder if the folder does not already exist.\n",
    "path = str(os.getcwd() + '/' + granule_output_path)\n",
    "if not os.path.exists(path):\n",
    "    os.mkdir(path)\n",
    "\n",
    "# Different access methods depending on request mode:\n",
    "for i in range(page_num):\n",
    "    page_val = i + 1\n",
    "    print('\\nOrder: ', page_val)\n",
    "    print('Requesting...')\n",
    "    request = session.get(base_url, params=param_dict)\n",
    "    print('HTTP response from order response URL: ')\n",
    "    cont = str(request._content)\n",
    "    print(request.status_code, ':', cont[cont.find('<Code>')+6:cont.find('</Code>')],\n",
    "          '(', cont[cont.find('<Message>')+9:cont.find('</Message>')], ')\\n')\n",
    "    request.raise_for_status()\n",
    "    d = request.headers['content-disposition']\n",
    "    fname = re.findall('filename=(.+)', d)\n",
    "    dirname = os.path.join(path,fname[0].strip('\\\"'))\n",
    "    print('Downloading...')\n",
    "    open(dirname, 'wb').write(request.content)\n",
    "    print('Data request', page_val, 'is complete.')\n",
    "\n",
    "# Unzip outputs\n",
    "for z in os.listdir(path): \n",
    "    if z.endswith('.zip'): \n",
    "        zip_name = path + \"/\" + z \n",
    "        zip_ref = zipfile.ZipFile(zip_name) \n",
    "        zip_ref.extractall(path) \n",
    "        zip_ref.close() \n",
    "        os.remove(zip_name) \n",
    "\n",
    "# Clean up Outputs folder by removing individual granule folders \n",
    "for root, dirs, files in os.walk(path, topdown=False):\n",
    "    for file in files:\n",
    "        try:\n",
    "            shutil.move(os.path.join(root, file), path)\n",
    "        except OSError:\n",
    "            pass\n",
    "    for name in dirs:\n",
    "        os.rmdir(os.path.join(root, name))\n",
    "        \n",
    "print('\\nUnzipped files and cleaned up directory.')\n",
    "print('Output data saved in:', granule_output_path)\n",
    "\n",
    "filelist = [granule_output_path+'/'+f for f in os.listdir(granule_output_path) \\\n",
    "            if os.path.isfile(os.path.join(granule_output_path, f)) & (granule_id in f)]\n",
    "\n",
    "if len(filelist) == 0: \n",
    "    print(\"return 'none'\")\n",
    "else:\n",
    "    filename = filelist[0]\n",
    "print('File to process: %s (%s)' % (filename, get_size(filename)))\n",
    "\n",
    "print(filename, 'status:', request.status_code)\n",
    "print('return filename, request.status_code')"
   ]
  },
  {
   "cell_type": "code",
   "execution_count": 48,
   "id": "740c7fc3-5cd3-493a-afc7-6f5575e169f9",
   "metadata": {},
   "outputs": [
    {
     "data": {
      "text/plain": [
       "b'<?xml version=\"1.0\" encoding=\"UTF-8\" standalone=\"yes\"?>\\n<eesi:agentResponse xmlns=\"\" xmlns:iesi=\"http://eosdis.nasa.gov/esi/rsp/i\" xmlns:ssw=\"http://newsroom.gsfc.nasa.gov/esi/rsp/ssw\" xmlns:eesi=\"http://eosdis.nasa.gov/esi/rsp/e\" xmlns:esi=\"http://eosdis.nasa.gov/esi/rsp\" xmlns:xsi=\"http://www.w3.org/2001/XMLSchema-instance\">\\n    <order>\\n        <orderId>5000004475575</orderId>\\n        <Instructions>You may receive an email about your order if you specified an EMAIL address. &lt;br/&gt;&lt;br/&gt;The instructions used to process this order are:  Bounding Shape=-51.44333278940379,68.31809363093925,-50.486283375267334,68.11987917978698,-47.888360504831006,68.15015250103632,-45.8852447938031,68.20688811986273,-45.58581097310032,68.40707395862792,-45.608317627349,69.12362160986147,-48.61534211860709,71.45252643441924,-48.89314373451282,71.96096228898168,-50.74725418384058,72.21898074863127,-51.61509318403716,72.03789873962877,-52.001165820260915,71.7349281448636,-51.562856327973385,71.62820997865076,-51.78569434632586,71.22300173656397,-51.207644017164796,71.0394493315711,-50.66499233756263,70.282215143238,-50.37802982760418,69.54975620525224,-50.63129967311812,69.3282934738084,-49.963300108437686,69.14985091041659,-51.44333278940379,68.31809363093925. Band(s)=/ancillary_data/atlas_sdp_gps_epoch,/ancillary_data/calibrations/dead_time/gt1l,/ancillary_data/calibrations/dead_time/gt1l,/ancillary_data/calibrations/dead_time/gt1r,/ancillary_data/calibrations/dead_time/gt1r,/ancillary_data/calibrations/dead_time/gt2l,/ancillary_data/calibrations/dead_time/gt2l,/ancillary_data/calibrations/dead_time/gt2r,/ancillary_data/calibrations/dead_time/gt2r,/ancillary_data/calibrations/dead_time/gt3l,/ancillary_data/calibrations/dead_time/gt3l,/ancillary_data/calibrations/dead_time/gt3r,/ancillary_data/calibrations/dead_time/gt3r,/gt1l/geolocation/ph_index_beg,/gt1l/geolocation/segment_dist_x,/gt1l/geolocation/segment_id,/gt1l/geolocation/segment_length,/gt1l/geolocation/segment_ph_cnt,/gt1l/geophys_corr/geoid,/gt1l/heights/delta_time,/gt1l/heights/dist_ph_along,/gt1l/heights/h_ph,/gt1l/heights/lat_ph,/gt1l/heights/lon_ph,/gt1l/heights/pce_mframe_cnt,/gt1l/heights/ph_id_pulse,/gt1l/heights/quality_ph,/gt1l/heights/weight_ph,/gt1r/geolocation/ph_index_beg,/gt1r/geolocation/segment_dist_x,/gt1r/geolocation/segment_id,/gt1r/geolocation/segment_length,/gt1r/geolocation/segment_ph_cnt,/gt1r/geophys_corr/geoid,/gt1r/heights/delta_time,/gt1r/heights/dist_ph_along,/gt1r/heights/h_ph,/gt1r/heights/lat_ph,/gt1r/heights/lon_ph,/gt1r/heights/pce_mframe_cnt,/gt1r/heights/ph_id_pulse,/gt1r/heights/quality_ph,/gt1r/heights/weight_ph,/gt2l/geolocation/ph_index_beg,/gt2l/geolocation/segment_dist_x,/gt2l/geolocation/segment_id,/gt2l/geolocation/segment_length,/gt2l/geolocation/segment_ph_cnt,/gt2l/geophys_corr/geoid,/gt2l/heights/delta_time,/gt2l/heights/dist_ph_along,/gt2l/heights/h_ph,/gt2l/heights/lat_ph,/gt2l/heights/lon_ph,/gt2l/heights/pce_mframe_cnt,/gt2l/heights/ph_id_pulse,/gt2l/heights/quality_ph,/gt2l/heights/weight_ph,/gt2r/geolocation/ph_index_beg,/gt2r/geolocation/segment_dist_x,/gt2r/geolocation/segment_id,/gt2r/geolocation/segment_length,/gt2r/geolocation/segment_ph_cnt,/gt2r/geophys_corr/geoid,/gt2r/heights/delta_time,/gt2r/heights/dist_ph_along,/gt2r/heights/h_ph,/gt2r/heights/lat_ph,/gt2r/heights/lon_ph,/gt2r/heights/pce_mframe_cnt,/gt2r/heights/ph_id_pulse,/gt2r/heights/quality_ph,/gt2r/heights/weight_ph,/gt3l/geolocation/ph_index_beg,/gt3l/geolocation/segment_dist_x,/gt3l/geolocation/segment_id,/gt3l/geolocation/segment_length,/gt3l/geolocation/segment_ph_cnt,/gt3l/geophys_corr/geoid,/gt3l/heights/delta_time,/gt3l/heights/dist_ph_along,/gt3l/heights/h_ph,/gt3l/heights/lat_ph,/gt3l/heights/lon_ph,/gt3l/heights/pce_mframe_cnt,/gt3l/heights/ph_id_pulse,/gt3l/heights/quality_ph,/gt3l/heights/weight_ph,/gt3r/geolocation/ph_index_beg,/gt3r/geolocation/segment_dist_x,/gt3r/geolocation/segment_id,/gt3r/geolocation/segment_length,/gt3r/geolocation/segment_ph_cnt,/gt3r/geophys_corr/geoid,/gt3r/heights/delta_time,/gt3r/heights/dist_ph_along,/gt3r/heights/h_ph,/gt3r/heights/lat_ph,/gt3r/heights/lon_ph,/gt3r/heights/pce_mframe_cnt,/gt3r/heights/ph_id_pulse,/gt3r/heights/quality_ph,/gt3r/heights/weight_ph,/orbit_info/cycle_number,/orbit_info/rgt,/orbit_info/sc_orient. Granule id(s)=SC:ATL03.006:264467978. Email address=philipp.arndt@aya.yale.edu. Processing tool=ICESAT2.</Instructions>\\n    </order>\\n    <contactInformation>\\n        <contactName>NSIDC User Services</contactName>\\n        <contactEmail>nsidc@nsidc.org</contactEmail>\\n    </contactInformation>\\n    <processInfo>\\n        <processDuration>P0Y0M0DT0H0M3.664S</processDuration>\\n        <subagentId>ICESAT2</subagentId>\\n    </processInfo>\\n    <requestStatus>\\n        <status>processing</status>\\n        <numberProcessed>0</numberProcessed>\\n        <totalNumber>1</totalNumber>\\n    </requestStatus>\\n</eesi:agentResponse>\\n'"
      ]
     },
     "execution_count": 48,
     "metadata": {},
     "output_type": "execute_result"
    }
   ],
   "source": [
    "request._content"
   ]
  },
  {
   "cell_type": "code",
   "execution_count": 34,
   "id": "216b1589-5d27-413b-82f8-e6441e489345",
   "metadata": {},
   "outputs": [
    {
     "data": {
      "text/plain": [
       "'Maximum number of concurrent synchronous requests has been reached'"
      ]
     },
     "execution_count": 34,
     "metadata": {},
     "output_type": "execute_result"
    }
   ],
   "source": [
    "cont = str(request._content)\n",
    "cont[cont.find('<Message>')+9:cont.find('</Message>')]"
   ]
  },
  {
   "cell_type": "code",
   "execution_count": 35,
   "id": "13298198-40c8-4882-9247-cc9d501b2268",
   "metadata": {},
   "outputs": [
    {
     "data": {
      "text/plain": [
       "503"
      ]
     },
     "execution_count": 35,
     "metadata": {},
     "output_type": "execute_result"
    }
   ],
   "source": [
    "request.status_code"
   ]
  },
  {
   "cell_type": "code",
   "execution_count": 33,
   "id": "58dea129-849d-42b1-b573-2c6304679627",
   "metadata": {},
   "outputs": [
    {
     "data": {
      "text/plain": [
       "'b\\'<?xml version=\"1.0\" encoding=\"UTF-8\" standalone=\"yes\"?>\\\\n<eesi:Exception xmlns=\"\" xmlns:iesi=\"http://eosdis.nasa.gov/esi/rsp/i\" xmlns:ssw=\"http://newsroom.gsfc.nasa.gov/esi/rsp/ssw\" xmlns:eesi=\"http://eosdis.nasa.gov/esi/rsp/e\" xmlns:esi=\"http://eosdis.nasa.gov/esi/rsp\" xmlns:xsi=\"http://www.w3.org/2001/XMLSchema-instance\">\\\\n    <Code>TooManyJobs</Code>\\\\n    <Message>Maximum number of concurrent synchronous requests has been reached</Message>\\\\n</eesi:Exception>\\\\n\\''"
      ]
     },
     "execution_count": 33,
     "metadata": {},
     "output_type": "execute_result"
    }
   ],
   "source": [
    "str(request._content)"
   ]
  },
  {
   "cell_type": "code",
   "execution_count": 40,
   "id": "deb6f6f4-f182-4577-b2ea-915cadd28722",
   "metadata": {},
   "outputs": [
    {
     "name": "stdout",
     "output_type": "stream",
     "text": [
      "503 : TooManyJobs ( Maximum number of concurrent synchronous requests has been reached )\n",
      "\n"
     ]
    }
   ],
   "source": [
    "print(request.status_code, ':', cont[cont.find('<Code>')+6:cont.find('</Code>')],\n",
    "          '(', cont[cont.find('<Message>')+9:cont.find('</Message>')], ')\\n')"
   ]
  },
  {
   "cell_type": "code",
   "execution_count": null,
   "id": "3b8bcbb5-0c28-47c2-82c4-e87be925e8e8",
   "metadata": {},
   "outputs": [],
   "source": [
    "vars(response).keys()"
   ]
  },
  {
   "cell_type": "code",
   "execution_count": null,
   "id": "4a91cc7e-ce14-415e-a079-83c5e0b464c8",
   "metadata": {},
   "outputs": [],
   "source": [
    "response.request"
   ]
  },
  {
   "cell_type": "code",
   "execution_count": null,
   "id": "3f6c0006-aef7-4278-a07f-6bfe80e63470",
   "metadata": {},
   "outputs": [],
   "source": [
    "response.elapsed"
   ]
  },
  {
   "cell_type": "code",
   "execution_count": null,
   "id": "c3a2792b-52aa-45f1-ab5d-01524ca6fe80",
   "metadata": {},
   "outputs": [],
   "source": []
  }
 ],
 "metadata": {
  "kernelspec": {
   "display_name": "icelakes-env",
   "language": "python",
   "name": "icelakes-env"
  },
  "language_info": {
   "codemirror_mode": {
    "name": "ipython",
    "version": 3
   },
   "file_extension": ".py",
   "mimetype": "text/x-python",
   "name": "python",
   "nbconvert_exporter": "python",
   "pygments_lexer": "ipython3",
   "version": "3.10.11"
  }
 },
 "nbformat": 4,
 "nbformat_minor": 5
}

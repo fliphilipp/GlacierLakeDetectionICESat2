{
 "cells": [
  {
   "cell_type": "markdown",
   "id": "20db82b2-14e2-41bf-9120-76a4784859f3",
   "metadata": {},
   "source": [
    "# Make Granule List"
   ]
  },
  {
   "cell_type": "code",
   "execution_count": 9,
   "id": "d93a001c-dbf8-4a15-bade-8a059b1e1b7a",
   "metadata": {},
   "outputs": [],
   "source": [
    "# import utility function for making granule list\n",
    "from icelakes.nsidc import make_granule_list"
   ]
  },
  {
   "cell_type": "code",
   "execution_count": 10,
   "id": "ef7f3d5e-d7b6-4584-8e36-d047038c7c1b",
   "metadata": {},
   "outputs": [],
   "source": [
    "# # function to convert shapefile to geojson - if needed\n",
    "# shp2geojson_nsidc('shapefiles/jakobshavn_small.shp')"
   ]
  },
  {
   "cell_type": "code",
   "execution_count": 11,
   "id": "629c75dc-48a1-44b5-9d8c-7a6d01985a50",
   "metadata": {},
   "outputs": [
    {
     "name": "stdout",
     "output_type": "stream",
     "text": [
      "Found 77 ATL03 version 005 granules over jakobshavn_test.geojson between 2021-05-01 and 2021-09-15.\n",
      "Wrote file: granule_lists/jakobshavn_test_2021.csv\n"
     ]
    }
   ],
   "source": [
    "# set parameters and make the list\n",
    "geojson = 'jakobshavn_test.geojson'\n",
    "start_date = '2021-05-01'\n",
    "end_date = '2021-09-15'\n",
    "outname = 'granule_lists/jakobshavn_test_2021.csv'\n",
    "\n",
    "make_granule_list(geojson, start_date, end_date, outname)"
   ]
  },
  {
   "cell_type": "code",
   "execution_count": 12,
   "id": "139e9c0a-4bb2-497d-bead-ad5836db2a57",
   "metadata": {},
   "outputs": [
    {
     "data": {
      "text/html": [
       "<div>\n",
       "<style scoped>\n",
       "    .dataframe tbody tr th:only-of-type {\n",
       "        vertical-align: middle;\n",
       "    }\n",
       "\n",
       "    .dataframe tbody tr th {\n",
       "        vertical-align: top;\n",
       "    }\n",
       "\n",
       "    .dataframe thead th {\n",
       "        text-align: right;\n",
       "    }\n",
       "</style>\n",
       "<table border=\"1\" class=\"dataframe\">\n",
       "  <thead>\n",
       "    <tr style=\"text-align: right;\">\n",
       "      <th></th>\n",
       "      <th>0</th>\n",
       "      <th>1</th>\n",
       "    </tr>\n",
       "  </thead>\n",
       "  <tbody>\n",
       "    <tr>\n",
       "      <th>0</th>\n",
       "      <td>ATL03_20210502215019_05971103_005_01.h5</td>\n",
       "      <td>geojsons/jakobshavn_test.geojson</td>\n",
       "    </tr>\n",
       "    <tr>\n",
       "      <th>1</th>\n",
       "      <td>ATL03_20210503103512_06051105_005_01.h5</td>\n",
       "      <td>geojsons/jakobshavn_test.geojson</td>\n",
       "    </tr>\n",
       "    <tr>\n",
       "      <th>2</th>\n",
       "      <td>ATL03_20210506214200_06581103_005_01.h5</td>\n",
       "      <td>geojsons/jakobshavn_test.geojson</td>\n",
       "    </tr>\n",
       "    <tr>\n",
       "      <th>3</th>\n",
       "      <td>ATL03_20210507102653_06661105_005_01.h5</td>\n",
       "      <td>geojsons/jakobshavn_test.geojson</td>\n",
       "    </tr>\n",
       "    <tr>\n",
       "      <th>4</th>\n",
       "      <td>ATL03_20210510213341_07191103_005_01.h5</td>\n",
       "      <td>geojsons/jakobshavn_test.geojson</td>\n",
       "    </tr>\n",
       "    <tr>\n",
       "      <th>...</th>\n",
       "      <td>...</td>\n",
       "      <td>...</td>\n",
       "    </tr>\n",
       "    <tr>\n",
       "      <th>72</th>\n",
       "      <td>ATL03_20210904044251_11081205_005_01.h5</td>\n",
       "      <td>geojsons/jakobshavn_test.geojson</td>\n",
       "    </tr>\n",
       "    <tr>\n",
       "      <th>73</th>\n",
       "      <td>ATL03_20210907154939_11611203_005_01.h5</td>\n",
       "      <td>geojsons/jakobshavn_test.geojson</td>\n",
       "    </tr>\n",
       "    <tr>\n",
       "      <th>74</th>\n",
       "      <td>ATL03_20210908043433_11691205_005_01.h5</td>\n",
       "      <td>geojsons/jakobshavn_test.geojson</td>\n",
       "    </tr>\n",
       "    <tr>\n",
       "      <th>75</th>\n",
       "      <td>ATL03_20210912042613_12301205_005_01.h5</td>\n",
       "      <td>geojsons/jakobshavn_test.geojson</td>\n",
       "    </tr>\n",
       "    <tr>\n",
       "      <th>76</th>\n",
       "      <td>ATL03_20210913040033_12451205_005_01.h5</td>\n",
       "      <td>geojsons/jakobshavn_test.geojson</td>\n",
       "    </tr>\n",
       "  </tbody>\n",
       "</table>\n",
       "<p>77 rows × 2 columns</p>\n",
       "</div>"
      ],
      "text/plain": [
       "                                          0                                 1\n",
       "0   ATL03_20210502215019_05971103_005_01.h5  geojsons/jakobshavn_test.geojson\n",
       "1   ATL03_20210503103512_06051105_005_01.h5  geojsons/jakobshavn_test.geojson\n",
       "2   ATL03_20210506214200_06581103_005_01.h5  geojsons/jakobshavn_test.geojson\n",
       "3   ATL03_20210507102653_06661105_005_01.h5  geojsons/jakobshavn_test.geojson\n",
       "4   ATL03_20210510213341_07191103_005_01.h5  geojsons/jakobshavn_test.geojson\n",
       "..                                      ...                               ...\n",
       "72  ATL03_20210904044251_11081205_005_01.h5  geojsons/jakobshavn_test.geojson\n",
       "73  ATL03_20210907154939_11611203_005_01.h5  geojsons/jakobshavn_test.geojson\n",
       "74  ATL03_20210908043433_11691205_005_01.h5  geojsons/jakobshavn_test.geojson\n",
       "75  ATL03_20210912042613_12301205_005_01.h5  geojsons/jakobshavn_test.geojson\n",
       "76  ATL03_20210913040033_12451205_005_01.h5  geojsons/jakobshavn_test.geojson\n",
       "\n",
       "[77 rows x 2 columns]"
      ]
     },
     "execution_count": 12,
     "metadata": {},
     "output_type": "execute_result"
    }
   ],
   "source": [
    "# make sure that it worked by reading the file into a DataFrame and displaying it\n",
    "import pandas as pd\n",
    "pd.read_csv(outname,header=None)"
   ]
  },
  {
   "cell_type": "code",
   "execution_count": null,
   "id": "a990e69b-515b-44a7-95ec-2432cfa3ecc8",
   "metadata": {},
   "outputs": [],
   "source": []
  }
 ],
 "metadata": {
  "kernelspec": {
   "display_name": "icepyx-env",
   "language": "python",
   "name": "icepyx-env"
  },
  "language_info": {
   "codemirror_mode": {
    "name": "ipython",
    "version": 3
   },
   "file_extension": ".py",
   "mimetype": "text/x-python",
   "name": "python",
   "nbconvert_exporter": "python",
   "pygments_lexer": "ipython3",
   "version": "3.9.4"
  }
 },
 "nbformat": 4,
 "nbformat_minor": 5
}

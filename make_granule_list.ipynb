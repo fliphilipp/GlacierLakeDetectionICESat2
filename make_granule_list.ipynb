{
 "cells": [
  {
   "cell_type": "markdown",
   "id": "20db82b2-14e2-41bf-9120-76a4784859f3",
   "metadata": {},
   "source": [
    "# Make Granule List"
   ]
  },
  {
   "cell_type": "code",
   "execution_count": 1,
   "id": "d93a001c-dbf8-4a15-bade-8a059b1e1b7a",
   "metadata": {},
   "outputs": [],
   "source": [
    "# import utility function for making granule list\n",
    "from icelakes.nsidc import make_granule_list"
   ]
  },
  {
   "cell_type": "code",
   "execution_count": 2,
   "id": "ef7f3d5e-d7b6-4584-8e36-d047038c7c1b",
   "metadata": {},
   "outputs": [],
   "source": [
    "# # function to convert shapefile to geojson - if needed\n",
    "# shp2geojson_nsidc('shapefiles/jakobshavn_small.shp')"
   ]
  },
  {
   "cell_type": "code",
   "execution_count": 3,
   "id": "629c75dc-48a1-44b5-9d8c-7a6d01985a50",
   "metadata": {},
   "outputs": [
    {
     "name": "stdout",
     "output_type": "stream",
     "text": [
      "Found 6 ATL03 version 005 granules over jakobshavn_small.geojson between 2019-07-01 and 2019-07-31.\n",
      "Wrote file: granule_lists/jakobshavn_small_2019.csv\n"
     ]
    }
   ],
   "source": [
    "# set parameters and make the list\n",
    "geojson = 'jakobshavn_small.geojson'\n",
    "start_date = '2019-07-01'\n",
    "end_date = '2019-07-31'\n",
    "outname = 'granule_lists/' + geojson.replace('.geojson','') + '_' + start_date[:4] + '.csv'\n",
    "\n",
    "make_granule_list(geojson, start_date, end_date, outname)"
   ]
  },
  {
   "cell_type": "code",
   "execution_count": 4,
   "id": "139e9c0a-4bb2-497d-bead-ad5836db2a57",
   "metadata": {},
   "outputs": [
    {
     "data": {
      "text/html": [
       "<div>\n",
       "<style scoped>\n",
       "    .dataframe tbody tr th:only-of-type {\n",
       "        vertical-align: middle;\n",
       "    }\n",
       "\n",
       "    .dataframe tbody tr th {\n",
       "        vertical-align: top;\n",
       "    }\n",
       "\n",
       "    .dataframe thead th {\n",
       "        text-align: right;\n",
       "    }\n",
       "</style>\n",
       "<table border=\"1\" class=\"dataframe\">\n",
       "  <thead>\n",
       "    <tr style=\"text-align: right;\">\n",
       "      <th></th>\n",
       "      <th>0</th>\n",
       "      <th>1</th>\n",
       "      <th>2</th>\n",
       "    </tr>\n",
       "  </thead>\n",
       "  <tbody>\n",
       "    <tr>\n",
       "      <th>0</th>\n",
       "      <td>ATL03_20190712052659_02160403_005_01.h5</td>\n",
       "      <td>geojsons/jakobshavn_small.geojson</td>\n",
       "      <td>jakobshavn_small-2019</td>\n",
       "    </tr>\n",
       "    <tr>\n",
       "      <th>1</th>\n",
       "      <td>ATL03_20190712181153_02240405_005_01.h5</td>\n",
       "      <td>geojsons/jakobshavn_small.geojson</td>\n",
       "      <td>jakobshavn_small-2019</td>\n",
       "    </tr>\n",
       "    <tr>\n",
       "      <th>2</th>\n",
       "      <td>ATL03_20190716051841_02770403_005_01.h5</td>\n",
       "      <td>geojsons/jakobshavn_small.geojson</td>\n",
       "      <td>jakobshavn_small-2019</td>\n",
       "    </tr>\n",
       "    <tr>\n",
       "      <th>3</th>\n",
       "      <td>ATL03_20190716180335_02850405_005_01.h5</td>\n",
       "      <td>geojsons/jakobshavn_small.geojson</td>\n",
       "      <td>jakobshavn_small-2019</td>\n",
       "    </tr>\n",
       "    <tr>\n",
       "      <th>4</th>\n",
       "      <td>ATL03_20190720051023_03380403_005_01.h5</td>\n",
       "      <td>geojsons/jakobshavn_small.geojson</td>\n",
       "      <td>jakobshavn_small-2019</td>\n",
       "    </tr>\n",
       "    <tr>\n",
       "      <th>5</th>\n",
       "      <td>ATL03_20190724050206_03990403_005_01.h5</td>\n",
       "      <td>geojsons/jakobshavn_small.geojson</td>\n",
       "      <td>jakobshavn_small-2019</td>\n",
       "    </tr>\n",
       "  </tbody>\n",
       "</table>\n",
       "</div>"
      ],
      "text/plain": [
       "                                         0                                  1  \\\n",
       "0  ATL03_20190712052659_02160403_005_01.h5  geojsons/jakobshavn_small.geojson   \n",
       "1  ATL03_20190712181153_02240405_005_01.h5  geojsons/jakobshavn_small.geojson   \n",
       "2  ATL03_20190716051841_02770403_005_01.h5  geojsons/jakobshavn_small.geojson   \n",
       "3  ATL03_20190716180335_02850405_005_01.h5  geojsons/jakobshavn_small.geojson   \n",
       "4  ATL03_20190720051023_03380403_005_01.h5  geojsons/jakobshavn_small.geojson   \n",
       "5  ATL03_20190724050206_03990403_005_01.h5  geojsons/jakobshavn_small.geojson   \n",
       "\n",
       "                       2  \n",
       "0  jakobshavn_small-2019  \n",
       "1  jakobshavn_small-2019  \n",
       "2  jakobshavn_small-2019  \n",
       "3  jakobshavn_small-2019  \n",
       "4  jakobshavn_small-2019  \n",
       "5  jakobshavn_small-2019  "
      ]
     },
     "execution_count": 4,
     "metadata": {},
     "output_type": "execute_result"
    }
   ],
   "source": [
    "# make sure that it worked by reading the file into a DataFrame and displaying it\n",
    "import pandas as pd\n",
    "pd.read_csv(outname,header=None)"
   ]
  },
  {
   "cell_type": "code",
   "execution_count": null,
   "id": "a990e69b-515b-44a7-95ec-2432cfa3ecc8",
   "metadata": {},
   "outputs": [],
   "source": []
  }
 ],
 "metadata": {
  "kernelspec": {
   "display_name": "icepyx-env",
   "language": "python",
   "name": "icepyx-env"
  },
  "language_info": {
   "codemirror_mode": {
    "name": "ipython",
    "version": 3
   },
   "file_extension": ".py",
   "mimetype": "text/x-python",
   "name": "python",
   "nbconvert_exporter": "python",
   "pygments_lexer": "ipython3",
   "version": "3.9.4"
  }
 },
 "nbformat": 4,
 "nbformat_minor": 5
}

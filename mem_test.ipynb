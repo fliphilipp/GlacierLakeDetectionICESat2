{
 "cells": [
  {
   "cell_type": "code",
   "execution_count": 5,
   "id": "7d7b9d84-a2ac-4c2b-a936-5a9fec6b602f",
   "metadata": {},
   "outputs": [
    {
     "name": "stdout",
     "output_type": "stream",
     "text": [
      "1815449600\n",
      "3415449600\n",
      "1815445504\n",
      "2615455744\n",
      "215453696\n"
     ]
    },
    {
     "data": {
      "text/html": [
       "<div>\n",
       "<style scoped>\n",
       "    .dataframe tbody tr th:only-of-type {\n",
       "        vertical-align: middle;\n",
       "    }\n",
       "\n",
       "    .dataframe tbody tr th {\n",
       "        vertical-align: top;\n",
       "    }\n",
       "\n",
       "    .dataframe thead th {\n",
       "        text-align: right;\n",
       "    }\n",
       "</style>\n",
       "<table border=\"1\" class=\"dataframe\">\n",
       "  <thead>\n",
       "    <tr style=\"text-align: right;\">\n",
       "      <th></th>\n",
       "      <th>a1</th>\n",
       "      <th>a2</th>\n",
       "    </tr>\n",
       "  </thead>\n",
       "  <tbody>\n",
       "    <tr>\n",
       "      <th>0</th>\n",
       "      <td>0.0</td>\n",
       "      <td>0.0</td>\n",
       "    </tr>\n",
       "    <tr>\n",
       "      <th>1</th>\n",
       "      <td>1.0</td>\n",
       "      <td>2.0</td>\n",
       "    </tr>\n",
       "    <tr>\n",
       "      <th>2</th>\n",
       "      <td>2.0</td>\n",
       "      <td>4.0</td>\n",
       "    </tr>\n",
       "    <tr>\n",
       "      <th>3</th>\n",
       "      <td>3.0</td>\n",
       "      <td>6.0</td>\n",
       "    </tr>\n",
       "    <tr>\n",
       "      <th>4</th>\n",
       "      <td>4.0</td>\n",
       "      <td>8.0</td>\n",
       "    </tr>\n",
       "    <tr>\n",
       "      <th>5</th>\n",
       "      <td>5.0</td>\n",
       "      <td>10.0</td>\n",
       "    </tr>\n",
       "    <tr>\n",
       "      <th>6</th>\n",
       "      <td>6.0</td>\n",
       "      <td>12.0</td>\n",
       "    </tr>\n",
       "    <tr>\n",
       "      <th>7</th>\n",
       "      <td>7.0</td>\n",
       "      <td>14.0</td>\n",
       "    </tr>\n",
       "    <tr>\n",
       "      <th>8</th>\n",
       "      <td>8.0</td>\n",
       "      <td>16.0</td>\n",
       "    </tr>\n",
       "    <tr>\n",
       "      <th>9</th>\n",
       "      <td>9.0</td>\n",
       "      <td>18.0</td>\n",
       "    </tr>\n",
       "  </tbody>\n",
       "</table>\n",
       "</div>"
      ],
      "text/plain": [
       "    a1    a2\n",
       "0  0.0   0.0\n",
       "1  1.0   2.0\n",
       "2  2.0   4.0\n",
       "3  3.0   6.0\n",
       "4  4.0   8.0\n",
       "5  5.0  10.0\n",
       "6  6.0  12.0\n",
       "7  7.0  14.0\n",
       "8  8.0  16.0\n",
       "9  9.0  18.0"
      ]
     },
     "execution_count": 5,
     "metadata": {},
     "output_type": "execute_result"
    }
   ],
   "source": [
    "import numpy as np\n",
    "from psutil import Process\n",
    "import gc\n",
    "import pandas as pd\n",
    "# arr = np.arange(0, 1e8)\n",
    "# print(Process().memory_info().rss)\n",
    "# small_slice = arr[:10].copy()\n",
    "# del arr\n",
    "# print(Process().memory_info().rss)\n",
    "# arr = np.arange(0, 1e8)\n",
    "# print(Process().memory_info().rss)\n",
    "# small_slice = arr[:10]\n",
    "# del arr\n",
    "# print(Process().memory_info().rss)\n",
    "# for name in dir():\n",
    "#     if name not in ['np', 'Process', 'gc', 'pd']:\n",
    "#         del globals()[name]\n",
    "# print(Process().memory_info().rss)\n",
    "# print('\\n---\\n')\n",
    "\n",
    "arr1 = np.arange(0, 1e8)\n",
    "arr2 = np.arange(0, 1e8)*2\n",
    "print(Process().memory_info().rss)\n",
    "df = pd.DataFrame({'a1': arr1, 'a2': arr2})\n",
    "print(Process().memory_info().rss)\n",
    "del arr1, arr2\n",
    "print(Process().memory_info().rss)\n",
    "df_small = df.loc[df.a1 < 10, :]\n",
    "print(Process().memory_info().rss)\n",
    "del df\n",
    "print(Process().memory_info().rss)\n",
    "df_small"
   ]
  },
  {
   "cell_type": "code",
   "execution_count": 20,
   "id": "396e2110-f4e9-4e4a-9a7e-49d7f83c229d",
   "metadata": {},
   "outputs": [
    {
     "data": {
      "text/plain": [
       "156.03256312387344"
      ]
     },
     "execution_count": 20,
     "metadata": {},
     "output_type": "execute_result"
    }
   ],
   "source": [
    "import geopandas as gpd\n",
    "polygon = 'geojsons/simplified_ANT_1500_East_D-Dp.geojson'\n",
    "poly_nonsimplified = polygon.replace('simplified_', '')\n",
    "clip_shape = gpd.read_file(poly_nonsimplified)\n",
    "lons = clip_shape.loc[0].geometry.exterior.coords.xy[0]\n",
    "lats = clip_shape.loc[0].geometry.exterior.coords.xy[1]\n",
    "np.min(lons)\n",
    "np.max(lons)"
   ]
  },
  {
   "cell_type": "code",
   "execution_count": 21,
   "id": "16ce0074-eee5-4c1f-9346-a647d6880ce3",
   "metadata": {},
   "outputs": [
    {
     "name": "stdout",
     "output_type": "stream",
     "text": [
      "blah!\n"
     ]
    }
   ],
   "source": [
    "bla = 'blah!'\n",
    "if bla: print(bla)"
   ]
  },
  {
   "cell_type": "code",
   "execution_count": null,
   "id": "a68db32e-d184-49b4-9a6a-851f7e257489",
   "metadata": {},
   "outputs": [],
   "source": [
    "small_slice"
   ]
  },
  {
   "cell_type": "code",
   "execution_count": null,
   "id": "ad88cffa-09ad-41d8-bb5c-7a6c27a3b27e",
   "metadata": {},
   "outputs": [],
   "source": [
    "small_slice.base"
   ]
  },
  {
   "cell_type": "code",
   "execution_count": null,
   "id": "9597dffe-6cf1-4c83-b1af-ae5d124ceb21",
   "metadata": {},
   "outputs": [],
   "source": []
  }
 ],
 "metadata": {
  "kernelspec": {
   "display_name": "icelakes-env",
   "language": "python",
   "name": "icelakes-env"
  },
  "language_info": {
   "codemirror_mode": {
    "name": "ipython",
    "version": 3
   },
   "file_extension": ".py",
   "mimetype": "text/x-python",
   "name": "python",
   "nbconvert_exporter": "python",
   "pygments_lexer": "ipython3",
   "version": "3.10.11"
  }
 },
 "nbformat": 4,
 "nbformat_minor": 5
}

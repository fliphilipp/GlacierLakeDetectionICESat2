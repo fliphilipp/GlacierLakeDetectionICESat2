{
 "cells": [
  {
   "cell_type": "code",
   "execution_count": null,
   "id": "039ba52a-d58a-4a09-a3bd-924892489471",
   "metadata": {},
   "outputs": [],
   "source": [
    "%matplotlib widget\n",
    "%load_ext autoreload\n",
    "%autoreload 2\n",
    "\n",
    "from IS2ML_utils import *"
   ]
  },
  {
   "cell_type": "code",
   "execution_count": null,
   "id": "af9f97e9-b748-43fd-a541-b1041c66f2fd",
   "metadata": {},
   "outputs": [],
   "source": [
    "# get the stats for all lakes\n",
    "fn_lakestats = '../GLD3_GrIS_lakestats.csv'\n",
    "df = pd.read_csv(fn_lakestats)\n",
    "df['geometry'] = df['geometry'].apply(wkt.loads)\n",
    "gdf = gpd.GeoDataFrame(df, crs='EPSG:3413')\n",
    "gdfg = gdf[gdf.label=='good_lake']"
   ]
  },
  {
   "cell_type": "code",
   "execution_count": null,
   "id": "625d0069-264c-45b2-97dc-3f8a5339d1d8",
   "metadata": {},
   "outputs": [],
   "source": [
    "# specify where the data lives (this is from the FLUID-SuRRF output file structure)\n",
    "# need to adjust the base_dir\n",
    "kwargs = {\n",
    "    'base_dir': '/Users/parndt/jupyterprojects/GLD3_complete/GrIS/',  # base directory where the fluid surrf data lives\n",
    "    'data_dir': 'detection_out_data/',                                # the directory with the data files (structure from output)\n",
    "    'ground_track_buffer': 7.5,          # radius in meters, for a 11-m diameter footprint and some allowance for geolocation uncertainty\n",
    "    'max_cloudiness': 20,                # 20 seems to be good, sometimes over lakes the cloudScore thinks there are clouds\n",
    "    'days_buffer': 7,                    # limit to +/- one week from ICESat-2 acquisition, can later filter for NDWI overlap / correlation with band reflectances\n",
    "    'min_sun_elevation': 20,             # 20 is commonly used, beelow that data often has issues\n",
    "    'limit_n_imgs': 20,                  # limit the total number of images queried, ground track points with missing data after this are discarded\n",
    "    'ndwi_thresh': 0.15,                 # this threshold is used to calculate NDWI overlap between ICESat-2 and Sentinel-2 water extent\n",
    "    're_calculate_if_existing': False, # re-do calculations even if file already exists\n",
    "    'FLUID_SuRRF_info': gdfg\n",
    "}\n",
    "\n",
    "# for lake_id in gdfg.lake_id[:1]:\n",
    "#     get_data_and_plot(lake_id=lake_id, **kwargs)"
   ]
  },
  {
   "cell_type": "markdown",
   "id": "061476a0-3f6b-4382-830b-c11fef09e942",
   "metadata": {},
   "source": [
    "Only uncomment and run the code below when doing a full new run! "
   ]
  },
  {
   "cell_type": "code",
   "execution_count": null,
   "id": "b07ffc64-025e-412c-b9a6-dd65a30122f6",
   "metadata": {},
   "outputs": [],
   "source": [
    "############################################################################################################\n",
    "#### for a clean, new run: clear the output data (except for metadata files from Sentinel-2)\n",
    "############################################################################################################\n",
    "# folders_to_reset = ['training_data_CSVs', 'imagery_gt', 'atl03_segments']\n",
    "# for folder in folders_to_reset:\n",
    "#     ! rm -rf $folder\n",
    "#     os.makedirs(folder)"
   ]
  },
  {
   "cell_type": "code",
   "execution_count": null,
   "id": "3354ce84-daf3-410c-97ce-830b750c597b",
   "metadata": {},
   "outputs": [],
   "source": [
    "for ilk, lake_id in enumerate(gdfg.lake_id[:2000]):\n",
    "    print('\\n_________________________________________________ lake %5i / %5i _________________________________________________\\n' % (ilk+1, len(gdfg)))\n",
    "    try:\n",
    "        fig_path, lk, gdf_final, lk_info = get_data_and_plot(lake_id=lake_id, **kwargs)\n",
    "    except:\n",
    "        warnings.warn('Getting data failed for lake %i! (%s)' % (ilk+1, lake_id))\n",
    "        traceback.print_exc()"
   ]
  },
  {
   "cell_type": "code",
   "execution_count": null,
   "id": "789136f9-c5cc-4788-bf8a-357fd23241e0",
   "metadata": {},
   "outputs": [],
   "source": []
  },
  {
   "cell_type": "code",
   "execution_count": null,
   "id": "de7d5c76-3feb-4471-b769-67b88887e0c9",
   "metadata": {},
   "outputs": [],
   "source": []
  },
  {
   "cell_type": "code",
   "execution_count": null,
   "id": "cc0081e0-389f-4b21-a2bf-f08a39dff021",
   "metadata": {},
   "outputs": [],
   "source": []
  },
  {
   "cell_type": "code",
   "execution_count": null,
   "id": "606139bb-1063-4f5e-bf54-d42ebaba38c3",
   "metadata": {},
   "outputs": [],
   "source": []
  }
 ],
 "metadata": {
  "kernelspec": {
   "display_name": "eeicelakes-env",
   "language": "python",
   "name": "eeicelakes-env"
  },
  "language_info": {
   "codemirror_mode": {
    "name": "ipython",
    "version": 3
   },
   "file_extension": ".py",
   "mimetype": "text/x-python",
   "name": "python",
   "nbconvert_exporter": "python",
   "pygments_lexer": "ipython3",
   "version": "3.10.11"
  }
 },
 "nbformat": 4,
 "nbformat_minor": 5
}

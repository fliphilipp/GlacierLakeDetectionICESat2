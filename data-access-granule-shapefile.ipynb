{
 "cells": [
  {
   "cell_type": "code",
   "execution_count": 1,
   "id": "ee7e136d-4280-4c66-a10b-e27d55f73216",
   "metadata": {},
   "outputs": [],
   "source": [
    "import requests\n",
    "import getpass\n",
    "import socket \n",
    "import json\n",
    "import zipfile\n",
    "import io\n",
    "import math\n",
    "import os\n",
    "import shutil\n",
    "import pprint\n",
    "import re\n",
    "import time\n",
    "import geopandas as gpd\n",
    "import fiona\n",
    "import matplotlib.pyplot as plt\n",
    "# To read KML files with geopandas, we will need to enable KML support in fiona (disabled by default)\n",
    "# fiona.drvsupport.supported_drivers['LIBKML'] = 'rw'\n",
    "from shapely.geometry import Polygon, mapping\n",
    "from shapely.geometry.polygon import orient\n",
    "from statistics import mean\n",
    "from requests.auth import HTTPBasicAuth\n",
    "from xml.etree import ElementTree as ET\n",
    "import sys\n",
    "import numpy as np\n",
    "%matplotlib inline"
   ]
  },
  {
   "cell_type": "code",
   "execution_count": 2,
   "id": "8e8fd339-9ea4-4588-840b-6ef62a23a8f5",
   "metadata": {},
   "outputs": [
    {
     "name": "stdout",
     "output_type": "stream",
     "text": [
      "Philipp S Arndt - UC San Diego - arndtp - philipp.arndt@aya.yale.edu\n"
     ]
    }
   ],
   "source": [
    "sys.path.insert(1, '/Users/parndt/Vault/') # the path here needs to match the one on which earthdatacreds.py is stored\n",
    "import earthdatacreds\n",
    "print(earthdatacreds.name,earthdatacreds.organization,earthdatacreds.uid,earthdatacreds.email,sep=' - ')"
   ]
  },
  {
   "cell_type": "code",
   "execution_count": 3,
   "id": "6edbdc44-682e-4e85-9621-707abf62eda4",
   "metadata": {},
   "outputs": [],
   "source": [
    "# the inputs\n",
    "granule_id = 'ATL03_20210715182907_03381203_005_01.h5'\n",
    "granule_output_path = '/IS2data'\n",
    "shapefile = '/shapefiles/jakobshavn_test.shp'\n",
    "\n",
    "shapefile_filepath = str(os.getcwd() + '/shapefiles/jakobshavn_test.shp')"
   ]
  },
  {
   "cell_type": "code",
   "execution_count": 4,
   "id": "fef41d3c-e9f4-4e48-9fbe-8b1e3700b0e5",
   "metadata": {},
   "outputs": [],
   "source": [
    "vars_sub = ['/ancillary_data/atlas_sdp_gps_epoch',\n",
    "            '/orbit_info/rgt',\n",
    "            '/orbit_info/cycle_number',\n",
    "            '/orbit_info/sc_orient',\n",
    "            '/gtx/geolocation/ph_index_beg',\n",
    "            '/gtx/geolocation/segment_dist_x',\n",
    "            '/gtx/geolocation/segment_length',\n",
    "            '/gtx/geophys_corr/dem_h',\n",
    "            '/gtx/geophys_corr/geoid',\n",
    "            '/gtx/bckgrd_atlas/pce_mframe_cnt',\n",
    "            '/gtx/bckgrd_atlas/bckgrd_counts',\n",
    "            '/gtx/bckgrd_atlas/bckgrd_int_height',\n",
    "            '/gtx/bckgrd_atlas/delta_time',\n",
    "            '/gtx/heights/lat_ph',\n",
    "            '/gtx/heights/lon_ph',\n",
    "            '/gtx/heights/h_ph',\n",
    "            '/gtx/heights/dist_ph_along',\n",
    "            '/gtx/heights/delta_time',\n",
    "            '/gtx/heights/pce_mframe_cnt',\n",
    "            '/gtx/heights/quality_ph']\n",
    "beam_list = ['gt1l', 'gt1r', 'gt2l', 'gt2r', 'gt3l', 'gt3r']\n",
    "var_list = sum([[v.replace('/gtx','/'+bm) for bm in beam_list] if '/gtx' in v else [v] for v in vars_sub],[])"
   ]
  },
  {
   "cell_type": "code",
   "execution_count": 5,
   "id": "436a3a18-8dc3-42d9-be12-0cd4e83f3e39",
   "metadata": {},
   "outputs": [
    {
     "name": "stdout",
     "output_type": "stream",
     "text": [
      "ATL03_20210715182907_03381203_005_01.h5, 5065.14 MB\n"
     ]
    }
   ],
   "source": [
    "granule_search_url = 'https://cmr.earthdata.nasa.gov/search/granules'\n",
    "short_name = 'ATL03'\n",
    "search_params = {\n",
    "    'short_name': short_name,\n",
    "    'page_size': 100,\n",
    "    'page_num': 1,\n",
    "    'producer_granule_id': granule_id}\n",
    "\n",
    "granules = []\n",
    "headers={'Accept': 'application/json'}\n",
    "while True:\n",
    "    response = requests.get(granule_search_url, params=search_params, headers=headers)\n",
    "    results = json.loads(response.content)\n",
    "\n",
    "    if len(results['feed']['entry']) == 0:\n",
    "        # Out of results, so break out of loop\n",
    "        break\n",
    "\n",
    "    # Collect results and increment page_num\n",
    "    granules.extend(results['feed']['entry'])\n",
    "    search_params['page_num'] += 1\n",
    "\n",
    "# print(result['producer_granule_id'],', ',np.round(result['granule_size']),'MB')\n",
    "for result in granules:\n",
    "    print(result['producer_granule_id'], f', {float(result[\"granule_size\"]):.2f} MB',sep='')"
   ]
  },
  {
   "cell_type": "code",
   "execution_count": 6,
   "id": "890e8668-ef38-40f2-b409-54bf0019b845",
   "metadata": {},
   "outputs": [
    {
     "name": "stdout",
     "output_type": "stream",
     "text": [
      "Simplified polygon coordinates based on shapefile input: -50.14632142526025,70.41217197695167,-50.32210267526025,70.24946638923085,-50.25069154244775,70.12471900869032,-49.86067689401025,70.10977336216563,-49.97603333932275,70.05175706967246,-49.81123841744775,69.85593384548227,-49.97603333932275,69.6868925196855,-49.987872551252984,69.46430946458665,-50.207599113752984,69.41415021565054,-49.735187004377984,69.23182582544285,-49.625323723127984,69.10680792033415,-50.603106926252984,68.41839417137938,-50.053790520002984,68.22766675217088,-49.998858879377984,68.0188934736755,-49.801104973127984,67.89933200740279,-49.60918763541066,67.41285267153148,-49.93328431509816,67.100678171543,-49.60918763541066,66.98927461109227,-49.57516582234763,66.74687675567,-49.40487773641013,66.72518052309654,-49.35543925984763,66.6447381360437,-49.36642558797263,66.44797066124347,-49.52987706420915,66.31360064609107,-49.560515197476555,66.14900007845858,-49.994475158414055,65.86083805358744,-49.851652892789055,65.7978602741899,-49.964915887563414,65.59304210644521,-49.739696161000914,65.54760529593683,-50.036327020375914,65.3215220026102,-49.734202996938414,65.22731886515498,-49.684764520375914,65.03558286289696,-49.794627801625914,64.97058808481852,-49.421538297663645,64.81905647728986,-47.03245718247188,64.79805163813936,-46.52918839062207,64.94954040977103,-46.19959854687207,65.82791933860571,-45.9607754221497,66.80022825934762,-45.4993496408997,67.61726178615636,-45.5432949533997,68.57612701248429,-45.9607754221497,69.5111566900704,-46.47388070070614,71.13988585395734,-50.491781166583536,71.04395062694336,-50.337972572833536,70.85389110990046,-50.469808510333536,70.64015820051415,-50.14632142526025,70.41217197695167\n"
     ]
    }
   ],
   "source": [
    "# Use geopandas to read in polygon file as GeoDataFrame object \n",
    "# Note: a KML or geojson, or almost any other vector-based spatial data format could be substituted here.\n",
    "gdf = gpd.read_file(shapefile_filepath)\n",
    "\n",
    "# Simplify polygon for complex shapes in order to pass a reasonable request length to CMR. \n",
    "# The larger the tolerance value, the more simplified the polygon.\n",
    "# Orient counter-clockwise: CMR polygon points need to be provided in counter-clockwise order. \n",
    "# The last point should match the first point to close the polygon.\n",
    "poly = orient(gdf.simplify(0.05, preserve_topology=False).loc[0],sign=1.0)\n",
    "    \n",
    "geojson = gpd.GeoSeries(poly).to_json() # Convert to geojson\n",
    "geojson = geojson.replace(' ', '') #remove spaces for API call\n",
    "\n",
    "#Format dictionary to polygon coordinate pairs for CMR polygon filtering\n",
    "polygon = ','.join([str(c) for xy in zip(*poly.exterior.coords.xy) for c in xy])\n",
    "\n",
    "print('Simplified polygon coordinates based on shapefile input:', polygon)"
   ]
  },
  {
   "cell_type": "code",
   "execution_count": 7,
   "id": "7ed568a8-1ca8-41db-a77d-6359f12dc193",
   "metadata": {},
   "outputs": [
    {
     "name": "stderr",
     "output_type": "stream",
     "text": [
      "<ipython-input-7-4abad0c148a2>:1: UserWarning: Geometry is in a geographic CRS. Results from 'buffer' are likely incorrect. Use 'GeoSeries.to_crs()' to re-project geometries to a projected CRS before this operation.\n",
      "\n",
      "  buffer = gdf.buffer(1) #create buffer for plot bounds\n"
     ]
    },
    {
     "data": {
      "image/png": "[encoded data removed]",
      "text/plain": [
       "<Figure size 864x432 with 1 Axes>"
      ]
     },
     "metadata": {
      "needs_background": "light"
     },
     "output_type": "display_data"
    }
   ],
   "source": [
    "buffer = gdf.buffer(1) #create buffer for plot bounds\n",
    "envelope = buffer.envelope  \n",
    "bounds = envelope.bounds\n",
    "\n",
    "# Load \"Natural Earth” countries dataset, bundled with GeoPandas\n",
    "world = gpd.read_file(gpd.datasets.get_path('naturalearth_lowres'))\n",
    "\n",
    "# Overlay glacier outline\n",
    "f, ax = plt.subplots(1, figsize=(12, 6))\n",
    "world.plot(ax=ax, facecolor='white', edgecolor='gray')\n",
    "gdf.plot(ax=ax, cmap='spring')\n",
    "ax.set_ylim([bounds.miny[0], bounds.maxy[0]])\n",
    "ax.set_xlim([bounds.minx[0], bounds.maxx[0]]);"
   ]
  },
  {
   "cell_type": "code",
   "execution_count": 18,
   "id": "d5a1cbf6-b1c4-42e6-b6fd-17bf67ffb99a",
   "metadata": {},
   "outputs": [],
   "source": [
    "version = granule_id[30:33]\n",
    "capability_url = f'https://n5eil02u.ecs.nsidc.org/egi/capabilities/{short_name}.{version}.xml'\n",
    "\n",
    "# Create session to store cookie and pass credentials to capabilities url\n",
    "session = requests.session()\n",
    "s = session.get(capability_url)\n",
    "response = session.get(s.url,auth=(earthdatacreds.uid,earthdatacreds.pwd))\n",
    "\n",
    "root = ET.fromstring(response.content)\n",
    "\n",
    "#collect lists with each service option\n",
    "subagent = [subset_agent.attrib for subset_agent in root.iter('SubsetAgent')]\n",
    "\n",
    "# this is for getting possible variable values\n",
    "if len(subagent) > 0 :\n",
    "\n",
    "    # variable subsetting\n",
    "    variables = [SubsetVariable.attrib for SubsetVariable in root.iter('SubsetVariable')]  \n",
    "    variables_raw = [variables[i]['value'] for i in range(len(variables))]\n",
    "    variables_join = [''.join(('/',v)) if v.startswith('/') == False else v for v in variables_raw] \n",
    "    variable_vals = [v.replace(':', '/') for v in variables_join]\n",
    "    vars_gtx = list(np.unique(np.array([re.sub('/gt[123][rl]', '/gtx', x) for x in variable_vals])))\n",
    "\n",
    "#     # reformatting\n",
    "#     formats = [Format.attrib for Format in root.iter('Format')]\n",
    "#     format_vals = [formats[i]['value'] for i in range(len(formats))]\n",
    "#     format_vals.remove('')\n",
    "\n",
    "#     # reprojection options\n",
    "#     projections = [Projection.attrib for Projection in root.iter('Projection')]"
   ]
  },
  {
   "cell_type": "code",
   "execution_count": 19,
   "id": "5a1b371e-f3e8-47f5-b60e-2bc263cab2ef",
   "metadata": {},
   "outputs": [],
   "source": [
    "def intersection(lst1, lst2):\n",
    "    lst3 = [value for value in lst1 if value in lst2]\n",
    "    return lst3\n",
    "var_list_subsetting = intersection(variable_vals,var_list)"
   ]
  },
  {
   "cell_type": "code",
   "execution_count": 9,
   "id": "1e9a9960-a565-49bd-8789-2446aebbd67f",
   "metadata": {},
   "outputs": [],
   "source": [
    "# print variables (gtx subbed in for the specific beams)\n",
    "# vars_gtx\n",
    "# variable_vals"
   ]
  },
  {
   "cell_type": "code",
   "execution_count": 21,
   "id": "ad0180b2-32bb-4877-af30-d1f30887f423",
   "metadata": {},
   "outputs": [],
   "source": [
    "if len(subagent) < 1 :\n",
    "    print('No services exist for', short_name, 'version', latest_version)\n",
    "    agent = 'NO'\n",
    "    coverage,Boundingshape = '',''\n",
    "else:\n",
    "    agent = ''\n",
    "    subdict = subagent[0]\n",
    "    if subdict['spatialSubsettingShapefile'] == 'true':\n",
    "        Boundingshape = geojson\n",
    "    else:\n",
    "        Boundingshape = ''\n",
    "    coverage = ','.join(var_list_subsetting)"
   ]
  },
  {
   "cell_type": "code",
   "execution_count": 22,
   "id": "05adc3d1-b88c-4cb1-ad23-6ec0924eeb93",
   "metadata": {},
   "outputs": [
    {
     "name": "stdout",
     "output_type": "stream",
     "text": [
      "\n",
      "API request URL:\n",
      "https://n5eil02u.ecs.nsidc.org/egi/request?short_name=ATL03&producer_granule_id=ATL03_20210715182907_03381203_005_01.h5&version=005&polygon=-50.14632142526025,70.41217197695167,-50.32210267526025,70.24946638923085,-50.25069154244775,70.12471900869032,-49.86067689401025,70.10977336216563,-49.97603333932275,70.05175706967246,-49.81123841744775,69.85593384548227,-49.97603333932275,69.6868925196855,-49.987872551252984,69.46430946458665,-50.207599113752984,69.41415021565054,-49.735187004377984,69.23182582544285,-49.625323723127984,69.10680792033415,-50.603106926252984,68.41839417137938,-50.053790520002984,68.22766675217088,-49.998858879377984,68.0188934736755,-49.801104973127984,67.89933200740279,-49.60918763541066,67.41285267153148,-49.93328431509816,67.100678171543,-49.60918763541066,66.98927461109227,-49.57516582234763,66.74687675567,-49.40487773641013,66.72518052309654,-49.35543925984763,66.6447381360437,-49.36642558797263,66.44797066124347,-49.52987706420915,66.31360064609107,-49.560515197476555,66.14900007845858,-49.994475158414055,65.86083805358744,-49.851652892789055,65.7978602741899,-49.964915887563414,65.59304210644521,-49.739696161000914,65.54760529593683,-50.036327020375914,65.3215220026102,-49.734202996938414,65.22731886515498,-49.684764520375914,65.03558286289696,-49.794627801625914,64.97058808481852,-49.421538297663645,64.81905647728986,-47.03245718247188,64.79805163813936,-46.52918839062207,64.94954040977103,-46.19959854687207,65.82791933860571,-45.9607754221497,66.80022825934762,-45.4993496408997,67.61726178615636,-45.5432949533997,68.57612701248429,-45.9607754221497,69.5111566900704,-46.47388070070614,71.13988585395734,-50.491781166583536,71.04395062694336,-50.337972572833536,70.85389110990046,-50.469808510333536,70.64015820051415,-50.14632142526025,70.41217197695167&Boundingshape={\"type\":\"FeatureCollection\",\"features\":[{\"id\":\"0\",\"type\":\"Feature\",\"properties\":{},\"geometry\":{\"type\":\"Polygon\",\"coordinates\":[[[-50.14632142526025,70.41217197695167],[-50.32210267526025,70.24946638923085],[-50.25069154244775,70.12471900869032],[-49.86067689401025,70.10977336216563],[-49.97603333932275,70.05175706967246],[-49.81123841744775,69.85593384548227],[-49.97603333932275,69.6868925196855],[-49.987872551252984,69.46430946458665],[-50.207599113752984,69.41415021565054],[-49.735187004377984,69.23182582544285],[-49.625323723127984,69.10680792033415],[-50.603106926252984,68.41839417137938],[-50.053790520002984,68.22766675217088],[-49.998858879377984,68.0188934736755],[-49.801104973127984,67.89933200740279],[-49.60918763541066,67.41285267153148],[-49.93328431509816,67.100678171543],[-49.60918763541066,66.98927461109227],[-49.57516582234763,66.74687675567],[-49.40487773641013,66.72518052309654],[-49.35543925984763,66.6447381360437],[-49.36642558797263,66.44797066124347],[-49.52987706420915,66.31360064609107],[-49.560515197476555,66.14900007845858],[-49.994475158414055,65.86083805358744],[-49.851652892789055,65.7978602741899],[-49.964915887563414,65.59304210644521],[-49.739696161000914,65.54760529593683],[-50.036327020375914,65.3215220026102],[-49.734202996938414,65.22731886515498],[-49.684764520375914,65.03558286289696],[-49.794627801625914,64.97058808481852],[-49.421538297663645,64.81905647728986],[-47.03245718247188,64.79805163813936],[-46.52918839062207,64.94954040977103],[-46.19959854687207,65.82791933860571],[-45.9607754221497,66.80022825934762],[-45.4993496408997,67.61726178615636],[-45.5432949533997,68.57612701248429],[-45.9607754221497,69.5111566900704],[-46.47388070070614,71.13988585395734],[-50.491781166583536,71.04395062694336],[-50.337972572833536,70.85389110990046],[-50.469808510333536,70.64015820051415],[-50.14632142526025,70.41217197695167]]]},\"bbox\":[-50.603106926252984,64.79805163813936,-45.4993496408997,71.13988585395734]}],\"bbox\":[-50.603106926252984,64.79805163813936,-45.4993496408997,71.13988585395734]}&Coverage=/ancillary_data/atlas_sdp_gps_epoch,/gt1l/bckgrd_atlas/bckgrd_counts,/gt1l/bckgrd_atlas/bckgrd_int_height,/gt1l/bckgrd_atlas/delta_time,/gt1l/bckgrd_atlas/pce_mframe_cnt,/gt1l/geolocation/ph_index_beg,/gt1l/geolocation/segment_dist_x,/gt1l/geolocation/segment_length,/gt1l/geophys_corr/dem_h,/gt1l/geophys_corr/geoid,/gt1l/heights/delta_time,/gt1l/heights/dist_ph_along,/gt1l/heights/h_ph,/gt1l/heights/lat_ph,/gt1l/heights/lon_ph,/gt1l/heights/pce_mframe_cnt,/gt1l/heights/quality_ph,/gt1r/bckgrd_atlas/bckgrd_counts,/gt1r/bckgrd_atlas/bckgrd_int_height,/gt1r/bckgrd_atlas/delta_time,/gt1r/bckgrd_atlas/pce_mframe_cnt,/gt1r/geolocation/ph_index_beg,/gt1r/geolocation/segment_dist_x,/gt1r/geolocation/segment_length,/gt1r/geophys_corr/dem_h,/gt1r/geophys_corr/geoid,/gt1r/heights/delta_time,/gt1r/heights/dist_ph_along,/gt1r/heights/h_ph,/gt1r/heights/lat_ph,/gt1r/heights/lon_ph,/gt1r/heights/pce_mframe_cnt,/gt1r/heights/quality_ph,/gt2l/bckgrd_atlas/bckgrd_counts,/gt2l/bckgrd_atlas/bckgrd_int_height,/gt2l/bckgrd_atlas/delta_time,/gt2l/bckgrd_atlas/pce_mframe_cnt,/gt2l/geolocation/ph_index_beg,/gt2l/geolocation/segment_dist_x,/gt2l/geolocation/segment_length,/gt2l/geophys_corr/dem_h,/gt2l/geophys_corr/geoid,/gt2l/heights/delta_time,/gt2l/heights/dist_ph_along,/gt2l/heights/h_ph,/gt2l/heights/lat_ph,/gt2l/heights/lon_ph,/gt2l/heights/pce_mframe_cnt,/gt2l/heights/quality_ph,/gt2r/bckgrd_atlas/bckgrd_counts,/gt2r/bckgrd_atlas/bckgrd_int_height,/gt2r/bckgrd_atlas/delta_time,/gt2r/bckgrd_atlas/pce_mframe_cnt,/gt2r/geolocation/ph_index_beg,/gt2r/geolocation/segment_dist_x,/gt2r/geolocation/segment_length,/gt2r/geophys_corr/dem_h,/gt2r/geophys_corr/geoid,/gt2r/heights/delta_time,/gt2r/heights/dist_ph_along,/gt2r/heights/h_ph,/gt2r/heights/lat_ph,/gt2r/heights/lon_ph,/gt2r/heights/pce_mframe_cnt,/gt2r/heights/quality_ph,/gt3l/bckgrd_atlas/bckgrd_counts,/gt3l/bckgrd_atlas/bckgrd_int_height,/gt3l/bckgrd_atlas/delta_time,/gt3l/bckgrd_atlas/pce_mframe_cnt,/gt3l/geolocation/ph_index_beg,/gt3l/geolocation/segment_dist_x,/gt3l/geolocation/segment_length,/gt3l/geophys_corr/dem_h,/gt3l/geophys_corr/geoid,/gt3l/heights/delta_time,/gt3l/heights/dist_ph_along,/gt3l/heights/h_ph,/gt3l/heights/lat_ph,/gt3l/heights/lon_ph,/gt3l/heights/pce_mframe_cnt,/gt3l/heights/quality_ph,/gt3r/bckgrd_atlas/bckgrd_counts,/gt3r/bckgrd_atlas/bckgrd_int_height,/gt3r/bckgrd_atlas/delta_time,/gt3r/bckgrd_atlas/pce_mframe_cnt,/gt3r/geolocation/ph_index_beg,/gt3r/geolocation/segment_dist_x,/gt3r/geolocation/segment_length,/gt3r/geophys_corr/dem_h,/gt3r/geophys_corr/geoid,/gt3r/heights/delta_time,/gt3r/heights/dist_ph_along,/gt3r/heights/h_ph,/gt3r/heights/lat_ph,/gt3r/heights/lon_ph,/gt3r/heights/pce_mframe_cnt,/gt3r/heights/quality_ph,/orbit_info/cycle_number,/orbit_info/rgt,/orbit_info/sc_orient&page_size=100&request_mode=stream&email=yes&page_num=1\n"
     ]
    }
   ],
   "source": [
    "#Set NSIDC data access base URL\n",
    "base_url = 'https://n5eil02u.ecs.nsidc.org/egi/request'\n",
    "page_size = 100\n",
    "request_mode = 'stream'\n",
    "page_num = math.ceil(len(granules)/page_size)\n",
    "\n",
    "param_dict = {'short_name': short_name, \n",
    "              'producer_granule_id': granule_id,\n",
    "              'version': version,  \n",
    "              'polygon': polygon,\n",
    "              'Boundingshape': Boundingshape,  \n",
    "              'Coverage': coverage, \n",
    "              'page_size': page_size, \n",
    "              'request_mode': request_mode, \n",
    "              'agent': agent, \n",
    "              'email': 'yes'}\n",
    "\n",
    "#Remove blank key-value-pairs\n",
    "param_dict = {k: v for k, v in param_dict.items() if v != ''}\n",
    "\n",
    "#Convert to string\n",
    "param_string = '&'.join(\"{!s}={!r}\".format(k,v) for (k,v) in param_dict.items())\n",
    "param_string = param_string.replace(\"'\",\"\")\n",
    "\n",
    "#Print API base URL + request parameters\n",
    "endpoint_list = [] \n",
    "for i in range(page_num):\n",
    "    page_val = i + 1\n",
    "    API_request = api_request = f'{base_url}?{param_string}&page_num={page_val}'\n",
    "    endpoint_list.append(API_request)\n",
    "\n",
    "print('\\nAPI request URL:')\n",
    "print(*endpoint_list, sep = \"\\n\") "
   ]
  },
  {
   "cell_type": "code",
   "execution_count": 12,
   "id": "f7c9c882-3ab6-4dde-a4d4-95725894dda0",
   "metadata": {},
   "outputs": [
    {
     "name": "stdout",
     "output_type": "stream",
     "text": [
      "Order:  1\n",
      "Requesting...\n",
      "HTTP response from order response URL:  200\n",
      "Downloading...\n",
      "Data request 1 is complete.\n"
     ]
    }
   ],
   "source": [
    "# Create an output folder if the folder does not already exist.\n",
    "\n",
    "path = str(os.getcwd() + granule_output_path)\n",
    "if not os.path.exists(path):\n",
    "    os.mkdir(path)\n",
    "\n",
    "# Different access methods depending on request mode:\n",
    "\n",
    "for i in range(page_num):\n",
    "    page_val = i + 1\n",
    "    print('Order: ', page_val)\n",
    "    print('Requesting...')\n",
    "    request = session.get(base_url, params=param_dict)\n",
    "    print('HTTP response from order response URL: ', request.status_code)\n",
    "    request.raise_for_status()\n",
    "    d = request.headers['content-disposition']\n",
    "    fname = re.findall('filename=(.+)', d)\n",
    "    dirname = os.path.join(path,fname[0].strip('\\\"'))\n",
    "    print('Downloading...')\n",
    "    open(dirname, 'wb').write(request.content)\n",
    "    print('Data request', page_val, 'is complete.')\n",
    "\n",
    "# Unzip outputs\n",
    "for z in os.listdir(path): \n",
    "    if z.endswith('.zip'): \n",
    "        zip_name = path + \"/\" + z \n",
    "        zip_ref = zipfile.ZipFile(zip_name) \n",
    "        zip_ref.extractall(path) \n",
    "        zip_ref.close() \n",
    "        os.remove(zip_name) \n",
    "            \n",
    "# Clean up Outputs folder by removing individual granule folders \n",
    "for root, dirs, files in os.walk(path, topdown=False):\n",
    "    for file in files:\n",
    "        try:\n",
    "            shutil.move(os.path.join(root, file), path)\n",
    "        except OSError:\n",
    "            pass\n",
    "    for name in dirs:\n",
    "        os.rmdir(os.path.join(root, name))    "
   ]
  },
  {
   "cell_type": "code",
   "execution_count": null,
   "id": "d34a4c9c-ff19-4c05-8f3d-d89f7286f001",
   "metadata": {},
   "outputs": [],
   "source": []
  },
  {
   "cell_type": "code",
   "execution_count": null,
   "id": "d85874e2-c0a6-4f48-9e16-c3bc3f9a9ff4",
   "metadata": {},
   "outputs": [],
   "source": []
  },
  {
   "cell_type": "code",
   "execution_count": 13,
   "id": "e3f86a02-1074-4938-b7be-cdf55c093f4a",
   "metadata": {},
   "outputs": [
    {
     "data": {
      "text/plain": [
       "['banana', 'orange']"
      ]
     },
     "execution_count": 13,
     "metadata": {},
     "output_type": "execute_result"
    }
   ],
   "source": [
    "available = ['apple','banana','orange']\n",
    "requested = ['orange','banana','peach']\n",
    "def intersection(lst1, lst2):\n",
    "    lst3 = [value for value in lst1 if value in lst2]\n",
    "    return lst3\n",
    "intersection(available,requested)"
   ]
  },
  {
   "cell_type": "code",
   "execution_count": null,
   "id": "8012e1e2-d5f7-476d-b51d-70f21436cca1",
   "metadata": {},
   "outputs": [],
   "source": []
  },
  {
   "cell_type": "code",
   "execution_count": null,
   "id": "aa1b32a5-bfc2-4a07-b0db-f9120a3dd8b8",
   "metadata": {},
   "outputs": [],
   "source": []
  },
  {
   "cell_type": "code",
   "execution_count": null,
   "id": "9c2ff040-75e5-4fa8-85c9-2bdc4689a0b8",
   "metadata": {},
   "outputs": [],
   "source": []
  },
  {
   "cell_type": "code",
   "execution_count": 18,
   "id": "85d9bc64-b5df-4303-bffe-7f2c5aa64fb1",
   "metadata": {},
   "outputs": [
    {
     "data": {
      "text/plain": [
       "'/ancillary_data/atlas_sdp_gps_epoch,/orbit_info/rgt,/orbit_info/cycle_number,/orbit_info/sc_orient,/gt1l/geolocation/ph_index_beg,/gt1r/geolocation/ph_index_beg,/gt2l/geolocation/ph_index_beg,/gt2r/geolocation/ph_index_beg,/gt3l/geolocation/ph_index_beg,/gt3r/geolocation/ph_index_beg,/gt1l/geolocation/segment_dist_x,/gt1r/geolocation/segment_dist_x,/gt2l/geolocation/segment_dist_x,/gt2r/geolocation/segment_dist_x,/gt3l/geolocation/segment_dist_x,/gt3r/geolocation/segment_dist_x,/gt1l/geolocation/segment_length,/gt1r/geolocation/segment_length,/gt2l/geolocation/segment_length,/gt2r/geolocation/segment_length,/gt3l/geolocation/segment_length,/gt3r/geolocation/segment_length,/gt1l/geophys_corr/dem_h,/gt1r/geophys_corr/dem_h,/gt2l/geophys_corr/dem_h,/gt2r/geophys_corr/dem_h,/gt3l/geophys_corr/dem_h,/gt3r/geophys_corr/dem_h,/gt1l/geophys_corr/geoid,/gt1r/geophys_corr/geoid,/gt2l/geophys_corr/geoid,/gt2r/geophys_corr/geoid,/gt3l/geophys_corr/geoid,/gt3r/geophys_corr/geoid,/gt1l/bckgrd_atlas/pce_mframe_cnt,/gt1r/bckgrd_atlas/pce_mframe_cnt,/gt2l/bckgrd_atlas/pce_mframe_cnt,/gt2r/bckgrd_atlas/pce_mframe_cnt,/gt3l/bckgrd_atlas/pce_mframe_cnt,/gt3r/bckgrd_atlas/pce_mframe_cnt,/gt1l/bckgrd_atlas/bckgrd_counts,/gt1r/bckgrd_atlas/bckgrd_counts,/gt2l/bckgrd_atlas/bckgrd_counts,/gt2r/bckgrd_atlas/bckgrd_counts,/gt3l/bckgrd_atlas/bckgrd_counts,/gt3r/bckgrd_atlas/bckgrd_counts,/gt1l/bckgrd_atlas/bckgrd_int_height,/gt1r/bckgrd_atlas/bckgrd_int_height,/gt2l/bckgrd_atlas/bckgrd_int_height,/gt2r/bckgrd_atlas/bckgrd_int_height,/gt3l/bckgrd_atlas/bckgrd_int_height,/gt3r/bckgrd_atlas/bckgrd_int_height,/gt1l/bckgrd_atlas/delta_time,/gt1r/bckgrd_atlas/delta_time,/gt2l/bckgrd_atlas/delta_time,/gt2r/bckgrd_atlas/delta_time,/gt3l/bckgrd_atlas/delta_time,/gt3r/bckgrd_atlas/delta_time,/gt1l/heights/lat_ph,/gt1r/heights/lat_ph,/gt2l/heights/lat_ph,/gt2r/heights/lat_ph,/gt3l/heights/lat_ph,/gt3r/heights/lat_ph,/gt1l/heights/lon_ph,/gt1r/heights/lon_ph,/gt2l/heights/lon_ph,/gt2r/heights/lon_ph,/gt3l/heights/lon_ph,/gt3r/heights/lon_ph,/gt1l/heights/h_ph,/gt1r/heights/h_ph,/gt2l/heights/h_ph,/gt2r/heights/h_ph,/gt3l/heights/h_ph,/gt3r/heights/h_ph,/gt1l/heights/dist_ph_along,/gt1r/heights/dist_ph_along,/gt2l/heights/dist_ph_along,/gt2r/heights/dist_ph_along,/gt3l/heights/dist_ph_along,/gt3r/heights/dist_ph_along,/gt1l/heights/delta_time,/gt1r/heights/delta_time,/gt2l/heights/delta_time,/gt2r/heights/delta_time,/gt3l/heights/delta_time,/gt3r/heights/delta_time,/gt1l/heights/pce_mframe_cnt,/gt1r/heights/pce_mframe_cnt,/gt2l/heights/pce_mframe_cnt,/gt2r/heights/pce_mframe_cnt,/gt3l/heights/pce_mframe_cnt,/gt3r/heights/pce_mframe_cnt,/gt1l/heights/quality_ph,/gt1r/heights/quality_ph,/gt2l/heights/quality_ph,/gt2r/heights/quality_ph,/gt3l/heights/quality_ph,/gt3r/heights/quality_ph'"
      ]
     },
     "execution_count": 18,
     "metadata": {},
     "output_type": "execute_result"
    }
   ],
   "source": [
    "','.join(coverage)"
   ]
  },
  {
   "cell_type": "code",
   "execution_count": null,
   "id": "176037b9-62a1-4100-868d-67b8948aa274",
   "metadata": {},
   "outputs": [],
   "source": []
  },
  {
   "cell_type": "code",
   "execution_count": 11,
   "id": "19575331-9aca-4f57-898a-1a5b06918fbf",
   "metadata": {},
   "outputs": [
    {
     "name": "stdout",
     "output_type": "stream",
     "text": [
      "There will be 1 total order(s) processed for our ATL03 request.\n"
     ]
    }
   ],
   "source": [
    "#Set NSIDC data access base URL\n",
    "base_url = 'https://n5eil02u.ecs.nsidc.org/egi/request'\n",
    "\n",
    "#Set the request mode to asynchronous if the number of granules is over 100, otherwise synchronous is enabled by default\n",
    "if len(granules) > 100:\n",
    "    request_mode = 'async'\n",
    "    page_size = 2000\n",
    "else: \n",
    "    page_size = 100\n",
    "    request_mode = 'stream'\n",
    "\n",
    "#Determine number of orders needed for requests over 2000 granules. \n",
    "page_num = math.ceil(len(granules)/page_size)\n",
    "\n",
    "print('There will be', page_num, 'total order(s) processed for our', short_name, 'request.')"
   ]
  },
  {
   "cell_type": "code",
   "execution_count": null,
   "id": "5e7b1681-3577-4536-86f3-81ea1d0e7af1",
   "metadata": {},
   "outputs": [],
   "source": []
  },
  {
   "cell_type": "code",
   "execution_count": 14,
   "id": "f954c937-16bd-4055-b241-b0259119f618",
   "metadata": {},
   "outputs": [],
   "source": [
    "#Set NSIDC data access base URL\n",
    "base_url = 'https://n5eil02u.ecs.nsidc.org/egi/request'\n",
    "page_size = 100\n",
    "request_mode = 'stream'\n",
    "page_num = math.ceil(len(granules)/page_size)\n",
    "\n",
    "param_dict = {'short_name': short_name, \n",
    "              'version': version,  \n",
    "              'polygon': polygon,\n",
    "              'Boundingshape': Boundingshape,  \n",
    "              'Coverage': coverage, \n",
    "              'page_size': page_size, \n",
    "              'request_mode': request_mode, \n",
    "              'agent': agent, \n",
    "              'email': 'yes'}\n",
    "\n",
    "#Remove blank key-value-pairs\n",
    "param_dict = {k: v for k, v in param_dict.items() if v != ''}"
   ]
  },
  {
   "cell_type": "code",
   "execution_count": 15,
   "id": "44ab1ad4-6c24-4551-a689-e024719ade0a",
   "metadata": {},
   "outputs": [
    {
     "data": {
      "text/plain": [
       "{'short_name': 'ATL03',\n",
       " 'version': '005',\n",
       " 'polygon': '-50.14632142526025,70.41217197695167,-50.32210267526025,70.24946638923085,-50.25069154244775,70.12471900869032,-49.86067689401025,70.10977336216563,-49.97603333932275,70.05175706967246,-49.81123841744775,69.85593384548227,-49.97603333932275,69.6868925196855,-49.987872551252984,69.46430946458665,-50.207599113752984,69.41415021565054,-49.735187004377984,69.23182582544285,-49.625323723127984,69.10680792033415,-50.603106926252984,68.41839417137938,-50.053790520002984,68.22766675217088,-49.998858879377984,68.0188934736755,-49.801104973127984,67.89933200740279,-49.60918763541066,67.41285267153148,-49.93328431509816,67.100678171543,-49.60918763541066,66.98927461109227,-49.57516582234763,66.74687675567,-49.40487773641013,66.72518052309654,-49.35543925984763,66.6447381360437,-49.36642558797263,66.44797066124347,-49.52987706420915,66.31360064609107,-49.560515197476555,66.14900007845858,-49.994475158414055,65.86083805358744,-49.851652892789055,65.7978602741899,-49.964915887563414,65.59304210644521,-49.739696161000914,65.54760529593683,-50.036327020375914,65.3215220026102,-49.734202996938414,65.22731886515498,-49.684764520375914,65.03558286289696,-49.794627801625914,64.97058808481852,-49.421538297663645,64.81905647728986,-47.03245718247188,64.79805163813936,-46.52918839062207,64.94954040977103,-46.19959854687207,65.82791933860571,-45.9607754221497,66.80022825934762,-45.4993496408997,67.61726178615636,-45.5432949533997,68.57612701248429,-45.9607754221497,69.5111566900704,-46.47388070070614,71.13988585395734,-50.491781166583536,71.04395062694336,-50.337972572833536,70.85389110990046,-50.469808510333536,70.64015820051415,-50.14632142526025,70.41217197695167',\n",
       " 'Boundingshape': '{\"type\":\"FeatureCollection\",\"features\":[{\"id\":\"0\",\"type\":\"Feature\",\"properties\":{},\"geometry\":{\"type\":\"Polygon\",\"coordinates\":[[[-50.14632142526025,70.41217197695167],[-50.32210267526025,70.24946638923085],[-50.25069154244775,70.12471900869032],[-49.86067689401025,70.10977336216563],[-49.97603333932275,70.05175706967246],[-49.81123841744775,69.85593384548227],[-49.97603333932275,69.6868925196855],[-49.987872551252984,69.46430946458665],[-50.207599113752984,69.41415021565054],[-49.735187004377984,69.23182582544285],[-49.625323723127984,69.10680792033415],[-50.603106926252984,68.41839417137938],[-50.053790520002984,68.22766675217088],[-49.998858879377984,68.0188934736755],[-49.801104973127984,67.89933200740279],[-49.60918763541066,67.41285267153148],[-49.93328431509816,67.100678171543],[-49.60918763541066,66.98927461109227],[-49.57516582234763,66.74687675567],[-49.40487773641013,66.72518052309654],[-49.35543925984763,66.6447381360437],[-49.36642558797263,66.44797066124347],[-49.52987706420915,66.31360064609107],[-49.560515197476555,66.14900007845858],[-49.994475158414055,65.86083805358744],[-49.851652892789055,65.7978602741899],[-49.964915887563414,65.59304210644521],[-49.739696161000914,65.54760529593683],[-50.036327020375914,65.3215220026102],[-49.734202996938414,65.22731886515498],[-49.684764520375914,65.03558286289696],[-49.794627801625914,64.97058808481852],[-49.421538297663645,64.81905647728986],[-47.03245718247188,64.79805163813936],[-46.52918839062207,64.94954040977103],[-46.19959854687207,65.82791933860571],[-45.9607754221497,66.80022825934762],[-45.4993496408997,67.61726178615636],[-45.5432949533997,68.57612701248429],[-45.9607754221497,69.5111566900704],[-46.47388070070614,71.13988585395734],[-50.491781166583536,71.04395062694336],[-50.337972572833536,70.85389110990046],[-50.469808510333536,70.64015820051415],[-50.14632142526025,70.41217197695167]]]},\"bbox\":[-50.603106926252984,64.79805163813936,-45.4993496408997,71.13988585395734]}],\"bbox\":[-50.603106926252984,64.79805163813936,-45.4993496408997,71.13988585395734]}',\n",
       " 'Coverage': ['/ancillary_data/atlas_sdp_gps_epoch',\n",
       "  '/orbit_info/rgt',\n",
       "  '/orbit_info/cycle_number',\n",
       "  '/orbit_info/sc_orient',\n",
       "  '/gt1l/geolocation/ph_index_beg',\n",
       "  '/gt1r/geolocation/ph_index_beg',\n",
       "  '/gt2l/geolocation/ph_index_beg',\n",
       "  '/gt2r/geolocation/ph_index_beg',\n",
       "  '/gt3l/geolocation/ph_index_beg',\n",
       "  '/gt3r/geolocation/ph_index_beg',\n",
       "  '/gt1l/geolocation/segment_dist_x',\n",
       "  '/gt1r/geolocation/segment_dist_x',\n",
       "  '/gt2l/geolocation/segment_dist_x',\n",
       "  '/gt2r/geolocation/segment_dist_x',\n",
       "  '/gt3l/geolocation/segment_dist_x',\n",
       "  '/gt3r/geolocation/segment_dist_x',\n",
       "  '/gt1l/geolocation/segment_length',\n",
       "  '/gt1r/geolocation/segment_length',\n",
       "  '/gt2l/geolocation/segment_length',\n",
       "  '/gt2r/geolocation/segment_length',\n",
       "  '/gt3l/geolocation/segment_length',\n",
       "  '/gt3r/geolocation/segment_length',\n",
       "  '/gt1l/geophys_corr/dem_h',\n",
       "  '/gt1r/geophys_corr/dem_h',\n",
       "  '/gt2l/geophys_corr/dem_h',\n",
       "  '/gt2r/geophys_corr/dem_h',\n",
       "  '/gt3l/geophys_corr/dem_h',\n",
       "  '/gt3r/geophys_corr/dem_h',\n",
       "  '/gt1l/geophys_corr/geoid',\n",
       "  '/gt1r/geophys_corr/geoid',\n",
       "  '/gt2l/geophys_corr/geoid',\n",
       "  '/gt2r/geophys_corr/geoid',\n",
       "  '/gt3l/geophys_corr/geoid',\n",
       "  '/gt3r/geophys_corr/geoid',\n",
       "  '/gt1l/bckgrd_atlas/pce_mframe_cnt',\n",
       "  '/gt1r/bckgrd_atlas/pce_mframe_cnt',\n",
       "  '/gt2l/bckgrd_atlas/pce_mframe_cnt',\n",
       "  '/gt2r/bckgrd_atlas/pce_mframe_cnt',\n",
       "  '/gt3l/bckgrd_atlas/pce_mframe_cnt',\n",
       "  '/gt3r/bckgrd_atlas/pce_mframe_cnt',\n",
       "  '/gt1l/bckgrd_atlas/bckgrd_counts',\n",
       "  '/gt1r/bckgrd_atlas/bckgrd_counts',\n",
       "  '/gt2l/bckgrd_atlas/bckgrd_counts',\n",
       "  '/gt2r/bckgrd_atlas/bckgrd_counts',\n",
       "  '/gt3l/bckgrd_atlas/bckgrd_counts',\n",
       "  '/gt3r/bckgrd_atlas/bckgrd_counts',\n",
       "  '/gt1l/bckgrd_atlas/bckgrd_int_height',\n",
       "  '/gt1r/bckgrd_atlas/bckgrd_int_height',\n",
       "  '/gt2l/bckgrd_atlas/bckgrd_int_height',\n",
       "  '/gt2r/bckgrd_atlas/bckgrd_int_height',\n",
       "  '/gt3l/bckgrd_atlas/bckgrd_int_height',\n",
       "  '/gt3r/bckgrd_atlas/bckgrd_int_height',\n",
       "  '/gt1l/bckgrd_atlas/delta_time',\n",
       "  '/gt1r/bckgrd_atlas/delta_time',\n",
       "  '/gt2l/bckgrd_atlas/delta_time',\n",
       "  '/gt2r/bckgrd_atlas/delta_time',\n",
       "  '/gt3l/bckgrd_atlas/delta_time',\n",
       "  '/gt3r/bckgrd_atlas/delta_time',\n",
       "  '/gt1l/heights/lat_ph',\n",
       "  '/gt1r/heights/lat_ph',\n",
       "  '/gt2l/heights/lat_ph',\n",
       "  '/gt2r/heights/lat_ph',\n",
       "  '/gt3l/heights/lat_ph',\n",
       "  '/gt3r/heights/lat_ph',\n",
       "  '/gt1l/heights/lon_ph',\n",
       "  '/gt1r/heights/lon_ph',\n",
       "  '/gt2l/heights/lon_ph',\n",
       "  '/gt2r/heights/lon_ph',\n",
       "  '/gt3l/heights/lon_ph',\n",
       "  '/gt3r/heights/lon_ph',\n",
       "  '/gt1l/heights/h_ph',\n",
       "  '/gt1r/heights/h_ph',\n",
       "  '/gt2l/heights/h_ph',\n",
       "  '/gt2r/heights/h_ph',\n",
       "  '/gt3l/heights/h_ph',\n",
       "  '/gt3r/heights/h_ph',\n",
       "  '/gt1l/heights/dist_ph_along',\n",
       "  '/gt1r/heights/dist_ph_along',\n",
       "  '/gt2l/heights/dist_ph_along',\n",
       "  '/gt2r/heights/dist_ph_along',\n",
       "  '/gt3l/heights/dist_ph_along',\n",
       "  '/gt3r/heights/dist_ph_along',\n",
       "  '/gt1l/heights/delta_time',\n",
       "  '/gt1r/heights/delta_time',\n",
       "  '/gt2l/heights/delta_time',\n",
       "  '/gt2r/heights/delta_time',\n",
       "  '/gt3l/heights/delta_time',\n",
       "  '/gt3r/heights/delta_time',\n",
       "  '/gt1l/heights/pce_mframe_cnt',\n",
       "  '/gt1r/heights/pce_mframe_cnt',\n",
       "  '/gt2l/heights/pce_mframe_cnt',\n",
       "  '/gt2r/heights/pce_mframe_cnt',\n",
       "  '/gt3l/heights/pce_mframe_cnt',\n",
       "  '/gt3r/heights/pce_mframe_cnt',\n",
       "  '/gt1l/heights/quality_ph',\n",
       "  '/gt1r/heights/quality_ph',\n",
       "  '/gt2l/heights/quality_ph',\n",
       "  '/gt2r/heights/quality_ph',\n",
       "  '/gt3l/heights/quality_ph',\n",
       "  '/gt3r/heights/quality_ph'],\n",
       " 'page_size': 100,\n",
       " 'request_mode': 'stream',\n",
       " 'email': 'yes'}"
      ]
     },
     "execution_count": 15,
     "metadata": {},
     "output_type": "execute_result"
    }
   ],
   "source": [
    "param_dict"
   ]
  },
  {
   "cell_type": "code",
   "execution_count": null,
   "id": "67913c52-80f0-4f13-a189-4c0af217bebb",
   "metadata": {},
   "outputs": [],
   "source": []
  },
  {
   "cell_type": "code",
   "execution_count": null,
   "id": "d1c999bf-130b-4cdc-97a5-e33f84de869a",
   "metadata": {},
   "outputs": [],
   "source": []
  },
  {
   "cell_type": "code",
   "execution_count": null,
   "id": "43bc8555-4b90-46b7-ae78-c655083847e7",
   "metadata": {},
   "outputs": [],
   "source": []
  },
  {
   "cell_type": "code",
   "execution_count": null,
   "id": "52174be2-9118-402c-8dbd-c08405b1a5aa",
   "metadata": {},
   "outputs": [],
   "source": []
  },
  {
   "cell_type": "code",
   "execution_count": null,
   "id": "0926bb33-4358-485f-8d98-b7e7e5412499",
   "metadata": {},
   "outputs": [],
   "source": []
  },
  {
   "cell_type": "code",
   "execution_count": null,
   "id": "6281cac5-5383-4b0b-ba14-4350fd795b3b",
   "metadata": {},
   "outputs": [],
   "source": []
  },
  {
   "cell_type": "code",
   "execution_count": null,
   "id": "b917bd8a-da9f-47ae-9608-2672b874e1cb",
   "metadata": {},
   "outputs": [],
   "source": [
    "sys.path.insert(1, '/Users/parndt/Vault/') # the path here needs to match the one on which earthdatacreds.py is stored\n",
    "import earthdatacreds\n",
    "print(earthdatacreds.name,earthdatacreds.organization,earthdatacreds.uid,earthdatacreds.email,sep=' - ')\n",
    "\n",
    "cmr_collections_url = 'https://cmr.earthdata.nasa.gov/search/collections.json'\n",
    "short_name = 'ATL03'\n",
    "response = requests.get(cmr_collections_url, params={'short_name':short_name})\n",
    "results = json.loads(response.content)\n",
    "\n",
    "# Find all instances of 'version_id' in metadata and print most recent version number\n",
    "versions = [el['version_id'] for el in results['feed']['entry']]\n",
    "latest_version = max(versions)\n",
    "print('The most recent version of ', short_name, ' is ', latest_version)"
   ]
  },
  {
   "cell_type": "code",
   "execution_count": null,
   "id": "61902a6e-12fe-4317-af12-232309dbeb8e",
   "metadata": {},
   "outputs": [],
   "source": []
  },
  {
   "cell_type": "code",
   "execution_count": null,
   "id": "d75a7459-1aa3-4f03-ba0f-0d2261fbe7a5",
   "metadata": {},
   "outputs": [],
   "source": [
    "# example from greenland 2021\n",
    "start_date = '2021-07-15'\n",
    "start_time = '00:00:00'\n",
    "end_date = '2021-07-15'\n",
    "end_time = '23:59:59'\n",
    "temporal = start_date + 'T' + start_time + 'Z' + ',' + end_date + 'T' + end_time + 'Z'\n",
    "bbox = [-51.0, 65, -48.0, 70]\n",
    "bb = '%g,%g,%g,%g' % tuple(bbox)\n",
    "bounding_box = '-51.0,65,-48.0,70'\n",
    "print(temporal)\n",
    "print(bb)"
   ]
  },
  {
   "cell_type": "code",
   "execution_count": null,
   "id": "2c500022-7a92-43da-9fb4-bf36fb79dee5",
   "metadata": {},
   "outputs": [],
   "source": [
    "granule_search_url = 'https://cmr.earthdata.nasa.gov/search/granules'\n",
    "search_params = {\n",
    "    'short_name': short_name,\n",
    "    # 'version': latest_version,\n",
    "    # 'temporal': temporal,\n",
    "    'page_size': 100,\n",
    "    'page_num': 1,\n",
    "    'producer_granule_id': 'ATL03_20210715182907_03381203_005_01.h5',\n",
    "    #'bounding_box': bounding_box\n",
    "    }\n",
    "granules = []\n",
    "headers={'Accept': 'application/json'}\n",
    "while True:\n",
    "    response = requests.get(granule_search_url, params=search_params, headers=headers)\n",
    "    results = json.loads(response.content)\n",
    "    if len(results['feed']['entry']) == 0:\n",
    "        # Out of results, so break out of loop\n",
    "        break\n",
    "    # Collect results and increment page_num\n",
    "    granules.extend(results['feed']['entry'])\n",
    "    search_params['page_num'] += 1\n",
    "print('There are', len(granules), 'granules of', short_name, 'version', latest_version, 'over this area/time of interest.')\n",
    "granule_sizes = [float(granule['granule_size']) for granule in granules]\n",
    "print(f'The average size of each granule is {mean(granule_sizes):.2f} MB.')\n",
    "print(f'The total size of all {len(granules)} granules is {sum(granule_sizes):.2f} MB.')"
   ]
  },
  {
   "cell_type": "code",
   "execution_count": null,
   "id": "b2d5d026-62d4-44ef-909d-8ed31bf621cb",
   "metadata": {},
   "outputs": [],
   "source": [
    "results"
   ]
  },
  {
   "cell_type": "code",
   "execution_count": null,
   "id": "92b8be3c-0519-4031-b57f-4545349902a6",
   "metadata": {},
   "outputs": [],
   "source": []
  },
  {
   "cell_type": "code",
   "execution_count": null,
   "id": "40d6dbba-1be3-4b61-b3d8-c85b82eda5da",
   "metadata": {},
   "outputs": [],
   "source": []
  },
  {
   "cell_type": "code",
   "execution_count": null,
   "id": "89f6cdd1-2249-47ce-b25a-cec8a2599ea5",
   "metadata": {},
   "outputs": [],
   "source": []
  },
  {
   "cell_type": "code",
   "execution_count": null,
   "id": "a73a389a-18cf-4cad-8af1-9d7bcc9ad43a",
   "metadata": {},
   "outputs": [],
   "source": []
  },
  {
   "cell_type": "code",
   "execution_count": null,
   "id": "0ea18337-e70a-4155-bad5-5b8535a39665",
   "metadata": {},
   "outputs": [],
   "source": []
  },
  {
   "cell_type": "code",
   "execution_count": null,
   "id": "051b414f-43aa-4d8d-bd07-480fc1414d1f",
   "metadata": {},
   "outputs": [],
   "source": [
    "cmr_collections_url = 'https://cmr.earthdata.nasa.gov/search/collections.json'\n",
    "short_name = 'ATL03'\n",
    "response = requests.get(cmr_collections_url, params={'short_name':short_name})\n",
    "results = json.loads(response.content)\n",
    "\n",
    "# Find all instances of 'version_id' in metadata and print most recent version number\n",
    "versions = [el['version_id'] for el in results['feed']['entry']]\n",
    "latest_version = max(versions)\n",
    "print('The most recent version of ', short_name, ' is ', latest_version)"
   ]
  },
  {
   "cell_type": "code",
   "execution_count": null,
   "id": "ed934520-2709-48fe-b49a-c69a5930a706",
   "metadata": {},
   "outputs": [],
   "source": [
    "sys.path.insert(1, '/Users/parndt/Vault/') # the path here needs to match the one on which earthdatacreds.py is stored\n",
    "import earthdatacreds\n",
    "print(earthdatacreds.name,earthdatacreds.organization,earthdatacreds.uid,earthdatacreds.email,sep=' - ')\n",
    "\n",
    "short_name = 'ATL03'\n",
    "# Get json response from CMR collection metadata\n",
    "params = {\n",
    "    'short_name': short_name\n",
    "}\n",
    "cmr_collections_url = 'https://cmr.earthdata.nasa.gov/search/collections.json'\n",
    "response = requests.get(cmr_collections_url, params=params)\n",
    "results = json.loads(response.content)\n",
    "\n",
    "# Find all instances of 'version_id' in metadata and print most recent version number\n",
    "versions = [el['version_id'] for el in results['feed']['entry']]\n",
    "latest_version = max(versions)\n",
    "print('The most recent version of ', short_name, ' is ', latest_version)"
   ]
  }
 ],
 "metadata": {
  "kernelspec": {
   "display_name": "icepyx-env",
   "language": "python",
   "name": "icepyx-env"
  },
  "language_info": {
   "codemirror_mode": {
    "name": "ipython",
    "version": 3
   },
   "file_extension": ".py",
   "mimetype": "text/x-python",
   "name": "python",
   "nbconvert_exporter": "python",
   "pygments_lexer": "ipython3",
   "version": "3.9.4"
  }
 },
 "nbformat": 4,
 "nbformat_minor": 5
}
